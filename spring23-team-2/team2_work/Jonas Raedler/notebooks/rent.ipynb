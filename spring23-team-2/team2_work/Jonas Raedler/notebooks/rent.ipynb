{
 "cells": [
  {
   "cell_type": "code",
   "execution_count": 1,
   "id": "c9ed9795",
   "metadata": {},
   "outputs": [],
   "source": [
    "import pandas as pd\n",
    "import matplotlib.pyplot as plt\n",
    "import numpy as np\n",
    "\n",
    "import warnings\n",
    "warnings.filterwarnings('ignore')"
   ]
  },
  {
   "cell_type": "code",
   "execution_count": 14,
   "id": "02555ced",
   "metadata": {},
   "outputs": [],
   "source": [
    "PATH = \"../data/census/rent/\"\n",
    "df_21 = pd.read_csv(PATH + \"median_rent_17to21.csv\")\n",
    "df_16 = pd.read_csv(PATH + \"median_rent_12to16.csv\")"
   ]
  },
  {
   "cell_type": "code",
   "execution_count": 15,
   "id": "cc4fe1c1",
   "metadata": {},
   "outputs": [],
   "source": [
    "# White\n",
    "# Black or African American\n",
    "# American Indian and Alaska Native\n",
    "# Asian\n",
    "# Native Hawaiian and Other Pacific Islander\n",
    "# Some Other Race alone\n",
    "\n",
    "def fix_labels(df):\n",
    "    df[\"Label (Grouping)\"] = df[\"Label (Grouping)\"].map(lambda x: x.lstrip('\\xa0'))\n",
    "\n",
    "    \n",
    "def get_topics_idcs(df):\n",
    "    return df[df.isna().any(axis=1)].index\n",
    "\n",
    "\n",
    "def get_topics(df):\n",
    "    # Get IDCS of Grouping Rows\n",
    "    idcs = get_topics_idcs(df)\n",
    "    idx_pairs = [(idcs[i], idcs[i+1]) if i < (len(idcs) - 1) else (idcs[i],) for i in range(len(idcs))]\n",
    "    \n",
    "    # Format the labels\n",
    "    fix_labels(df)\n",
    "    \n",
    "    labels = df.iloc[idcs][\"Label (Grouping)\"].values\n",
    "    return list(zip(idx_pairs, labels))\n",
    "\n",
    "\n",
    "def get_all_sub_dfs(df):\n",
    "    \n",
    "    all_subtopics = get_topics(df)\n",
    "    topic = {}\n",
    "    subtopics = []\n",
    "    \n",
    "    for subtopic_idcs, subtopic in all_subtopics:\n",
    "        \n",
    "        if len(subtopic_idcs) == 2:\n",
    "            topic[subtopic] = df.iloc[subtopic_idcs[0] + 1:subtopic_idcs[1]]\n",
    "        else:\n",
    "            topic[subtopic] = df.iloc[subtopic_idcs[0] + 1:]\n",
    "            \n",
    "        # Check whether the first row contains values of interest\n",
    "        if not df.iloc[0].isna().any():\n",
    "            topic[subtopic].loc[-1] = df.loc[0]                # adding a row\n",
    "            topic[subtopic].index = topic[subtopic].index + 1  # shifting index\n",
    "            topic[subtopic] = topic[subtopic].sort_index()     # sorting by index\n",
    "\n",
    "            \n",
    "        topic[subtopic] = topic[subtopic].rename(columns={\"Label (Grouping)\": subtopic})\n",
    "        topic[subtopic].set_index(subtopic, inplace=True)\n",
    "        subtopics.append(subtopic)\n",
    "            \n",
    "    subtopics = '\\n'.join([subtopic for subtopic in subtopics])\n",
    "    print(\"The subtopics are:\")\n",
    "    print(subtopics)\n",
    "    \n",
    "    return topic\n",
    "\n",
    "\n",
    "def convert_series_to_int(series):\n",
    "    new_series = [int(\"\".join(x.split(\",\"))) if type(x) == str else x for x in series.values]\n",
    "    return np.asarray(new_series)\n"
   ]
  },
  {
   "cell_type": "code",
   "execution_count": 16,
   "id": "f804f35a",
   "metadata": {},
   "outputs": [
    {
     "name": "stdout",
     "output_type": "stream",
     "text": [
      "The subtopics are:\n",
      "\n",
      "The subtopics are:\n",
      "\n"
     ]
    }
   ],
   "source": [
    "fix_labels(df_21)\n",
    "fix_labels(df_16)\n",
    "\n",
    "dict_21 = get_all_sub_dfs(df_21)\n",
    "dict_16 = get_all_sub_dfs(df_16)"
   ]
  },
  {
   "cell_type": "code",
   "execution_count": 17,
   "id": "bff99ec4",
   "metadata": {},
   "outputs": [],
   "source": [
    "def fix_indices(df):\n",
    "    df.index = df[\"Label (Grouping)\"].values\n",
    "    df.drop(columns=\"Label (Grouping)\", inplace=True)\n",
    "    "
   ]
  },
  {
   "cell_type": "code",
   "execution_count": 18,
   "id": "afa56d21",
   "metadata": {},
   "outputs": [],
   "source": [
    "fix_indices(df_21)\n",
    "fix_indices(df_16)"
   ]
  },
  {
   "cell_type": "code",
   "execution_count": 19,
   "id": "29c905d3",
   "metadata": {},
   "outputs": [],
   "source": [
    "curr_list = [df_21, df_16]\n",
    "\n",
    "for idx in range(len(curr_list)):\n",
    "    \n",
    "    # Preprocess data\n",
    "    all_columns = []\n",
    "    for column in curr_list[idx].iloc[:-1].columns:\n",
    "        if \"Percent\" in column:\n",
    "            all_columns.append(column)\n",
    "\n",
    "    curr_list[idx].drop(columns=all_columns, inplace=True)\n",
    "    curr_list[idx] = curr_list[idx].apply(convert_series_to_int)\n",
    "\n",
    "    curr_list[idx].columns = [x[1].split(\", District\")[0][1:] + \" - \" + x[-1].split(\"!!\")[1] for x in curr_list[idx].columns.str.split(\"Census\")]\n",
    "    curr_list[idx] = curr_list[idx].iloc[:]"
   ]
  },
  {
   "cell_type": "code",
   "execution_count": 20,
   "id": "2d388524",
   "metadata": {},
   "outputs": [
    {
     "data": {
      "text/html": [
       "<div>\n",
       "<style scoped>\n",
       "    .dataframe tbody tr th:only-of-type {\n",
       "        vertical-align: middle;\n",
       "    }\n",
       "\n",
       "    .dataframe tbody tr th {\n",
       "        vertical-align: top;\n",
       "    }\n",
       "\n",
       "    .dataframe thead th {\n",
       "        text-align: right;\n",
       "    }\n",
       "</style>\n",
       "<table border=\"1\" class=\"dataframe\">\n",
       "  <thead>\n",
       "    <tr style=\"text-align: right;\">\n",
       "      <th></th>\n",
       "      <th>Tract 64 - Estimate</th>\n",
       "      <th>Tract 102.01 - Estimate</th>\n",
       "      <th>Tract 102.02 - Estimate</th>\n",
       "      <th>Tract 105 - Estimate</th>\n",
       "      <th>Tract 110.01 - Estimate</th>\n",
       "      <th>Tract 110.02 - Estimate</th>\n",
       "    </tr>\n",
       "  </thead>\n",
       "  <tbody>\n",
       "    <tr>\n",
       "      <th>Median contract rent</th>\n",
       "      <td>740</td>\n",
       "      <td>2228</td>\n",
       "      <td>1799</td>\n",
       "      <td>1608</td>\n",
       "      <td>1960</td>\n",
       "      <td>1832</td>\n",
       "    </tr>\n",
       "  </tbody>\n",
       "</table>\n",
       "</div>"
      ],
      "text/plain": [
       "                      Tract 64 - Estimate  Tract 102.01 - Estimate  \\\n",
       "Median contract rent                  740                     2228   \n",
       "\n",
       "                      Tract 102.02 - Estimate  Tract 105 - Estimate  \\\n",
       "Median contract rent                     1799                  1608   \n",
       "\n",
       "                      Tract 110.01 - Estimate  Tract 110.02 - Estimate  \n",
       "Median contract rent                     1960                     1832  "
      ]
     },
     "execution_count": 20,
     "metadata": {},
     "output_type": "execute_result"
    }
   ],
   "source": [
    "# What would be good to look at?\n",
    "\n",
    "# 1. Percentage of Tract that is below poverty level\n",
    "# 2. Percentage of which race makes up which portion of Below poverty level\n",
    "# 3. Percentage of how many of a race are below poverty level\n",
    "\n",
    "curr_list[0]"
   ]
  },
  {
   "cell_type": "code",
   "execution_count": 21,
   "id": "a0c49474",
   "metadata": {},
   "outputs": [
    {
     "data": {
      "text/html": [
       "<div>\n",
       "<style scoped>\n",
       "    .dataframe tbody tr th:only-of-type {\n",
       "        vertical-align: middle;\n",
       "    }\n",
       "\n",
       "    .dataframe tbody tr th {\n",
       "        vertical-align: top;\n",
       "    }\n",
       "\n",
       "    .dataframe thead th {\n",
       "        text-align: right;\n",
       "    }\n",
       "</style>\n",
       "<table border=\"1\" class=\"dataframe\">\n",
       "  <thead>\n",
       "    <tr style=\"text-align: right;\">\n",
       "      <th></th>\n",
       "      <th>Tract 64 - Estimate</th>\n",
       "    </tr>\n",
       "  </thead>\n",
       "  <tbody>\n",
       "    <tr>\n",
       "      <th>Median contract rent</th>\n",
       "      <td>408</td>\n",
       "    </tr>\n",
       "  </tbody>\n",
       "</table>\n",
       "</div>"
      ],
      "text/plain": [
       "                      Tract 64 - Estimate\n",
       "Median contract rent                  408"
      ]
     },
     "execution_count": 21,
     "metadata": {},
     "output_type": "execute_result"
    }
   ],
   "source": [
    "tracts = [\"Tract 64\", \"Tract 102.01\", \"Tract 102.02\", \"Tract 105\", \"Tract 110.01\", \"Tract 110.02\"]\n",
    "tract_df = curr_list[-1].loc[:, curr_list[-1].columns.str.contains(tracts[0])]\n",
    "tract_df"
   ]
  },
  {
   "cell_type": "code",
   "execution_count": 67,
   "id": "e183a956",
   "metadata": {},
   "outputs": [],
   "source": [
    "# Get appropriate columns for the data frame\n",
    "# ------------------------------------------\n",
    "\n",
    "# ONLY EXECUTE THIS WHEN THE VARIABLE IS ABOUT RACE\n",
    "labels = np.asarray([x.split(\" alone\")[0] for x in list(curr_list[0].index)])\n",
    "new_columns = labels[1:]\n",
    "new_columns[-1] = \"Mixed race\""
   ]
  },
  {
   "cell_type": "code",
   "execution_count": 25,
   "id": "99c5077e",
   "metadata": {},
   "outputs": [
    {
     "data": {
      "text/html": [
       "<div>\n",
       "<style scoped>\n",
       "    .dataframe tbody tr th:only-of-type {\n",
       "        vertical-align: middle;\n",
       "    }\n",
       "\n",
       "    .dataframe tbody tr th {\n",
       "        vertical-align: top;\n",
       "    }\n",
       "\n",
       "    .dataframe thead th {\n",
       "        text-align: right;\n",
       "    }\n",
       "</style>\n",
       "<table border=\"1\" class=\"dataframe\">\n",
       "  <thead>\n",
       "    <tr style=\"text-align: right;\">\n",
       "      <th></th>\n",
       "      <th>Tract 64 - Estimate</th>\n",
       "    </tr>\n",
       "  </thead>\n",
       "  <tbody>\n",
       "    <tr>\n",
       "      <th>Median contract rent</th>\n",
       "      <td>408</td>\n",
       "    </tr>\n",
       "  </tbody>\n",
       "</table>\n",
       "</div>"
      ],
      "text/plain": [
       "                      Tract 64 - Estimate\n",
       "Median contract rent                  408"
      ]
     },
     "execution_count": 25,
     "metadata": {},
     "output_type": "execute_result"
    }
   ],
   "source": [
    "tract_df"
   ]
  },
  {
   "cell_type": "code",
   "execution_count": 26,
   "id": "a242d23e",
   "metadata": {},
   "outputs": [],
   "source": [
    "\n",
    "# Get data\n",
    "# --------\n",
    "tracts = [\"Tract 64\", \"Tract 105\", \"Tract 102.01\", \"Tract 102.02\", \"Tract 110.01\", \"Tract 110.02\"]\n",
    "years = [\"2021\", \"2016\"]\n",
    "\n",
    "\n",
    "tract_dict = {}\n",
    "for tract in tracts:\n",
    "\n",
    "    year_dict = {}\n",
    "    \n",
    "    for idx, year in enumerate(years):\n",
    "        \n",
    "        try:\n",
    "\n",
    "            tract_df = curr_list[idx].loc[:, curr_list[idx].columns.str.contains(tract)]\n",
    "            values = tract_df.iloc[0][0]\n",
    "\n",
    "            # poverty_by_tract[tract] = all_values\n",
    "            year_dict[year] = values\n",
    "            \n",
    "        except IndexError:\n",
    "            continue\n",
    "            \n",
    "    # reverse the dictionary to stay in chronological order\n",
    "    tract_dict[tract] = dict(reversed(list(year_dict.items())))\n",
    "    "
   ]
  },
  {
   "cell_type": "code",
   "execution_count": 27,
   "id": "f42122c9",
   "metadata": {},
   "outputs": [
    {
     "data": {
      "text/plain": [
       "{'2016': 408, '2021': 740}"
      ]
     },
     "execution_count": 27,
     "metadata": {},
     "output_type": "execute_result"
    }
   ],
   "source": [
    "tract_dict[\"Tract 64\"]"
   ]
  },
  {
   "cell_type": "code",
   "execution_count": 30,
   "id": "4cce5d99",
   "metadata": {
    "scrolled": true
   },
   "outputs": [
    {
     "data": {
      "text/html": [
       "<div>\n",
       "<style scoped>\n",
       "    .dataframe tbody tr th:only-of-type {\n",
       "        vertical-align: middle;\n",
       "    }\n",
       "\n",
       "    .dataframe tbody tr th {\n",
       "        vertical-align: top;\n",
       "    }\n",
       "\n",
       "    .dataframe thead th {\n",
       "        text-align: right;\n",
       "    }\n",
       "</style>\n",
       "<table border=\"1\" class=\"dataframe\">\n",
       "  <thead>\n",
       "    <tr style=\"text-align: right;\">\n",
       "      <th></th>\n",
       "      <th>Median Rent</th>\n",
       "    </tr>\n",
       "  </thead>\n",
       "  <tbody>\n",
       "    <tr>\n",
       "      <th>2016</th>\n",
       "      <td>408</td>\n",
       "    </tr>\n",
       "    <tr>\n",
       "      <th>2021</th>\n",
       "      <td>740</td>\n",
       "    </tr>\n",
       "  </tbody>\n",
       "</table>\n",
       "</div>"
      ],
      "text/plain": [
       "      Median Rent\n",
       "2016          408\n",
       "2021          740"
      ]
     },
     "execution_count": 30,
     "metadata": {},
     "output_type": "execute_result"
    }
   ],
   "source": [
    "pd.DataFrame.from_dict(tract_dict[\"Tract 64\"], orient=\"index\", columns=[\"Median Rent\"])"
   ]
  },
  {
   "cell_type": "code",
   "execution_count": 38,
   "id": "6bbf7760",
   "metadata": {},
   "outputs": [
    {
     "data": {
      "image/png": "[encoded data removed]",
      "text/plain": [
       "<Figure size 640x480 with 1 Axes>"
      ]
     },
     "metadata": {},
     "output_type": "display_data"
    }
   ],
   "source": [
    "pd.DataFrame.from_dict(tract_dict).T.plot(color=[\"red\", \"purple\"], kind=\"bar\")\n",
    "plt.gcf().subplots_adjust(bottom=0.25)\n",
    "plt.title(\"Median Rent per Tract\")\n",
    "plt.xlabel(\"Tract\")\n",
    "plt.ylabel(\"Median Rent in $\")\n",
    "plt.legend([\"2012-2016\", \"2017-2021\"], loc=\"best\")\n",
    "plt.savefig(f\"../plots/rent/all_tracts.png\")\n"
   ]
  }
 ],
 "metadata": {
  "kernelspec": {
   "display_name": "Python 3 (ipykernel)",
   "language": "python",
   "name": "python3"
  },
  "language_info": {
   "codemirror_mode": {
    "name": "ipython",
    "version": 3
   },
   "file_extension": ".py",
   "mimetype": "text/x-python",
   "name": "python",
   "nbconvert_exporter": "python",
   "pygments_lexer": "ipython3",
   "version": "3.10.4"
  }
 },
 "nbformat": 4,
 "nbformat_minor": 5
}
