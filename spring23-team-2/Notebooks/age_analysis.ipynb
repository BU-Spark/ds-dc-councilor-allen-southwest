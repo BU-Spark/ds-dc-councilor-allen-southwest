{
 "cells": [
  {
   "cell_type": "code",
   "execution_count": 203,
   "metadata": {},
   "outputs": [],
   "source": [
    "import pandas as pd\n",
    "import matplotlib.pyplot as plt\n",
    "import numpy as np"
   ]
  },
  {
   "cell_type": "code",
   "execution_count": 219,
   "metadata": {},
   "outputs": [
    {
     "data": {
      "text/html": [
       "<div>\n",
       "<style scoped>\n",
       "    .dataframe tbody tr th:only-of-type {\n",
       "        vertical-align: middle;\n",
       "    }\n",
       "\n",
       "    .dataframe tbody tr th {\n",
       "        vertical-align: top;\n",
       "    }\n",
       "\n",
       "    .dataframe thead th {\n",
       "        text-align: right;\n",
       "    }\n",
       "</style>\n",
       "<table border=\"1\" class=\"dataframe\">\n",
       "  <thead>\n",
       "    <tr style=\"text-align: right;\">\n",
       "      <th></th>\n",
       "      <th>Label (Grouping)</th>\n",
       "      <th>Census Tract 64, District of Columbia, District of Columbia!!Total!!Estimate</th>\n",
       "      <th>Census Tract 64, District of Columbia, District of Columbia!!Below poverty level!!Estimate</th>\n",
       "      <th>Census Tract 64, District of Columbia, District of Columbia!!Percent below poverty level!!Estimate</th>\n",
       "      <th>Census Tract 102.01, District of Columbia, District of Columbia!!Total!!Estimate</th>\n",
       "      <th>Census Tract 102.01, District of Columbia, District of Columbia!!Below poverty level!!Estimate</th>\n",
       "      <th>Census Tract 102.01, District of Columbia, District of Columbia!!Percent below poverty level!!Estimate</th>\n",
       "      <th>Census Tract 102.02, District of Columbia, District of Columbia!!Total!!Estimate</th>\n",
       "      <th>Census Tract 102.02, District of Columbia, District of Columbia!!Below poverty level!!Estimate</th>\n",
       "      <th>Census Tract 102.02, District of Columbia, District of Columbia!!Percent below poverty level!!Estimate</th>\n",
       "      <th>Census Tract 105, District of Columbia, District of Columbia!!Total!!Estimate</th>\n",
       "      <th>Census Tract 105, District of Columbia, District of Columbia!!Below poverty level!!Estimate</th>\n",
       "      <th>Census Tract 105, District of Columbia, District of Columbia!!Percent below poverty level!!Estimate</th>\n",
       "      <th>Census Tract 110.01, District of Columbia, District of Columbia!!Total!!Estimate</th>\n",
       "      <th>Census Tract 110.01, District of Columbia, District of Columbia!!Below poverty level!!Estimate</th>\n",
       "      <th>Census Tract 110.01, District of Columbia, District of Columbia!!Percent below poverty level!!Estimate</th>\n",
       "      <th>Census Tract 110.02, District of Columbia, District of Columbia!!Total!!Estimate</th>\n",
       "      <th>Census Tract 110.02, District of Columbia, District of Columbia!!Below poverty level!!Estimate</th>\n",
       "      <th>Census Tract 110.02, District of Columbia, District of Columbia!!Percent below poverty level!!Estimate</th>\n",
       "    </tr>\n",
       "  </thead>\n",
       "  <tbody>\n",
       "    <tr>\n",
       "      <th>0</th>\n",
       "      <td>Population for whom poverty status is determined</td>\n",
       "      <td>2,418</td>\n",
       "      <td>1,046</td>\n",
       "      <td>43.3%</td>\n",
       "      <td>2,522</td>\n",
       "      <td>153</td>\n",
       "      <td>6.1%</td>\n",
       "      <td>1,930</td>\n",
       "      <td>138</td>\n",
       "      <td>7.2%</td>\n",
       "      <td>4,027</td>\n",
       "      <td>841</td>\n",
       "      <td>20.9%</td>\n",
       "      <td>2,385</td>\n",
       "      <td>64</td>\n",
       "      <td>2.7%</td>\n",
       "      <td>1,469</td>\n",
       "      <td>90</td>\n",
       "      <td>6.1%</td>\n",
       "    </tr>\n",
       "    <tr>\n",
       "      <th>1</th>\n",
       "      <td>AGE</td>\n",
       "      <td>NaN</td>\n",
       "      <td>NaN</td>\n",
       "      <td>NaN</td>\n",
       "      <td>NaN</td>\n",
       "      <td>NaN</td>\n",
       "      <td>NaN</td>\n",
       "      <td>NaN</td>\n",
       "      <td>NaN</td>\n",
       "      <td>NaN</td>\n",
       "      <td>NaN</td>\n",
       "      <td>NaN</td>\n",
       "      <td>NaN</td>\n",
       "      <td>NaN</td>\n",
       "      <td>NaN</td>\n",
       "      <td>NaN</td>\n",
       "      <td>NaN</td>\n",
       "      <td>NaN</td>\n",
       "      <td>NaN</td>\n",
       "    </tr>\n",
       "    <tr>\n",
       "      <th>2</th>\n",
       "      <td>Under 18 years</td>\n",
       "      <td>466</td>\n",
       "      <td>317</td>\n",
       "      <td>68.0%</td>\n",
       "      <td>211</td>\n",
       "      <td>0</td>\n",
       "      <td>0.0%</td>\n",
       "      <td>207</td>\n",
       "      <td>14</td>\n",
       "      <td>6.8%</td>\n",
       "      <td>373</td>\n",
       "      <td>157</td>\n",
       "      <td>42.1%</td>\n",
       "      <td>65</td>\n",
       "      <td>0</td>\n",
       "      <td>0.0%</td>\n",
       "      <td>40</td>\n",
       "      <td>0</td>\n",
       "      <td>0.0%</td>\n",
       "    </tr>\n",
       "    <tr>\n",
       "      <th>3</th>\n",
       "      <td>Under 5 years</td>\n",
       "      <td>164</td>\n",
       "      <td>96</td>\n",
       "      <td>58.5%</td>\n",
       "      <td>0</td>\n",
       "      <td>0</td>\n",
       "      <td>-</td>\n",
       "      <td>163</td>\n",
       "      <td>0</td>\n",
       "      <td>0.0%</td>\n",
       "      <td>210</td>\n",
       "      <td>49</td>\n",
       "      <td>23.3%</td>\n",
       "      <td>54</td>\n",
       "      <td>0</td>\n",
       "      <td>0.0%</td>\n",
       "      <td>40</td>\n",
       "      <td>0</td>\n",
       "      <td>0.0%</td>\n",
       "    </tr>\n",
       "    <tr>\n",
       "      <th>4</th>\n",
       "      <td>5 to 17 years</td>\n",
       "      <td>302</td>\n",
       "      <td>221</td>\n",
       "      <td>73.2%</td>\n",
       "      <td>211</td>\n",
       "      <td>0</td>\n",
       "      <td>0.0%</td>\n",
       "      <td>44</td>\n",
       "      <td>14</td>\n",
       "      <td>31.8%</td>\n",
       "      <td>163</td>\n",
       "      <td>108</td>\n",
       "      <td>66.3%</td>\n",
       "      <td>11</td>\n",
       "      <td>0</td>\n",
       "      <td>0.0%</td>\n",
       "      <td>0</td>\n",
       "      <td>0</td>\n",
       "      <td>-</td>\n",
       "    </tr>\n",
       "  </tbody>\n",
       "</table>\n",
       "</div>"
      ],
      "text/plain": [
       "                                   Label (Grouping)  \\\n",
       "0  Population for whom poverty status is determined   \n",
       "1                                               AGE   \n",
       "2                                    Under 18 years   \n",
       "3                                     Under 5 years   \n",
       "4                                     5 to 17 years   \n",
       "\n",
       "  Census Tract 64, District of Columbia, District of Columbia!!Total!!Estimate  \\\n",
       "0                                              2,418                             \n",
       "1                                                NaN                             \n",
       "2                                                466                             \n",
       "3                                                164                             \n",
       "4                                                302                             \n",
       "\n",
       "  Census Tract 64, District of Columbia, District of Columbia!!Below poverty level!!Estimate  \\\n",
       "0                                              1,046                                           \n",
       "1                                                NaN                                           \n",
       "2                                                317                                           \n",
       "3                                                 96                                           \n",
       "4                                                221                                           \n",
       "\n",
       "  Census Tract 64, District of Columbia, District of Columbia!!Percent below poverty level!!Estimate  \\\n",
       "0                                              43.3%                                                   \n",
       "1                                                NaN                                                   \n",
       "2                                              68.0%                                                   \n",
       "3                                              58.5%                                                   \n",
       "4                                              73.2%                                                   \n",
       "\n",
       "  Census Tract 102.01, District of Columbia, District of Columbia!!Total!!Estimate  \\\n",
       "0                                              2,522                                 \n",
       "1                                                NaN                                 \n",
       "2                                                211                                 \n",
       "3                                                  0                                 \n",
       "4                                                211                                 \n",
       "\n",
       "  Census Tract 102.01, District of Columbia, District of Columbia!!Below poverty level!!Estimate  \\\n",
       "0                                                153                                               \n",
       "1                                                NaN                                               \n",
       "2                                                  0                                               \n",
       "3                                                  0                                               \n",
       "4                                                  0                                               \n",
       "\n",
       "  Census Tract 102.01, District of Columbia, District of Columbia!!Percent below poverty level!!Estimate  \\\n",
       "0                                               6.1%                                                       \n",
       "1                                                NaN                                                       \n",
       "2                                               0.0%                                                       \n",
       "3                                                  -                                                       \n",
       "4                                               0.0%                                                       \n",
       "\n",
       "  Census Tract 102.02, District of Columbia, District of Columbia!!Total!!Estimate  \\\n",
       "0                                              1,930                                 \n",
       "1                                                NaN                                 \n",
       "2                                                207                                 \n",
       "3                                                163                                 \n",
       "4                                                 44                                 \n",
       "\n",
       "  Census Tract 102.02, District of Columbia, District of Columbia!!Below poverty level!!Estimate  \\\n",
       "0                                                138                                               \n",
       "1                                                NaN                                               \n",
       "2                                                 14                                               \n",
       "3                                                  0                                               \n",
       "4                                                 14                                               \n",
       "\n",
       "  Census Tract 102.02, District of Columbia, District of Columbia!!Percent below poverty level!!Estimate  \\\n",
       "0                                               7.2%                                                       \n",
       "1                                                NaN                                                       \n",
       "2                                               6.8%                                                       \n",
       "3                                               0.0%                                                       \n",
       "4                                              31.8%                                                       \n",
       "\n",
       "  Census Tract 105, District of Columbia, District of Columbia!!Total!!Estimate  \\\n",
       "0                                              4,027                              \n",
       "1                                                NaN                              \n",
       "2                                                373                              \n",
       "3                                                210                              \n",
       "4                                                163                              \n",
       "\n",
       "  Census Tract 105, District of Columbia, District of Columbia!!Below poverty level!!Estimate  \\\n",
       "0                                                841                                            \n",
       "1                                                NaN                                            \n",
       "2                                                157                                            \n",
       "3                                                 49                                            \n",
       "4                                                108                                            \n",
       "\n",
       "  Census Tract 105, District of Columbia, District of Columbia!!Percent below poverty level!!Estimate  \\\n",
       "0                                              20.9%                                                    \n",
       "1                                                NaN                                                    \n",
       "2                                              42.1%                                                    \n",
       "3                                              23.3%                                                    \n",
       "4                                              66.3%                                                    \n",
       "\n",
       "  Census Tract 110.01, District of Columbia, District of Columbia!!Total!!Estimate  \\\n",
       "0                                              2,385                                 \n",
       "1                                                NaN                                 \n",
       "2                                                 65                                 \n",
       "3                                                 54                                 \n",
       "4                                                 11                                 \n",
       "\n",
       "  Census Tract 110.01, District of Columbia, District of Columbia!!Below poverty level!!Estimate  \\\n",
       "0                                                 64                                               \n",
       "1                                                NaN                                               \n",
       "2                                                  0                                               \n",
       "3                                                  0                                               \n",
       "4                                                  0                                               \n",
       "\n",
       "  Census Tract 110.01, District of Columbia, District of Columbia!!Percent below poverty level!!Estimate  \\\n",
       "0                                               2.7%                                                       \n",
       "1                                                NaN                                                       \n",
       "2                                               0.0%                                                       \n",
       "3                                               0.0%                                                       \n",
       "4                                               0.0%                                                       \n",
       "\n",
       "  Census Tract 110.02, District of Columbia, District of Columbia!!Total!!Estimate  \\\n",
       "0                                              1,469                                 \n",
       "1                                                NaN                                 \n",
       "2                                                 40                                 \n",
       "3                                                 40                                 \n",
       "4                                                  0                                 \n",
       "\n",
       "  Census Tract 110.02, District of Columbia, District of Columbia!!Below poverty level!!Estimate  \\\n",
       "0                                                 90                                               \n",
       "1                                                NaN                                               \n",
       "2                                                  0                                               \n",
       "3                                                  0                                               \n",
       "4                                                  0                                               \n",
       "\n",
       "  Census Tract 110.02, District of Columbia, District of Columbia!!Percent below poverty level!!Estimate  \n",
       "0                                               6.1%                                                      \n",
       "1                                                NaN                                                      \n",
       "2                                               0.0%                                                      \n",
       "3                                               0.0%                                                      \n",
       "4                                                  -                                                      "
      ]
     },
     "execution_count": 219,
     "metadata": {},
     "output_type": "execute_result"
    }
   ],
   "source": [
    "PATH = \"../data/census/\"\n",
    "race_df = pd.read_csv(PATH + \"SW_race.csv\")\n",
    "sw_finance_df = pd.read_csv(PATH + \"SW_finance_char.csv\")\n",
    "age_and_sex_df = pd.read_csv(PATH + \"SW_age_and_sex.csv\")\n",
    "food_stamps_df = pd.read_csv(PATH + \"SW_food_stamps.csv\")\n",
    "mean_income_df = pd.read_csv(PATH + \"SW_mean_income.csv\")\n",
    "poverty_status_df = pd.read_csv(PATH + \"SW_poverty.csv\")"
   ]
  },
  {
   "cell_type": "code",
   "execution_count": 205,
   "metadata": {},
   "outputs": [
    {
     "data": {
      "text/html": [
       "<div>\n",
       "<style scoped>\n",
       "    .dataframe tbody tr th:only-of-type {\n",
       "        vertical-align: middle;\n",
       "    }\n",
       "\n",
       "    .dataframe tbody tr th {\n",
       "        vertical-align: top;\n",
       "    }\n",
       "\n",
       "    .dataframe thead th {\n",
       "        text-align: right;\n",
       "    }\n",
       "</style>\n",
       "<table border=\"1\" class=\"dataframe\">\n",
       "  <thead>\n",
       "    <tr style=\"text-align: right;\">\n",
       "      <th></th>\n",
       "      <th>Label (Grouping)</th>\n",
       "      <th>Census Tract 64, District of Columbia, District of Columbia!!Total!!Estimate</th>\n",
       "      <th>Census Tract 64, District of Columbia, District of Columbia!!Percent!!Estimate</th>\n",
       "      <th>Census Tract 64, District of Columbia, District of Columbia!!Male!!Estimate</th>\n",
       "      <th>Census Tract 64, District of Columbia, District of Columbia!!Percent Male!!Estimate</th>\n",
       "      <th>Census Tract 64, District of Columbia, District of Columbia!!Female!!Estimate</th>\n",
       "      <th>Census Tract 64, District of Columbia, District of Columbia!!Percent Female!!Estimate</th>\n",
       "      <th>Census Tract 102.01, District of Columbia, District of Columbia!!Total!!Estimate</th>\n",
       "      <th>Census Tract 102.01, District of Columbia, District of Columbia!!Percent!!Estimate</th>\n",
       "      <th>Census Tract 102.01, District of Columbia, District of Columbia!!Male!!Estimate</th>\n",
       "      <th>...</th>\n",
       "      <th>Census Tract 110.01, District of Columbia, District of Columbia!!Male!!Estimate</th>\n",
       "      <th>Census Tract 110.01, District of Columbia, District of Columbia!!Percent Male!!Estimate</th>\n",
       "      <th>Census Tract 110.01, District of Columbia, District of Columbia!!Female!!Estimate</th>\n",
       "      <th>Census Tract 110.01, District of Columbia, District of Columbia!!Percent Female!!Estimate</th>\n",
       "      <th>Census Tract 110.02, District of Columbia, District of Columbia!!Total!!Estimate</th>\n",
       "      <th>Census Tract 110.02, District of Columbia, District of Columbia!!Percent!!Estimate</th>\n",
       "      <th>Census Tract 110.02, District of Columbia, District of Columbia!!Male!!Estimate</th>\n",
       "      <th>Census Tract 110.02, District of Columbia, District of Columbia!!Percent Male!!Estimate</th>\n",
       "      <th>Census Tract 110.02, District of Columbia, District of Columbia!!Female!!Estimate</th>\n",
       "      <th>Census Tract 110.02, District of Columbia, District of Columbia!!Percent Female!!Estimate</th>\n",
       "    </tr>\n",
       "  </thead>\n",
       "  <tbody>\n",
       "    <tr>\n",
       "      <th>0</th>\n",
       "      <td>Total population</td>\n",
       "      <td>2,492</td>\n",
       "      <td>(X)</td>\n",
       "      <td>1,190</td>\n",
       "      <td>(X)</td>\n",
       "      <td>1,302</td>\n",
       "      <td>(X)</td>\n",
       "      <td>2,522</td>\n",
       "      <td>(X)</td>\n",
       "      <td>1,450</td>\n",
       "      <td>...</td>\n",
       "      <td>1,108</td>\n",
       "      <td>(X)</td>\n",
       "      <td>1,277</td>\n",
       "      <td>(X)</td>\n",
       "      <td>1,519</td>\n",
       "      <td>(X)</td>\n",
       "      <td>697</td>\n",
       "      <td>(X)</td>\n",
       "      <td>822</td>\n",
       "      <td>(X)</td>\n",
       "    </tr>\n",
       "    <tr>\n",
       "      <th>1</th>\n",
       "      <td>AGE</td>\n",
       "      <td>NaN</td>\n",
       "      <td>NaN</td>\n",
       "      <td>NaN</td>\n",
       "      <td>NaN</td>\n",
       "      <td>NaN</td>\n",
       "      <td>NaN</td>\n",
       "      <td>NaN</td>\n",
       "      <td>NaN</td>\n",
       "      <td>NaN</td>\n",
       "      <td>...</td>\n",
       "      <td>NaN</td>\n",
       "      <td>NaN</td>\n",
       "      <td>NaN</td>\n",
       "      <td>NaN</td>\n",
       "      <td>NaN</td>\n",
       "      <td>NaN</td>\n",
       "      <td>NaN</td>\n",
       "      <td>NaN</td>\n",
       "      <td>NaN</td>\n",
       "      <td>NaN</td>\n",
       "    </tr>\n",
       "    <tr>\n",
       "      <th>2</th>\n",
       "      <td>Under 5 years</td>\n",
       "      <td>238</td>\n",
       "      <td>9.6%</td>\n",
       "      <td>110</td>\n",
       "      <td>9.2%</td>\n",
       "      <td>128</td>\n",
       "      <td>9.8%</td>\n",
       "      <td>0</td>\n",
       "      <td>0.0%</td>\n",
       "      <td>0</td>\n",
       "      <td>...</td>\n",
       "      <td>32</td>\n",
       "      <td>2.9%</td>\n",
       "      <td>22</td>\n",
       "      <td>1.7%</td>\n",
       "      <td>40</td>\n",
       "      <td>2.6%</td>\n",
       "      <td>40</td>\n",
       "      <td>5.7%</td>\n",
       "      <td>0</td>\n",
       "      <td>0.0%</td>\n",
       "    </tr>\n",
       "    <tr>\n",
       "      <th>3</th>\n",
       "      <td>5 to 9 years</td>\n",
       "      <td>99</td>\n",
       "      <td>4.0%</td>\n",
       "      <td>59</td>\n",
       "      <td>5.0%</td>\n",
       "      <td>40</td>\n",
       "      <td>3.1%</td>\n",
       "      <td>24</td>\n",
       "      <td>1.0%</td>\n",
       "      <td>0</td>\n",
       "      <td>...</td>\n",
       "      <td>0</td>\n",
       "      <td>0.0%</td>\n",
       "      <td>0</td>\n",
       "      <td>0.0%</td>\n",
       "      <td>0</td>\n",
       "      <td>0.0%</td>\n",
       "      <td>0</td>\n",
       "      <td>0.0%</td>\n",
       "      <td>0</td>\n",
       "      <td>0.0%</td>\n",
       "    </tr>\n",
       "    <tr>\n",
       "      <th>4</th>\n",
       "      <td>10 to 14 years</td>\n",
       "      <td>112</td>\n",
       "      <td>4.5%</td>\n",
       "      <td>79</td>\n",
       "      <td>6.6%</td>\n",
       "      <td>33</td>\n",
       "      <td>2.5%</td>\n",
       "      <td>187</td>\n",
       "      <td>7.4%</td>\n",
       "      <td>148</td>\n",
       "      <td>...</td>\n",
       "      <td>0</td>\n",
       "      <td>0.0%</td>\n",
       "      <td>0</td>\n",
       "      <td>0.0%</td>\n",
       "      <td>0</td>\n",
       "      <td>0.0%</td>\n",
       "      <td>0</td>\n",
       "      <td>0.0%</td>\n",
       "      <td>0</td>\n",
       "      <td>0.0%</td>\n",
       "    </tr>\n",
       "    <tr>\n",
       "      <th>5</th>\n",
       "      <td>15 to 19 years</td>\n",
       "      <td>155</td>\n",
       "      <td>6.2%</td>\n",
       "      <td>67</td>\n",
       "      <td>5.6%</td>\n",
       "      <td>88</td>\n",
       "      <td>6.8%</td>\n",
       "      <td>1</td>\n",
       "      <td>0.0%</td>\n",
       "      <td>1</td>\n",
       "      <td>...</td>\n",
       "      <td>7</td>\n",
       "      <td>0.6%</td>\n",
       "      <td>4</td>\n",
       "      <td>0.3%</td>\n",
       "      <td>0</td>\n",
       "      <td>0.0%</td>\n",
       "      <td>0</td>\n",
       "      <td>0.0%</td>\n",
       "      <td>0</td>\n",
       "      <td>0.0%</td>\n",
       "    </tr>\n",
       "    <tr>\n",
       "      <th>6</th>\n",
       "      <td>20 to 24 years</td>\n",
       "      <td>104</td>\n",
       "      <td>4.2%</td>\n",
       "      <td>59</td>\n",
       "      <td>5.0%</td>\n",
       "      <td>45</td>\n",
       "      <td>3.5%</td>\n",
       "      <td>150</td>\n",
       "      <td>5.9%</td>\n",
       "      <td>39</td>\n",
       "      <td>...</td>\n",
       "      <td>0</td>\n",
       "      <td>0.0%</td>\n",
       "      <td>35</td>\n",
       "      <td>2.7%</td>\n",
       "      <td>52</td>\n",
       "      <td>3.4%</td>\n",
       "      <td>33</td>\n",
       "      <td>4.7%</td>\n",
       "      <td>19</td>\n",
       "      <td>2.3%</td>\n",
       "    </tr>\n",
       "    <tr>\n",
       "      <th>7</th>\n",
       "      <td>25 to 29 years</td>\n",
       "      <td>281</td>\n",
       "      <td>11.3%</td>\n",
       "      <td>149</td>\n",
       "      <td>12.5%</td>\n",
       "      <td>132</td>\n",
       "      <td>10.1%</td>\n",
       "      <td>545</td>\n",
       "      <td>21.6%</td>\n",
       "      <td>272</td>\n",
       "      <td>...</td>\n",
       "      <td>333</td>\n",
       "      <td>30.1%</td>\n",
       "      <td>238</td>\n",
       "      <td>18.6%</td>\n",
       "      <td>91</td>\n",
       "      <td>6.0%</td>\n",
       "      <td>73</td>\n",
       "      <td>10.5%</td>\n",
       "      <td>18</td>\n",
       "      <td>2.2%</td>\n",
       "    </tr>\n",
       "    <tr>\n",
       "      <th>8</th>\n",
       "      <td>30 to 34 years</td>\n",
       "      <td>333</td>\n",
       "      <td>13.4%</td>\n",
       "      <td>170</td>\n",
       "      <td>14.3%</td>\n",
       "      <td>163</td>\n",
       "      <td>12.5%</td>\n",
       "      <td>504</td>\n",
       "      <td>20.0%</td>\n",
       "      <td>321</td>\n",
       "      <td>...</td>\n",
       "      <td>197</td>\n",
       "      <td>17.8%</td>\n",
       "      <td>138</td>\n",
       "      <td>10.8%</td>\n",
       "      <td>180</td>\n",
       "      <td>11.8%</td>\n",
       "      <td>126</td>\n",
       "      <td>18.1%</td>\n",
       "      <td>54</td>\n",
       "      <td>6.6%</td>\n",
       "    </tr>\n",
       "    <tr>\n",
       "      <th>9</th>\n",
       "      <td>35 to 39 years</td>\n",
       "      <td>285</td>\n",
       "      <td>11.4%</td>\n",
       "      <td>169</td>\n",
       "      <td>14.2%</td>\n",
       "      <td>116</td>\n",
       "      <td>8.9%</td>\n",
       "      <td>358</td>\n",
       "      <td>14.2%</td>\n",
       "      <td>256</td>\n",
       "      <td>...</td>\n",
       "      <td>64</td>\n",
       "      <td>5.8%</td>\n",
       "      <td>87</td>\n",
       "      <td>6.8%</td>\n",
       "      <td>121</td>\n",
       "      <td>8.0%</td>\n",
       "      <td>65</td>\n",
       "      <td>9.3%</td>\n",
       "      <td>56</td>\n",
       "      <td>6.8%</td>\n",
       "    </tr>\n",
       "    <tr>\n",
       "      <th>10</th>\n",
       "      <td>40 to 44 years</td>\n",
       "      <td>108</td>\n",
       "      <td>4.3%</td>\n",
       "      <td>68</td>\n",
       "      <td>5.7%</td>\n",
       "      <td>40</td>\n",
       "      <td>3.1%</td>\n",
       "      <td>169</td>\n",
       "      <td>6.7%</td>\n",
       "      <td>110</td>\n",
       "      <td>...</td>\n",
       "      <td>23</td>\n",
       "      <td>2.1%</td>\n",
       "      <td>100</td>\n",
       "      <td>7.8%</td>\n",
       "      <td>97</td>\n",
       "      <td>6.4%</td>\n",
       "      <td>17</td>\n",
       "      <td>2.4%</td>\n",
       "      <td>80</td>\n",
       "      <td>9.7%</td>\n",
       "    </tr>\n",
       "    <tr>\n",
       "      <th>11</th>\n",
       "      <td>45 to 49 years</td>\n",
       "      <td>32</td>\n",
       "      <td>1.3%</td>\n",
       "      <td>7</td>\n",
       "      <td>0.6%</td>\n",
       "      <td>25</td>\n",
       "      <td>1.9%</td>\n",
       "      <td>62</td>\n",
       "      <td>2.5%</td>\n",
       "      <td>41</td>\n",
       "      <td>...</td>\n",
       "      <td>133</td>\n",
       "      <td>12.0%</td>\n",
       "      <td>88</td>\n",
       "      <td>6.9%</td>\n",
       "      <td>141</td>\n",
       "      <td>9.3%</td>\n",
       "      <td>38</td>\n",
       "      <td>5.5%</td>\n",
       "      <td>103</td>\n",
       "      <td>12.5%</td>\n",
       "    </tr>\n",
       "    <tr>\n",
       "      <th>12</th>\n",
       "      <td>50 to 54 years</td>\n",
       "      <td>166</td>\n",
       "      <td>6.7%</td>\n",
       "      <td>72</td>\n",
       "      <td>6.1%</td>\n",
       "      <td>94</td>\n",
       "      <td>7.2%</td>\n",
       "      <td>79</td>\n",
       "      <td>3.1%</td>\n",
       "      <td>0</td>\n",
       "      <td>...</td>\n",
       "      <td>39</td>\n",
       "      <td>3.5%</td>\n",
       "      <td>133</td>\n",
       "      <td>10.4%</td>\n",
       "      <td>148</td>\n",
       "      <td>9.7%</td>\n",
       "      <td>59</td>\n",
       "      <td>8.5%</td>\n",
       "      <td>89</td>\n",
       "      <td>10.8%</td>\n",
       "    </tr>\n",
       "    <tr>\n",
       "      <th>13</th>\n",
       "      <td>55 to 59 years</td>\n",
       "      <td>122</td>\n",
       "      <td>4.9%</td>\n",
       "      <td>28</td>\n",
       "      <td>2.4%</td>\n",
       "      <td>94</td>\n",
       "      <td>7.2%</td>\n",
       "      <td>134</td>\n",
       "      <td>5.3%</td>\n",
       "      <td>134</td>\n",
       "      <td>...</td>\n",
       "      <td>77</td>\n",
       "      <td>6.9%</td>\n",
       "      <td>184</td>\n",
       "      <td>14.4%</td>\n",
       "      <td>126</td>\n",
       "      <td>8.3%</td>\n",
       "      <td>59</td>\n",
       "      <td>8.5%</td>\n",
       "      <td>67</td>\n",
       "      <td>8.2%</td>\n",
       "    </tr>\n",
       "    <tr>\n",
       "      <th>14</th>\n",
       "      <td>60 to 64 years</td>\n",
       "      <td>100</td>\n",
       "      <td>4.0%</td>\n",
       "      <td>23</td>\n",
       "      <td>1.9%</td>\n",
       "      <td>77</td>\n",
       "      <td>5.9%</td>\n",
       "      <td>74</td>\n",
       "      <td>2.9%</td>\n",
       "      <td>20</td>\n",
       "      <td>...</td>\n",
       "      <td>93</td>\n",
       "      <td>8.4%</td>\n",
       "      <td>97</td>\n",
       "      <td>7.6%</td>\n",
       "      <td>92</td>\n",
       "      <td>6.1%</td>\n",
       "      <td>62</td>\n",
       "      <td>8.9%</td>\n",
       "      <td>30</td>\n",
       "      <td>3.6%</td>\n",
       "    </tr>\n",
       "  </tbody>\n",
       "</table>\n",
       "<p>15 rows × 37 columns</p>\n",
       "</div>"
      ],
      "text/plain": [
       "          Label (Grouping)  \\\n",
       "0         Total population   \n",
       "1                      AGE   \n",
       "2            Under 5 years   \n",
       "3             5 to 9 years   \n",
       "4           10 to 14 years   \n",
       "5           15 to 19 years   \n",
       "6           20 to 24 years   \n",
       "7           25 to 29 years   \n",
       "8           30 to 34 years   \n",
       "9           35 to 39 years   \n",
       "10          40 to 44 years   \n",
       "11          45 to 49 years   \n",
       "12          50 to 54 years   \n",
       "13          55 to 59 years   \n",
       "14          60 to 64 years   \n",
       "\n",
       "   Census Tract 64, District of Columbia, District of Columbia!!Total!!Estimate  \\\n",
       "0                                               2,492                             \n",
       "1                                                 NaN                             \n",
       "2                                                 238                             \n",
       "3                                                  99                             \n",
       "4                                                 112                             \n",
       "5                                                 155                             \n",
       "6                                                 104                             \n",
       "7                                                 281                             \n",
       "8                                                 333                             \n",
       "9                                                 285                             \n",
       "10                                                108                             \n",
       "11                                                 32                             \n",
       "12                                                166                             \n",
       "13                                                122                             \n",
       "14                                                100                             \n",
       "\n",
       "   Census Tract 64, District of Columbia, District of Columbia!!Percent!!Estimate  \\\n",
       "0                                                 (X)                               \n",
       "1                                                 NaN                               \n",
       "2                                                9.6%                               \n",
       "3                                                4.0%                               \n",
       "4                                                4.5%                               \n",
       "5                                                6.2%                               \n",
       "6                                                4.2%                               \n",
       "7                                               11.3%                               \n",
       "8                                               13.4%                               \n",
       "9                                               11.4%                               \n",
       "10                                               4.3%                               \n",
       "11                                               1.3%                               \n",
       "12                                               6.7%                               \n",
       "13                                               4.9%                               \n",
       "14                                               4.0%                               \n",
       "\n",
       "   Census Tract 64, District of Columbia, District of Columbia!!Male!!Estimate  \\\n",
       "0                                               1,190                            \n",
       "1                                                 NaN                            \n",
       "2                                                 110                            \n",
       "3                                                  59                            \n",
       "4                                                  79                            \n",
       "5                                                  67                            \n",
       "6                                                  59                            \n",
       "7                                                 149                            \n",
       "8                                                 170                            \n",
       "9                                                 169                            \n",
       "10                                                 68                            \n",
       "11                                                  7                            \n",
       "12                                                 72                            \n",
       "13                                                 28                            \n",
       "14                                                 23                            \n",
       "\n",
       "   Census Tract 64, District of Columbia, District of Columbia!!Percent Male!!Estimate  \\\n",
       "0                                                 (X)                                    \n",
       "1                                                 NaN                                    \n",
       "2                                                9.2%                                    \n",
       "3                                                5.0%                                    \n",
       "4                                                6.6%                                    \n",
       "5                                                5.6%                                    \n",
       "6                                                5.0%                                    \n",
       "7                                               12.5%                                    \n",
       "8                                               14.3%                                    \n",
       "9                                               14.2%                                    \n",
       "10                                               5.7%                                    \n",
       "11                                               0.6%                                    \n",
       "12                                               6.1%                                    \n",
       "13                                               2.4%                                    \n",
       "14                                               1.9%                                    \n",
       "\n",
       "   Census Tract 64, District of Columbia, District of Columbia!!Female!!Estimate  \\\n",
       "0                                               1,302                              \n",
       "1                                                 NaN                              \n",
       "2                                                 128                              \n",
       "3                                                  40                              \n",
       "4                                                  33                              \n",
       "5                                                  88                              \n",
       "6                                                  45                              \n",
       "7                                                 132                              \n",
       "8                                                 163                              \n",
       "9                                                 116                              \n",
       "10                                                 40                              \n",
       "11                                                 25                              \n",
       "12                                                 94                              \n",
       "13                                                 94                              \n",
       "14                                                 77                              \n",
       "\n",
       "   Census Tract 64, District of Columbia, District of Columbia!!Percent Female!!Estimate  \\\n",
       "0                                                 (X)                                      \n",
       "1                                                 NaN                                      \n",
       "2                                                9.8%                                      \n",
       "3                                                3.1%                                      \n",
       "4                                                2.5%                                      \n",
       "5                                                6.8%                                      \n",
       "6                                                3.5%                                      \n",
       "7                                               10.1%                                      \n",
       "8                                               12.5%                                      \n",
       "9                                                8.9%                                      \n",
       "10                                               3.1%                                      \n",
       "11                                               1.9%                                      \n",
       "12                                               7.2%                                      \n",
       "13                                               7.2%                                      \n",
       "14                                               5.9%                                      \n",
       "\n",
       "   Census Tract 102.01, District of Columbia, District of Columbia!!Total!!Estimate  \\\n",
       "0                                               2,522                                 \n",
       "1                                                 NaN                                 \n",
       "2                                                   0                                 \n",
       "3                                                  24                                 \n",
       "4                                                 187                                 \n",
       "5                                                   1                                 \n",
       "6                                                 150                                 \n",
       "7                                                 545                                 \n",
       "8                                                 504                                 \n",
       "9                                                 358                                 \n",
       "10                                                169                                 \n",
       "11                                                 62                                 \n",
       "12                                                 79                                 \n",
       "13                                                134                                 \n",
       "14                                                 74                                 \n",
       "\n",
       "   Census Tract 102.01, District of Columbia, District of Columbia!!Percent!!Estimate  \\\n",
       "0                                                 (X)                                   \n",
       "1                                                 NaN                                   \n",
       "2                                                0.0%                                   \n",
       "3                                                1.0%                                   \n",
       "4                                                7.4%                                   \n",
       "5                                                0.0%                                   \n",
       "6                                                5.9%                                   \n",
       "7                                               21.6%                                   \n",
       "8                                               20.0%                                   \n",
       "9                                               14.2%                                   \n",
       "10                                               6.7%                                   \n",
       "11                                               2.5%                                   \n",
       "12                                               3.1%                                   \n",
       "13                                               5.3%                                   \n",
       "14                                               2.9%                                   \n",
       "\n",
       "   Census Tract 102.01, District of Columbia, District of Columbia!!Male!!Estimate  \\\n",
       "0                                               1,450                                \n",
       "1                                                 NaN                                \n",
       "2                                                   0                                \n",
       "3                                                   0                                \n",
       "4                                                 148                                \n",
       "5                                                   1                                \n",
       "6                                                  39                                \n",
       "7                                                 272                                \n",
       "8                                                 321                                \n",
       "9                                                 256                                \n",
       "10                                                110                                \n",
       "11                                                 41                                \n",
       "12                                                  0                                \n",
       "13                                                134                                \n",
       "14                                                 20                                \n",
       "\n",
       "    ...  \\\n",
       "0   ...   \n",
       "1   ...   \n",
       "2   ...   \n",
       "3   ...   \n",
       "4   ...   \n",
       "5   ...   \n",
       "6   ...   \n",
       "7   ...   \n",
       "8   ...   \n",
       "9   ...   \n",
       "10  ...   \n",
       "11  ...   \n",
       "12  ...   \n",
       "13  ...   \n",
       "14  ...   \n",
       "\n",
       "   Census Tract 110.01, District of Columbia, District of Columbia!!Male!!Estimate  \\\n",
       "0                                               1,108                                \n",
       "1                                                 NaN                                \n",
       "2                                                  32                                \n",
       "3                                                   0                                \n",
       "4                                                   0                                \n",
       "5                                                   7                                \n",
       "6                                                   0                                \n",
       "7                                                 333                                \n",
       "8                                                 197                                \n",
       "9                                                  64                                \n",
       "10                                                 23                                \n",
       "11                                                133                                \n",
       "12                                                 39                                \n",
       "13                                                 77                                \n",
       "14                                                 93                                \n",
       "\n",
       "   Census Tract 110.01, District of Columbia, District of Columbia!!Percent Male!!Estimate  \\\n",
       "0                                                 (X)                                        \n",
       "1                                                 NaN                                        \n",
       "2                                                2.9%                                        \n",
       "3                                                0.0%                                        \n",
       "4                                                0.0%                                        \n",
       "5                                                0.6%                                        \n",
       "6                                                0.0%                                        \n",
       "7                                               30.1%                                        \n",
       "8                                               17.8%                                        \n",
       "9                                                5.8%                                        \n",
       "10                                               2.1%                                        \n",
       "11                                              12.0%                                        \n",
       "12                                               3.5%                                        \n",
       "13                                               6.9%                                        \n",
       "14                                               8.4%                                        \n",
       "\n",
       "   Census Tract 110.01, District of Columbia, District of Columbia!!Female!!Estimate  \\\n",
       "0                                               1,277                                  \n",
       "1                                                 NaN                                  \n",
       "2                                                  22                                  \n",
       "3                                                   0                                  \n",
       "4                                                   0                                  \n",
       "5                                                   4                                  \n",
       "6                                                  35                                  \n",
       "7                                                 238                                  \n",
       "8                                                 138                                  \n",
       "9                                                  87                                  \n",
       "10                                                100                                  \n",
       "11                                                 88                                  \n",
       "12                                                133                                  \n",
       "13                                                184                                  \n",
       "14                                                 97                                  \n",
       "\n",
       "   Census Tract 110.01, District of Columbia, District of Columbia!!Percent Female!!Estimate  \\\n",
       "0                                                 (X)                                          \n",
       "1                                                 NaN                                          \n",
       "2                                                1.7%                                          \n",
       "3                                                0.0%                                          \n",
       "4                                                0.0%                                          \n",
       "5                                                0.3%                                          \n",
       "6                                                2.7%                                          \n",
       "7                                               18.6%                                          \n",
       "8                                               10.8%                                          \n",
       "9                                                6.8%                                          \n",
       "10                                               7.8%                                          \n",
       "11                                               6.9%                                          \n",
       "12                                              10.4%                                          \n",
       "13                                              14.4%                                          \n",
       "14                                               7.6%                                          \n",
       "\n",
       "   Census Tract 110.02, District of Columbia, District of Columbia!!Total!!Estimate  \\\n",
       "0                                               1,519                                 \n",
       "1                                                 NaN                                 \n",
       "2                                                  40                                 \n",
       "3                                                   0                                 \n",
       "4                                                   0                                 \n",
       "5                                                   0                                 \n",
       "6                                                  52                                 \n",
       "7                                                  91                                 \n",
       "8                                                 180                                 \n",
       "9                                                 121                                 \n",
       "10                                                 97                                 \n",
       "11                                                141                                 \n",
       "12                                                148                                 \n",
       "13                                                126                                 \n",
       "14                                                 92                                 \n",
       "\n",
       "   Census Tract 110.02, District of Columbia, District of Columbia!!Percent!!Estimate  \\\n",
       "0                                                 (X)                                   \n",
       "1                                                 NaN                                   \n",
       "2                                                2.6%                                   \n",
       "3                                                0.0%                                   \n",
       "4                                                0.0%                                   \n",
       "5                                                0.0%                                   \n",
       "6                                                3.4%                                   \n",
       "7                                                6.0%                                   \n",
       "8                                               11.8%                                   \n",
       "9                                                8.0%                                   \n",
       "10                                               6.4%                                   \n",
       "11                                               9.3%                                   \n",
       "12                                               9.7%                                   \n",
       "13                                               8.3%                                   \n",
       "14                                               6.1%                                   \n",
       "\n",
       "   Census Tract 110.02, District of Columbia, District of Columbia!!Male!!Estimate  \\\n",
       "0                                                 697                                \n",
       "1                                                 NaN                                \n",
       "2                                                  40                                \n",
       "3                                                   0                                \n",
       "4                                                   0                                \n",
       "5                                                   0                                \n",
       "6                                                  33                                \n",
       "7                                                  73                                \n",
       "8                                                 126                                \n",
       "9                                                  65                                \n",
       "10                                                 17                                \n",
       "11                                                 38                                \n",
       "12                                                 59                                \n",
       "13                                                 59                                \n",
       "14                                                 62                                \n",
       "\n",
       "   Census Tract 110.02, District of Columbia, District of Columbia!!Percent Male!!Estimate  \\\n",
       "0                                                 (X)                                        \n",
       "1                                                 NaN                                        \n",
       "2                                                5.7%                                        \n",
       "3                                                0.0%                                        \n",
       "4                                                0.0%                                        \n",
       "5                                                0.0%                                        \n",
       "6                                                4.7%                                        \n",
       "7                                               10.5%                                        \n",
       "8                                               18.1%                                        \n",
       "9                                                9.3%                                        \n",
       "10                                               2.4%                                        \n",
       "11                                               5.5%                                        \n",
       "12                                               8.5%                                        \n",
       "13                                               8.5%                                        \n",
       "14                                               8.9%                                        \n",
       "\n",
       "   Census Tract 110.02, District of Columbia, District of Columbia!!Female!!Estimate  \\\n",
       "0                                                 822                                  \n",
       "1                                                 NaN                                  \n",
       "2                                                   0                                  \n",
       "3                                                   0                                  \n",
       "4                                                   0                                  \n",
       "5                                                   0                                  \n",
       "6                                                  19                                  \n",
       "7                                                  18                                  \n",
       "8                                                  54                                  \n",
       "9                                                  56                                  \n",
       "10                                                 80                                  \n",
       "11                                                103                                  \n",
       "12                                                 89                                  \n",
       "13                                                 67                                  \n",
       "14                                                 30                                  \n",
       "\n",
       "   Census Tract 110.02, District of Columbia, District of Columbia!!Percent Female!!Estimate  \n",
       "0                                                 (X)                                         \n",
       "1                                                 NaN                                         \n",
       "2                                                0.0%                                         \n",
       "3                                                0.0%                                         \n",
       "4                                                0.0%                                         \n",
       "5                                                0.0%                                         \n",
       "6                                                2.3%                                         \n",
       "7                                                2.2%                                         \n",
       "8                                                6.6%                                         \n",
       "9                                                6.8%                                         \n",
       "10                                               9.7%                                         \n",
       "11                                              12.5%                                         \n",
       "12                                              10.8%                                         \n",
       "13                                               8.2%                                         \n",
       "14                                               3.6%                                         \n",
       "\n",
       "[15 rows x 37 columns]"
      ]
     },
     "execution_count": 205,
     "metadata": {},
     "output_type": "execute_result"
    }
   ],
   "source": [
    "# Analysis of age\n",
    "age_and_sex_df.head(15)"
   ]
  },
  {
   "cell_type": "code",
   "execution_count": 206,
   "metadata": {},
   "outputs": [
    {
     "name": "stdout",
     "output_type": "stream",
     "text": [
      "The Column Header : ['Label (Grouping)', 'Census Tract 64, District of Columbia, District of Columbia!!Total!!Estimate', 'Census Tract 64, District of Columbia, District of Columbia!!Percent!!Estimate', 'Census Tract 64, District of Columbia, District of Columbia!!Male!!Estimate', 'Census Tract 64, District of Columbia, District of Columbia!!Percent Male!!Estimate', 'Census Tract 64, District of Columbia, District of Columbia!!Female!!Estimate', 'Census Tract 64, District of Columbia, District of Columbia!!Percent Female!!Estimate', 'Census Tract 102.01, District of Columbia, District of Columbia!!Total!!Estimate', 'Census Tract 102.01, District of Columbia, District of Columbia!!Percent!!Estimate', 'Census Tract 102.01, District of Columbia, District of Columbia!!Male!!Estimate', 'Census Tract 102.01, District of Columbia, District of Columbia!!Percent Male!!Estimate', 'Census Tract 102.01, District of Columbia, District of Columbia!!Female!!Estimate', 'Census Tract 102.01, District of Columbia, District of Columbia!!Percent Female!!Estimate', 'Census Tract 102.02, District of Columbia, District of Columbia!!Total!!Estimate', 'Census Tract 102.02, District of Columbia, District of Columbia!!Percent!!Estimate', 'Census Tract 102.02, District of Columbia, District of Columbia!!Male!!Estimate', 'Census Tract 102.02, District of Columbia, District of Columbia!!Percent Male!!Estimate', 'Census Tract 102.02, District of Columbia, District of Columbia!!Female!!Estimate', 'Census Tract 102.02, District of Columbia, District of Columbia!!Percent Female!!Estimate', 'Census Tract 105, District of Columbia, District of Columbia!!Total!!Estimate', 'Census Tract 105, District of Columbia, District of Columbia!!Percent!!Estimate', 'Census Tract 105, District of Columbia, District of Columbia!!Male!!Estimate', 'Census Tract 105, District of Columbia, District of Columbia!!Percent Male!!Estimate', 'Census Tract 105, District of Columbia, District of Columbia!!Female!!Estimate', 'Census Tract 105, District of Columbia, District of Columbia!!Percent Female!!Estimate', 'Census Tract 110.01, District of Columbia, District of Columbia!!Total!!Estimate', 'Census Tract 110.01, District of Columbia, District of Columbia!!Percent!!Estimate', 'Census Tract 110.01, District of Columbia, District of Columbia!!Male!!Estimate', 'Census Tract 110.01, District of Columbia, District of Columbia!!Percent Male!!Estimate', 'Census Tract 110.01, District of Columbia, District of Columbia!!Female!!Estimate', 'Census Tract 110.01, District of Columbia, District of Columbia!!Percent Female!!Estimate', 'Census Tract 110.02, District of Columbia, District of Columbia!!Total!!Estimate', 'Census Tract 110.02, District of Columbia, District of Columbia!!Percent!!Estimate', 'Census Tract 110.02, District of Columbia, District of Columbia!!Male!!Estimate', 'Census Tract 110.02, District of Columbia, District of Columbia!!Percent Male!!Estimate', 'Census Tract 110.02, District of Columbia, District of Columbia!!Female!!Estimate', 'Census Tract 110.02, District of Columbia, District of Columbia!!Percent Female!!Estimate']\n"
     ]
    }
   ],
   "source": [
    "\n",
    "# Get the list of all column names from headers\n",
    "column_headers = list(age_and_sex_df.columns.values)\n",
    "print(\"The Column Header :\", column_headers)\n"
   ]
  },
  {
   "cell_type": "code",
   "execution_count": 207,
   "metadata": {},
   "outputs": [
    {
     "data": {
      "text/html": [
       "<div>\n",
       "<style scoped>\n",
       "    .dataframe tbody tr th:only-of-type {\n",
       "        vertical-align: middle;\n",
       "    }\n",
       "\n",
       "    .dataframe tbody tr th {\n",
       "        vertical-align: top;\n",
       "    }\n",
       "\n",
       "    .dataframe thead th {\n",
       "        text-align: right;\n",
       "    }\n",
       "</style>\n",
       "<table border=\"1\" class=\"dataframe\">\n",
       "  <thead>\n",
       "    <tr style=\"text-align: right;\">\n",
       "      <th></th>\n",
       "      <th>Label (Grouping)</th>\n",
       "      <th>Census Tract 64, District of Columbia, District of Columbia!!Total!!Estimate</th>\n",
       "      <th>Census Tract 64, District of Columbia, District of Columbia!!Male!!Estimate</th>\n",
       "      <th>Census Tract 64, District of Columbia, District of Columbia!!Female!!Estimate</th>\n",
       "    </tr>\n",
       "  </thead>\n",
       "  <tbody>\n",
       "    <tr>\n",
       "      <th>2</th>\n",
       "      <td>Under 5 years</td>\n",
       "      <td>238</td>\n",
       "      <td>110</td>\n",
       "      <td>128</td>\n",
       "    </tr>\n",
       "    <tr>\n",
       "      <th>3</th>\n",
       "      <td>5 to 9 years</td>\n",
       "      <td>99</td>\n",
       "      <td>59</td>\n",
       "      <td>40</td>\n",
       "    </tr>\n",
       "    <tr>\n",
       "      <th>4</th>\n",
       "      <td>10 to 14 years</td>\n",
       "      <td>112</td>\n",
       "      <td>79</td>\n",
       "      <td>33</td>\n",
       "    </tr>\n",
       "    <tr>\n",
       "      <th>5</th>\n",
       "      <td>15 to 19 years</td>\n",
       "      <td>155</td>\n",
       "      <td>67</td>\n",
       "      <td>88</td>\n",
       "    </tr>\n",
       "    <tr>\n",
       "      <th>6</th>\n",
       "      <td>20 to 24 years</td>\n",
       "      <td>104</td>\n",
       "      <td>59</td>\n",
       "      <td>45</td>\n",
       "    </tr>\n",
       "  </tbody>\n",
       "</table>\n",
       "</div>"
      ],
      "text/plain": [
       "         Label (Grouping)  \\\n",
       "2           Under 5 years   \n",
       "3            5 to 9 years   \n",
       "4          10 to 14 years   \n",
       "5          15 to 19 years   \n",
       "6          20 to 24 years   \n",
       "\n",
       "  Census Tract 64, District of Columbia, District of Columbia!!Total!!Estimate  \\\n",
       "2                                                238                             \n",
       "3                                                 99                             \n",
       "4                                                112                             \n",
       "5                                                155                             \n",
       "6                                                104                             \n",
       "\n",
       "  Census Tract 64, District of Columbia, District of Columbia!!Male!!Estimate  \\\n",
       "2                                                110                            \n",
       "3                                                 59                            \n",
       "4                                                 79                            \n",
       "5                                                 67                            \n",
       "6                                                 59                            \n",
       "\n",
       "  Census Tract 64, District of Columbia, District of Columbia!!Female!!Estimate  \n",
       "2                                                128                             \n",
       "3                                                 40                             \n",
       "4                                                 33                             \n",
       "5                                                 88                             \n",
       "6                                                 45                             "
      ]
     },
     "execution_count": 207,
     "metadata": {},
     "output_type": "execute_result"
    }
   ],
   "source": [
    "# Tract 64 Analysis\n",
    "\n",
    "male_col = 'Census Tract 64, District of Columbia, District of Columbia!!Male!!Estimate'\n",
    "female_col = 'Census Tract 64, District of Columbia, District of Columbia!!Female!!Estimate'\n",
    "\n",
    "tract_64_df = age_and_sex_df[['Label (Grouping)', 'Census Tract 64, District of Columbia, District of Columbia!!Total!!Estimate',male_col, female_col]].iloc[2:20 , :]\n",
    "tract_64_df.head()"
   ]
  },
  {
   "cell_type": "code",
   "execution_count": 208,
   "metadata": {},
   "outputs": [
    {
     "data": {
      "text/html": [
       "<div>\n",
       "<style scoped>\n",
       "    .dataframe tbody tr th:only-of-type {\n",
       "        vertical-align: middle;\n",
       "    }\n",
       "\n",
       "    .dataframe tbody tr th {\n",
       "        vertical-align: top;\n",
       "    }\n",
       "\n",
       "    .dataframe thead th {\n",
       "        text-align: right;\n",
       "    }\n",
       "</style>\n",
       "<table border=\"1\" class=\"dataframe\">\n",
       "  <thead>\n",
       "    <tr style=\"text-align: right;\">\n",
       "      <th></th>\n",
       "      <th>Label (Grouping)</th>\n",
       "      <th>Census Tract 64, District of Columbia, District of Columbia!!Total!!Estimate</th>\n",
       "      <th>Census Tract 64, District of Columbia, District of Columbia!!Male!!Estimate</th>\n",
       "      <th>Census Tract 64, District of Columbia, District of Columbia!!Female!!Estimate</th>\n",
       "    </tr>\n",
       "  </thead>\n",
       "  <tbody>\n",
       "    <tr>\n",
       "      <th>2</th>\n",
       "      <td>Under 5 years</td>\n",
       "      <td>238</td>\n",
       "      <td>110</td>\n",
       "      <td>128</td>\n",
       "    </tr>\n",
       "    <tr>\n",
       "      <th>3</th>\n",
       "      <td>5 to 9 years</td>\n",
       "      <td>99</td>\n",
       "      <td>59</td>\n",
       "      <td>40</td>\n",
       "    </tr>\n",
       "    <tr>\n",
       "      <th>4</th>\n",
       "      <td>10 to 14 years</td>\n",
       "      <td>112</td>\n",
       "      <td>79</td>\n",
       "      <td>33</td>\n",
       "    </tr>\n",
       "    <tr>\n",
       "      <th>5</th>\n",
       "      <td>15 to 19 years</td>\n",
       "      <td>155</td>\n",
       "      <td>67</td>\n",
       "      <td>88</td>\n",
       "    </tr>\n",
       "    <tr>\n",
       "      <th>6</th>\n",
       "      <td>20 to 24 years</td>\n",
       "      <td>104</td>\n",
       "      <td>59</td>\n",
       "      <td>45</td>\n",
       "    </tr>\n",
       "    <tr>\n",
       "      <th>7</th>\n",
       "      <td>25 to 29 years</td>\n",
       "      <td>281</td>\n",
       "      <td>149</td>\n",
       "      <td>132</td>\n",
       "    </tr>\n",
       "    <tr>\n",
       "      <th>8</th>\n",
       "      <td>30 to 34 years</td>\n",
       "      <td>333</td>\n",
       "      <td>170</td>\n",
       "      <td>163</td>\n",
       "    </tr>\n",
       "    <tr>\n",
       "      <th>9</th>\n",
       "      <td>35 to 39 years</td>\n",
       "      <td>285</td>\n",
       "      <td>169</td>\n",
       "      <td>116</td>\n",
       "    </tr>\n",
       "    <tr>\n",
       "      <th>10</th>\n",
       "      <td>40 to 44 years</td>\n",
       "      <td>108</td>\n",
       "      <td>68</td>\n",
       "      <td>40</td>\n",
       "    </tr>\n",
       "    <tr>\n",
       "      <th>11</th>\n",
       "      <td>45 to 49 years</td>\n",
       "      <td>32</td>\n",
       "      <td>7</td>\n",
       "      <td>25</td>\n",
       "    </tr>\n",
       "    <tr>\n",
       "      <th>12</th>\n",
       "      <td>50 to 54 years</td>\n",
       "      <td>166</td>\n",
       "      <td>72</td>\n",
       "      <td>94</td>\n",
       "    </tr>\n",
       "    <tr>\n",
       "      <th>13</th>\n",
       "      <td>55 to 59 years</td>\n",
       "      <td>122</td>\n",
       "      <td>28</td>\n",
       "      <td>94</td>\n",
       "    </tr>\n",
       "    <tr>\n",
       "      <th>14</th>\n",
       "      <td>60 to 64 years</td>\n",
       "      <td>100</td>\n",
       "      <td>23</td>\n",
       "      <td>77</td>\n",
       "    </tr>\n",
       "    <tr>\n",
       "      <th>15</th>\n",
       "      <td>65 to 69 years</td>\n",
       "      <td>147</td>\n",
       "      <td>80</td>\n",
       "      <td>67</td>\n",
       "    </tr>\n",
       "    <tr>\n",
       "      <th>16</th>\n",
       "      <td>70 to 74 years</td>\n",
       "      <td>105</td>\n",
       "      <td>39</td>\n",
       "      <td>66</td>\n",
       "    </tr>\n",
       "    <tr>\n",
       "      <th>17</th>\n",
       "      <td>75 to 79 years</td>\n",
       "      <td>55</td>\n",
       "      <td>11</td>\n",
       "      <td>44</td>\n",
       "    </tr>\n",
       "    <tr>\n",
       "      <th>18</th>\n",
       "      <td>80 to 84 years</td>\n",
       "      <td>15</td>\n",
       "      <td>0</td>\n",
       "      <td>15</td>\n",
       "    </tr>\n",
       "    <tr>\n",
       "      <th>19</th>\n",
       "      <td>85 years and over</td>\n",
       "      <td>35</td>\n",
       "      <td>0</td>\n",
       "      <td>35</td>\n",
       "    </tr>\n",
       "  </tbody>\n",
       "</table>\n",
       "</div>"
      ],
      "text/plain": [
       "             Label (Grouping)  \\\n",
       "2               Under 5 years   \n",
       "3                5 to 9 years   \n",
       "4              10 to 14 years   \n",
       "5              15 to 19 years   \n",
       "6              20 to 24 years   \n",
       "7              25 to 29 years   \n",
       "8              30 to 34 years   \n",
       "9              35 to 39 years   \n",
       "10             40 to 44 years   \n",
       "11             45 to 49 years   \n",
       "12             50 to 54 years   \n",
       "13             55 to 59 years   \n",
       "14             60 to 64 years   \n",
       "15             65 to 69 years   \n",
       "16             70 to 74 years   \n",
       "17             75 to 79 years   \n",
       "18             80 to 84 years   \n",
       "19          85 years and over   \n",
       "\n",
       "   Census Tract 64, District of Columbia, District of Columbia!!Total!!Estimate  \\\n",
       "2                                                 238                             \n",
       "3                                                  99                             \n",
       "4                                                 112                             \n",
       "5                                                 155                             \n",
       "6                                                 104                             \n",
       "7                                                 281                             \n",
       "8                                                 333                             \n",
       "9                                                 285                             \n",
       "10                                                108                             \n",
       "11                                                 32                             \n",
       "12                                                166                             \n",
       "13                                                122                             \n",
       "14                                                100                             \n",
       "15                                                147                             \n",
       "16                                                105                             \n",
       "17                                                 55                             \n",
       "18                                                 15                             \n",
       "19                                                 35                             \n",
       "\n",
       "    Census Tract 64, District of Columbia, District of Columbia!!Male!!Estimate  \\\n",
       "2                                                 110                             \n",
       "3                                                  59                             \n",
       "4                                                  79                             \n",
       "5                                                  67                             \n",
       "6                                                  59                             \n",
       "7                                                 149                             \n",
       "8                                                 170                             \n",
       "9                                                 169                             \n",
       "10                                                 68                             \n",
       "11                                                  7                             \n",
       "12                                                 72                             \n",
       "13                                                 28                             \n",
       "14                                                 23                             \n",
       "15                                                 80                             \n",
       "16                                                 39                             \n",
       "17                                                 11                             \n",
       "18                                                  0                             \n",
       "19                                                  0                             \n",
       "\n",
       "   Census Tract 64, District of Columbia, District of Columbia!!Female!!Estimate  \n",
       "2                                                 128                             \n",
       "3                                                  40                             \n",
       "4                                                  33                             \n",
       "5                                                  88                             \n",
       "6                                                  45                             \n",
       "7                                                 132                             \n",
       "8                                                 163                             \n",
       "9                                                 116                             \n",
       "10                                                 40                             \n",
       "11                                                 25                             \n",
       "12                                                 94                             \n",
       "13                                                 94                             \n",
       "14                                                 77                             \n",
       "15                                                 67                             \n",
       "16                                                 66                             \n",
       "17                                                 44                             \n",
       "18                                                 15                             \n",
       "19                                                 35                             "
      ]
     },
     "execution_count": 208,
     "metadata": {},
     "output_type": "execute_result"
    }
   ],
   "source": [
    "tract_64_df[male_col]=tract_64_df[male_col].replace(regex=[r'\\D+'], value=\"\")\n",
    "tract_64_df[female_col]=tract_64_df[female_col].replace(regex=[r'\\D+'], value=\"\")\n",
    "\n",
    "tract_64_df = tract_64_df.dropna(subset=[male_col, female_col])\n",
    "\n",
    "tract_64_df[male_col] = tract_64_df[male_col].astype(int)\n",
    "tract_64_df[male_col] = tract_64_df[male_col].astype(int)\n",
    "tract_64_df.head(100)"
   ]
  },
  {
   "cell_type": "code",
   "execution_count": null,
   "metadata": {},
   "outputs": [],
   "source": [
    "# import pandas as pd\n",
    "# import matplotlib.pyplot as plt\n",
    "# import numpy as np\n",
    "# import seaborn as sns\n",
    "\n",
    "\n",
    "# AgeClass = tract_64_df['Label (Grouping)'].values.tolist()\n",
    "\n",
    "# bar_plot = sns.barplot(x = tract_64_df[male_col], y='Label (Grouping)', data=tract_64_df, order=AgeClass, lw=0)\n",
    "\n",
    "# bar_plot = sns.barplot(x = tract_64_df[female_col] * -1, y='Label (Grouping)', data=tract_64_df, order=AgeClass, lw=0)\n",
    "\n",
    "# bar_plot.set(xlabel=\"Population (hundreds)\", ylabel=\"Age-Group\", title = \"Population Pyramid\")\n"
   ]
  },
  {
   "cell_type": "code",
   "execution_count": 200,
   "metadata": {},
   "outputs": [
    {
     "data": {
      "application/vnd.plotly.v1+json": {
       "config": {
        "plotlyServerURL": "https://plot.ly"
       },
       "data": [
        {
         "name": "Male",
         "orientation": "h",
         "type": "bar",
         "x": [
          110,
          59,
          79,
          67,
          59,
          149,
          170,
          169,
          68,
          7,
          72,
          28,
          23,
          80,
          39,
          11,
          0,
          0
         ],
         "y": [
          "        Under 5 years",
          "        5 to 9 years",
          "        10 to 14 years",
          "        15 to 19 years",
          "        20 to 24 years",
          "        25 to 29 years",
          "        30 to 34 years",
          "        35 to 39 years",
          "        40 to 44 years",
          "        45 to 49 years",
          "        50 to 54 years",
          "        55 to 59 years",
          "        60 to 64 years",
          "        65 to 69 years",
          "        70 to 74 years",
          "        75 to 79 years",
          "        80 to 84 years",
          "        85 years and over"
         ]
        },
        {
         "name": "Female",
         "orientation": "h",
         "type": "bar",
         "x": [
          -128,
          -40,
          -33,
          -88,
          -45,
          -132,
          -163,
          -116,
          -40,
          -25,
          -94,
          -94,
          -77,
          -67,
          -66,
          -44,
          -15,
          -35
         ],
         "y": [
          "        Under 5 years",
          "        5 to 9 years",
          "        10 to 14 years",
          "        15 to 19 years",
          "        20 to 24 years",
          "        25 to 29 years",
          "        30 to 34 years",
          "        35 to 39 years",
          "        40 to 44 years",
          "        45 to 49 years",
          "        50 to 54 years",
          "        55 to 59 years",
          "        60 to 64 years",
          "        65 to 69 years",
          "        70 to 74 years",
          "        75 to 79 years",
          "        80 to 84 years",
          "        85 years and over"
         ]
        }
       ],
       "layout": {
        "bargap": 0,
        "bargroupgap": 0,
        "barmode": "relative",
        "template": {
         "data": {
          "bar": [
           {
            "error_x": {
             "color": "#2a3f5f"
            },
            "error_y": {
             "color": "#2a3f5f"
            },
            "marker": {
             "line": {
              "color": "#E5ECF6",
              "width": 0.5
             },
             "pattern": {
              "fillmode": "overlay",
              "size": 10,
              "solidity": 0.2
             }
            },
            "type": "bar"
           }
          ],
          "barpolar": [
           {
            "marker": {
             "line": {
              "color": "#E5ECF6",
              "width": 0.5
             },
             "pattern": {
              "fillmode": "overlay",
              "size": 10,
              "solidity": 0.2
             }
            },
            "type": "barpolar"
           }
          ],
          "carpet": [
           {
            "aaxis": {
             "endlinecolor": "#2a3f5f",
             "gridcolor": "white",
             "linecolor": "white",
             "minorgridcolor": "white",
             "startlinecolor": "#2a3f5f"
            },
            "baxis": {
             "endlinecolor": "#2a3f5f",
             "gridcolor": "white",
             "linecolor": "white",
             "minorgridcolor": "white",
             "startlinecolor": "#2a3f5f"
            },
            "type": "carpet"
           }
          ],
          "choropleth": [
           {
            "colorbar": {
             "outlinewidth": 0,
             "ticks": ""
            },
            "type": "choropleth"
           }
          ],
          "contour": [
           {
            "colorbar": {
             "outlinewidth": 0,
             "ticks": ""
            },
            "colorscale": [
             [
              0,
              "#0d0887"
             ],
             [
              0.1111111111111111,
              "#46039f"
             ],
             [
              0.2222222222222222,
              "#7201a8"
             ],
             [
              0.3333333333333333,
              "#9c179e"
             ],
             [
              0.4444444444444444,
              "#bd3786"
             ],
             [
              0.5555555555555556,
              "#d8576b"
             ],
             [
              0.6666666666666666,
              "#ed7953"
             ],
             [
              0.7777777777777778,
              "#fb9f3a"
             ],
             [
              0.8888888888888888,
              "#fdca26"
             ],
             [
              1,
              "#f0f921"
             ]
            ],
            "type": "contour"
           }
          ],
          "contourcarpet": [
           {
            "colorbar": {
             "outlinewidth": 0,
             "ticks": ""
            },
            "type": "contourcarpet"
           }
          ],
          "heatmap": [
           {
            "colorbar": {
             "outlinewidth": 0,
             "ticks": ""
            },
            "colorscale": [
             [
              0,
              "#0d0887"
             ],
             [
              0.1111111111111111,
              "#46039f"
             ],
             [
              0.2222222222222222,
              "#7201a8"
             ],
             [
              0.3333333333333333,
              "#9c179e"
             ],
             [
              0.4444444444444444,
              "#bd3786"
             ],
             [
              0.5555555555555556,
              "#d8576b"
             ],
             [
              0.6666666666666666,
              "#ed7953"
             ],
             [
              0.7777777777777778,
              "#fb9f3a"
             ],
             [
              0.8888888888888888,
              "#fdca26"
             ],
             [
              1,
              "#f0f921"
             ]
            ],
            "type": "heatmap"
           }
          ],
          "heatmapgl": [
           {
            "colorbar": {
             "outlinewidth": 0,
             "ticks": ""
            },
            "colorscale": [
             [
              0,
              "#0d0887"
             ],
             [
              0.1111111111111111,
              "#46039f"
             ],
             [
              0.2222222222222222,
              "#7201a8"
             ],
             [
              0.3333333333333333,
              "#9c179e"
             ],
             [
              0.4444444444444444,
              "#bd3786"
             ],
             [
              0.5555555555555556,
              "#d8576b"
             ],
             [
              0.6666666666666666,
              "#ed7953"
             ],
             [
              0.7777777777777778,
              "#fb9f3a"
             ],
             [
              0.8888888888888888,
              "#fdca26"
             ],
             [
              1,
              "#f0f921"
             ]
            ],
            "type": "heatmapgl"
           }
          ],
          "histogram": [
           {
            "marker": {
             "pattern": {
              "fillmode": "overlay",
              "size": 10,
              "solidity": 0.2
             }
            },
            "type": "histogram"
           }
          ],
          "histogram2d": [
           {
            "colorbar": {
             "outlinewidth": 0,
             "ticks": ""
            },
            "colorscale": [
             [
              0,
              "#0d0887"
             ],
             [
              0.1111111111111111,
              "#46039f"
             ],
             [
              0.2222222222222222,
              "#7201a8"
             ],
             [
              0.3333333333333333,
              "#9c179e"
             ],
             [
              0.4444444444444444,
              "#bd3786"
             ],
             [
              0.5555555555555556,
              "#d8576b"
             ],
             [
              0.6666666666666666,
              "#ed7953"
             ],
             [
              0.7777777777777778,
              "#fb9f3a"
             ],
             [
              0.8888888888888888,
              "#fdca26"
             ],
             [
              1,
              "#f0f921"
             ]
            ],
            "type": "histogram2d"
           }
          ],
          "histogram2dcontour": [
           {
            "colorbar": {
             "outlinewidth": 0,
             "ticks": ""
            },
            "colorscale": [
             [
              0,
              "#0d0887"
             ],
             [
              0.1111111111111111,
              "#46039f"
             ],
             [
              0.2222222222222222,
              "#7201a8"
             ],
             [
              0.3333333333333333,
              "#9c179e"
             ],
             [
              0.4444444444444444,
              "#bd3786"
             ],
             [
              0.5555555555555556,
              "#d8576b"
             ],
             [
              0.6666666666666666,
              "#ed7953"
             ],
             [
              0.7777777777777778,
              "#fb9f3a"
             ],
             [
              0.8888888888888888,
              "#fdca26"
             ],
             [
              1,
              "#f0f921"
             ]
            ],
            "type": "histogram2dcontour"
           }
          ],
          "mesh3d": [
           {
            "colorbar": {
             "outlinewidth": 0,
             "ticks": ""
            },
            "type": "mesh3d"
           }
          ],
          "parcoords": [
           {
            "line": {
             "colorbar": {
              "outlinewidth": 0,
              "ticks": ""
             }
            },
            "type": "parcoords"
           }
          ],
          "pie": [
           {
            "automargin": true,
            "type": "pie"
           }
          ],
          "scatter": [
           {
            "fillpattern": {
             "fillmode": "overlay",
             "size": 10,
             "solidity": 0.2
            },
            "type": "scatter"
           }
          ],
          "scatter3d": [
           {
            "line": {
             "colorbar": {
              "outlinewidth": 0,
              "ticks": ""
             }
            },
            "marker": {
             "colorbar": {
              "outlinewidth": 0,
              "ticks": ""
             }
            },
            "type": "scatter3d"
           }
          ],
          "scattercarpet": [
           {
            "marker": {
             "colorbar": {
              "outlinewidth": 0,
              "ticks": ""
             }
            },
            "type": "scattercarpet"
           }
          ],
          "scattergeo": [
           {
            "marker": {
             "colorbar": {
              "outlinewidth": 0,
              "ticks": ""
             }
            },
            "type": "scattergeo"
           }
          ],
          "scattergl": [
           {
            "marker": {
             "colorbar": {
              "outlinewidth": 0,
              "ticks": ""
             }
            },
            "type": "scattergl"
           }
          ],
          "scattermapbox": [
           {
            "marker": {
             "colorbar": {
              "outlinewidth": 0,
              "ticks": ""
             }
            },
            "type": "scattermapbox"
           }
          ],
          "scatterpolar": [
           {
            "marker": {
             "colorbar": {
              "outlinewidth": 0,
              "ticks": ""
             }
            },
            "type": "scatterpolar"
           }
          ],
          "scatterpolargl": [
           {
            "marker": {
             "colorbar": {
              "outlinewidth": 0,
              "ticks": ""
             }
            },
            "type": "scatterpolargl"
           }
          ],
          "scatterternary": [
           {
            "marker": {
             "colorbar": {
              "outlinewidth": 0,
              "ticks": ""
             }
            },
            "type": "scatterternary"
           }
          ],
          "surface": [
           {
            "colorbar": {
             "outlinewidth": 0,
             "ticks": ""
            },
            "colorscale": [
             [
              0,
              "#0d0887"
             ],
             [
              0.1111111111111111,
              "#46039f"
             ],
             [
              0.2222222222222222,
              "#7201a8"
             ],
             [
              0.3333333333333333,
              "#9c179e"
             ],
             [
              0.4444444444444444,
              "#bd3786"
             ],
             [
              0.5555555555555556,
              "#d8576b"
             ],
             [
              0.6666666666666666,
              "#ed7953"
             ],
             [
              0.7777777777777778,
              "#fb9f3a"
             ],
             [
              0.8888888888888888,
              "#fdca26"
             ],
             [
              1,
              "#f0f921"
             ]
            ],
            "type": "surface"
           }
          ],
          "table": [
           {
            "cells": {
             "fill": {
              "color": "#EBF0F8"
             },
             "line": {
              "color": "white"
             }
            },
            "header": {
             "fill": {
              "color": "#C8D4E3"
             },
             "line": {
              "color": "white"
             }
            },
            "type": "table"
           }
          ]
         },
         "layout": {
          "annotationdefaults": {
           "arrowcolor": "#2a3f5f",
           "arrowhead": 0,
           "arrowwidth": 1
          },
          "autotypenumbers": "strict",
          "coloraxis": {
           "colorbar": {
            "outlinewidth": 0,
            "ticks": ""
           }
          },
          "colorscale": {
           "diverging": [
            [
             0,
             "#8e0152"
            ],
            [
             0.1,
             "#c51b7d"
            ],
            [
             0.2,
             "#de77ae"
            ],
            [
             0.3,
             "#f1b6da"
            ],
            [
             0.4,
             "#fde0ef"
            ],
            [
             0.5,
             "#f7f7f7"
            ],
            [
             0.6,
             "#e6f5d0"
            ],
            [
             0.7,
             "#b8e186"
            ],
            [
             0.8,
             "#7fbc41"
            ],
            [
             0.9,
             "#4d9221"
            ],
            [
             1,
             "#276419"
            ]
           ],
           "sequential": [
            [
             0,
             "#0d0887"
            ],
            [
             0.1111111111111111,
             "#46039f"
            ],
            [
             0.2222222222222222,
             "#7201a8"
            ],
            [
             0.3333333333333333,
             "#9c179e"
            ],
            [
             0.4444444444444444,
             "#bd3786"
            ],
            [
             0.5555555555555556,
             "#d8576b"
            ],
            [
             0.6666666666666666,
             "#ed7953"
            ],
            [
             0.7777777777777778,
             "#fb9f3a"
            ],
            [
             0.8888888888888888,
             "#fdca26"
            ],
            [
             1,
             "#f0f921"
            ]
           ],
           "sequentialminus": [
            [
             0,
             "#0d0887"
            ],
            [
             0.1111111111111111,
             "#46039f"
            ],
            [
             0.2222222222222222,
             "#7201a8"
            ],
            [
             0.3333333333333333,
             "#9c179e"
            ],
            [
             0.4444444444444444,
             "#bd3786"
            ],
            [
             0.5555555555555556,
             "#d8576b"
            ],
            [
             0.6666666666666666,
             "#ed7953"
            ],
            [
             0.7777777777777778,
             "#fb9f3a"
            ],
            [
             0.8888888888888888,
             "#fdca26"
            ],
            [
             1,
             "#f0f921"
            ]
           ]
          },
          "colorway": [
           "#636efa",
           "#EF553B",
           "#00cc96",
           "#ab63fa",
           "#FFA15A",
           "#19d3f3",
           "#FF6692",
           "#B6E880",
           "#FF97FF",
           "#FECB52"
          ],
          "font": {
           "color": "#2a3f5f"
          },
          "geo": {
           "bgcolor": "white",
           "lakecolor": "white",
           "landcolor": "#E5ECF6",
           "showlakes": true,
           "showland": true,
           "subunitcolor": "white"
          },
          "hoverlabel": {
           "align": "left"
          },
          "hovermode": "closest",
          "mapbox": {
           "style": "light"
          },
          "paper_bgcolor": "white",
          "plot_bgcolor": "#E5ECF6",
          "polar": {
           "angularaxis": {
            "gridcolor": "white",
            "linecolor": "white",
            "ticks": ""
           },
           "bgcolor": "#E5ECF6",
           "radialaxis": {
            "gridcolor": "white",
            "linecolor": "white",
            "ticks": ""
           }
          },
          "scene": {
           "xaxis": {
            "backgroundcolor": "#E5ECF6",
            "gridcolor": "white",
            "gridwidth": 2,
            "linecolor": "white",
            "showbackground": true,
            "ticks": "",
            "zerolinecolor": "white"
           },
           "yaxis": {
            "backgroundcolor": "#E5ECF6",
            "gridcolor": "white",
            "gridwidth": 2,
            "linecolor": "white",
            "showbackground": true,
            "ticks": "",
            "zerolinecolor": "white"
           },
           "zaxis": {
            "backgroundcolor": "#E5ECF6",
            "gridcolor": "white",
            "gridwidth": 2,
            "linecolor": "white",
            "showbackground": true,
            "ticks": "",
            "zerolinecolor": "white"
           }
          },
          "shapedefaults": {
           "line": {
            "color": "#2a3f5f"
           }
          },
          "ternary": {
           "aaxis": {
            "gridcolor": "white",
            "linecolor": "white",
            "ticks": ""
           },
           "baxis": {
            "gridcolor": "white",
            "linecolor": "white",
            "ticks": ""
           },
           "bgcolor": "#E5ECF6",
           "caxis": {
            "gridcolor": "white",
            "linecolor": "white",
            "ticks": ""
           }
          },
          "title": {
           "x": 0.05
          },
          "xaxis": {
           "automargin": true,
           "gridcolor": "white",
           "linecolor": "white",
           "ticks": "",
           "title": {
            "standoff": 15
           },
           "zerolinecolor": "white",
           "zerolinewidth": 2
          },
          "yaxis": {
           "automargin": true,
           "gridcolor": "white",
           "linecolor": "white",
           "ticks": "",
           "title": {
            "standoff": 15
           },
           "zerolinecolor": "white",
           "zerolinewidth": 2
          }
         }
        },
        "title": {
         "font": {
          "size": 22
         },
         "text": "Population Pyramid of Tract 64"
        },
        "xaxis": {
         "ticktext": [
          "200",
          "150",
          "100",
          "50",
          "0",
          "50",
          "100",
          "150",
          "200"
         ],
         "tickvals": [
          -200,
          -150,
          -100,
          -50,
          0,
          50,
          100,
          150,
          200
         ],
         "title": {
          "font": {
           "size": 14
          },
          "text": "Population in Hundreds"
         }
        }
       }
      }
     },
     "metadata": {},
     "output_type": "display_data"
    }
   ],
   "source": [
    "\n",
    "import plotly.graph_objects as gp\n",
    "\n",
    "y_age = list(tract_64_df['Label (Grouping)'])\n",
    "x_M = tract_64_df[male_col]\n",
    "x_F = tract_64_df[female_col] * -1\n",
    "\n",
    "# x_F.reverse()\n",
    "\n",
    "fig = gp.Figure()\n",
    "  \n",
    "# Adding Male data to the figure\n",
    "fig.add_trace(gp.Bar(y= y_age, x = x_M, \n",
    "                     name = 'Male', \n",
    "                     orientation = 'h'))\n",
    "  \n",
    "# Adding Female data to the figure\n",
    "fig.add_trace(gp.Bar(y = y_age, x = x_F,\n",
    "                     name = 'Female', orientation = 'h'))\n",
    "  \n",
    "# Updating the layout for our graph\n",
    "fig.update_layout(title = 'Population Pyramid of Tract 64', barmode = 'relative',\n",
    "                 title_font_size = 22,\n",
    "                 bargap = 0.0, bargroupgap = 0,\n",
    "                 xaxis = dict(tickvals = [-200, -150, -100, -50,\n",
    "                                          0, 50, 100, 150, 200],\n",
    "                                \n",
    "                              ticktext = ['200', '150', '100','50', '0', \n",
    "                                          '50', '100', '150', '200'],\n",
    "                                \n",
    "                              title = 'Population in Hundreds',\n",
    "                              title_font_size = 14)\n",
    "                 )\n",
    "  \n",
    "fig.show()"
   ]
  },
  {
   "cell_type": "code",
   "execution_count": 210,
   "metadata": {},
   "outputs": [
    {
     "data": {
      "application/vnd.plotly.v1+json": {
       "config": {
        "plotlyServerURL": "https://plot.ly"
       },
       "data": [
        {
         "name": "Male",
         "orientation": "h",
         "type": "bar",
         "x": [
          0,
          0,
          148,
          1,
          39,
          272,
          321,
          256,
          110,
          41,
          0,
          134,
          20,
          30,
          0,
          46,
          32,
          0
         ],
         "y": [
          "        Under 5 years",
          "        5 to 9 years",
          "        10 to 14 years",
          "        15 to 19 years",
          "        20 to 24 years",
          "        25 to 29 years",
          "        30 to 34 years",
          "        35 to 39 years",
          "        40 to 44 years",
          "        45 to 49 years",
          "        50 to 54 years",
          "        55 to 59 years",
          "        60 to 64 years",
          "        65 to 69 years",
          "        70 to 74 years",
          "        75 to 79 years",
          "        80 to 84 years",
          "        85 years and over"
         ]
        },
        {
         "name": "Female",
         "orientation": "h",
         "type": "bar",
         "x": [
          0,
          -24,
          -39,
          0,
          -111,
          -273,
          -183,
          -102,
          -59,
          -21,
          -79,
          0,
          -54,
          -78,
          0,
          -30,
          -19,
          0
         ],
         "y": [
          "        Under 5 years",
          "        5 to 9 years",
          "        10 to 14 years",
          "        15 to 19 years",
          "        20 to 24 years",
          "        25 to 29 years",
          "        30 to 34 years",
          "        35 to 39 years",
          "        40 to 44 years",
          "        45 to 49 years",
          "        50 to 54 years",
          "        55 to 59 years",
          "        60 to 64 years",
          "        65 to 69 years",
          "        70 to 74 years",
          "        75 to 79 years",
          "        80 to 84 years",
          "        85 years and over"
         ]
        }
       ],
       "layout": {
        "bargap": 0,
        "bargroupgap": 0,
        "barmode": "relative",
        "template": {
         "data": {
          "bar": [
           {
            "error_x": {
             "color": "#2a3f5f"
            },
            "error_y": {
             "color": "#2a3f5f"
            },
            "marker": {
             "line": {
              "color": "#E5ECF6",
              "width": 0.5
             },
             "pattern": {
              "fillmode": "overlay",
              "size": 10,
              "solidity": 0.2
             }
            },
            "type": "bar"
           }
          ],
          "barpolar": [
           {
            "marker": {
             "line": {
              "color": "#E5ECF6",
              "width": 0.5
             },
             "pattern": {
              "fillmode": "overlay",
              "size": 10,
              "solidity": 0.2
             }
            },
            "type": "barpolar"
           }
          ],
          "carpet": [
           {
            "aaxis": {
             "endlinecolor": "#2a3f5f",
             "gridcolor": "white",
             "linecolor": "white",
             "minorgridcolor": "white",
             "startlinecolor": "#2a3f5f"
            },
            "baxis": {
             "endlinecolor": "#2a3f5f",
             "gridcolor": "white",
             "linecolor": "white",
             "minorgridcolor": "white",
             "startlinecolor": "#2a3f5f"
            },
            "type": "carpet"
           }
          ],
          "choropleth": [
           {
            "colorbar": {
             "outlinewidth": 0,
             "ticks": ""
            },
            "type": "choropleth"
           }
          ],
          "contour": [
           {
            "colorbar": {
             "outlinewidth": 0,
             "ticks": ""
            },
            "colorscale": [
             [
              0,
              "#0d0887"
             ],
             [
              0.1111111111111111,
              "#46039f"
             ],
             [
              0.2222222222222222,
              "#7201a8"
             ],
             [
              0.3333333333333333,
              "#9c179e"
             ],
             [
              0.4444444444444444,
              "#bd3786"
             ],
             [
              0.5555555555555556,
              "#d8576b"
             ],
             [
              0.6666666666666666,
              "#ed7953"
             ],
             [
              0.7777777777777778,
              "#fb9f3a"
             ],
             [
              0.8888888888888888,
              "#fdca26"
             ],
             [
              1,
              "#f0f921"
             ]
            ],
            "type": "contour"
           }
          ],
          "contourcarpet": [
           {
            "colorbar": {
             "outlinewidth": 0,
             "ticks": ""
            },
            "type": "contourcarpet"
           }
          ],
          "heatmap": [
           {
            "colorbar": {
             "outlinewidth": 0,
             "ticks": ""
            },
            "colorscale": [
             [
              0,
              "#0d0887"
             ],
             [
              0.1111111111111111,
              "#46039f"
             ],
             [
              0.2222222222222222,
              "#7201a8"
             ],
             [
              0.3333333333333333,
              "#9c179e"
             ],
             [
              0.4444444444444444,
              "#bd3786"
             ],
             [
              0.5555555555555556,
              "#d8576b"
             ],
             [
              0.6666666666666666,
              "#ed7953"
             ],
             [
              0.7777777777777778,
              "#fb9f3a"
             ],
             [
              0.8888888888888888,
              "#fdca26"
             ],
             [
              1,
              "#f0f921"
             ]
            ],
            "type": "heatmap"
           }
          ],
          "heatmapgl": [
           {
            "colorbar": {
             "outlinewidth": 0,
             "ticks": ""
            },
            "colorscale": [
             [
              0,
              "#0d0887"
             ],
             [
              0.1111111111111111,
              "#46039f"
             ],
             [
              0.2222222222222222,
              "#7201a8"
             ],
             [
              0.3333333333333333,
              "#9c179e"
             ],
             [
              0.4444444444444444,
              "#bd3786"
             ],
             [
              0.5555555555555556,
              "#d8576b"
             ],
             [
              0.6666666666666666,
              "#ed7953"
             ],
             [
              0.7777777777777778,
              "#fb9f3a"
             ],
             [
              0.8888888888888888,
              "#fdca26"
             ],
             [
              1,
              "#f0f921"
             ]
            ],
            "type": "heatmapgl"
           }
          ],
          "histogram": [
           {
            "marker": {
             "pattern": {
              "fillmode": "overlay",
              "size": 10,
              "solidity": 0.2
             }
            },
            "type": "histogram"
           }
          ],
          "histogram2d": [
           {
            "colorbar": {
             "outlinewidth": 0,
             "ticks": ""
            },
            "colorscale": [
             [
              0,
              "#0d0887"
             ],
             [
              0.1111111111111111,
              "#46039f"
             ],
             [
              0.2222222222222222,
              "#7201a8"
             ],
             [
              0.3333333333333333,
              "#9c179e"
             ],
             [
              0.4444444444444444,
              "#bd3786"
             ],
             [
              0.5555555555555556,
              "#d8576b"
             ],
             [
              0.6666666666666666,
              "#ed7953"
             ],
             [
              0.7777777777777778,
              "#fb9f3a"
             ],
             [
              0.8888888888888888,
              "#fdca26"
             ],
             [
              1,
              "#f0f921"
             ]
            ],
            "type": "histogram2d"
           }
          ],
          "histogram2dcontour": [
           {
            "colorbar": {
             "outlinewidth": 0,
             "ticks": ""
            },
            "colorscale": [
             [
              0,
              "#0d0887"
             ],
             [
              0.1111111111111111,
              "#46039f"
             ],
             [
              0.2222222222222222,
              "#7201a8"
             ],
             [
              0.3333333333333333,
              "#9c179e"
             ],
             [
              0.4444444444444444,
              "#bd3786"
             ],
             [
              0.5555555555555556,
              "#d8576b"
             ],
             [
              0.6666666666666666,
              "#ed7953"
             ],
             [
              0.7777777777777778,
              "#fb9f3a"
             ],
             [
              0.8888888888888888,
              "#fdca26"
             ],
             [
              1,
              "#f0f921"
             ]
            ],
            "type": "histogram2dcontour"
           }
          ],
          "mesh3d": [
           {
            "colorbar": {
             "outlinewidth": 0,
             "ticks": ""
            },
            "type": "mesh3d"
           }
          ],
          "parcoords": [
           {
            "line": {
             "colorbar": {
              "outlinewidth": 0,
              "ticks": ""
             }
            },
            "type": "parcoords"
           }
          ],
          "pie": [
           {
            "automargin": true,
            "type": "pie"
           }
          ],
          "scatter": [
           {
            "fillpattern": {
             "fillmode": "overlay",
             "size": 10,
             "solidity": 0.2
            },
            "type": "scatter"
           }
          ],
          "scatter3d": [
           {
            "line": {
             "colorbar": {
              "outlinewidth": 0,
              "ticks": ""
             }
            },
            "marker": {
             "colorbar": {
              "outlinewidth": 0,
              "ticks": ""
             }
            },
            "type": "scatter3d"
           }
          ],
          "scattercarpet": [
           {
            "marker": {
             "colorbar": {
              "outlinewidth": 0,
              "ticks": ""
             }
            },
            "type": "scattercarpet"
           }
          ],
          "scattergeo": [
           {
            "marker": {
             "colorbar": {
              "outlinewidth": 0,
              "ticks": ""
             }
            },
            "type": "scattergeo"
           }
          ],
          "scattergl": [
           {
            "marker": {
             "colorbar": {
              "outlinewidth": 0,
              "ticks": ""
             }
            },
            "type": "scattergl"
           }
          ],
          "scattermapbox": [
           {
            "marker": {
             "colorbar": {
              "outlinewidth": 0,
              "ticks": ""
             }
            },
            "type": "scattermapbox"
           }
          ],
          "scatterpolar": [
           {
            "marker": {
             "colorbar": {
              "outlinewidth": 0,
              "ticks": ""
             }
            },
            "type": "scatterpolar"
           }
          ],
          "scatterpolargl": [
           {
            "marker": {
             "colorbar": {
              "outlinewidth": 0,
              "ticks": ""
             }
            },
            "type": "scatterpolargl"
           }
          ],
          "scatterternary": [
           {
            "marker": {
             "colorbar": {
              "outlinewidth": 0,
              "ticks": ""
             }
            },
            "type": "scatterternary"
           }
          ],
          "surface": [
           {
            "colorbar": {
             "outlinewidth": 0,
             "ticks": ""
            },
            "colorscale": [
             [
              0,
              "#0d0887"
             ],
             [
              0.1111111111111111,
              "#46039f"
             ],
             [
              0.2222222222222222,
              "#7201a8"
             ],
             [
              0.3333333333333333,
              "#9c179e"
             ],
             [
              0.4444444444444444,
              "#bd3786"
             ],
             [
              0.5555555555555556,
              "#d8576b"
             ],
             [
              0.6666666666666666,
              "#ed7953"
             ],
             [
              0.7777777777777778,
              "#fb9f3a"
             ],
             [
              0.8888888888888888,
              "#fdca26"
             ],
             [
              1,
              "#f0f921"
             ]
            ],
            "type": "surface"
           }
          ],
          "table": [
           {
            "cells": {
             "fill": {
              "color": "#EBF0F8"
             },
             "line": {
              "color": "white"
             }
            },
            "header": {
             "fill": {
              "color": "#C8D4E3"
             },
             "line": {
              "color": "white"
             }
            },
            "type": "table"
           }
          ]
         },
         "layout": {
          "annotationdefaults": {
           "arrowcolor": "#2a3f5f",
           "arrowhead": 0,
           "arrowwidth": 1
          },
          "autotypenumbers": "strict",
          "coloraxis": {
           "colorbar": {
            "outlinewidth": 0,
            "ticks": ""
           }
          },
          "colorscale": {
           "diverging": [
            [
             0,
             "#8e0152"
            ],
            [
             0.1,
             "#c51b7d"
            ],
            [
             0.2,
             "#de77ae"
            ],
            [
             0.3,
             "#f1b6da"
            ],
            [
             0.4,
             "#fde0ef"
            ],
            [
             0.5,
             "#f7f7f7"
            ],
            [
             0.6,
             "#e6f5d0"
            ],
            [
             0.7,
             "#b8e186"
            ],
            [
             0.8,
             "#7fbc41"
            ],
            [
             0.9,
             "#4d9221"
            ],
            [
             1,
             "#276419"
            ]
           ],
           "sequential": [
            [
             0,
             "#0d0887"
            ],
            [
             0.1111111111111111,
             "#46039f"
            ],
            [
             0.2222222222222222,
             "#7201a8"
            ],
            [
             0.3333333333333333,
             "#9c179e"
            ],
            [
             0.4444444444444444,
             "#bd3786"
            ],
            [
             0.5555555555555556,
             "#d8576b"
            ],
            [
             0.6666666666666666,
             "#ed7953"
            ],
            [
             0.7777777777777778,
             "#fb9f3a"
            ],
            [
             0.8888888888888888,
             "#fdca26"
            ],
            [
             1,
             "#f0f921"
            ]
           ],
           "sequentialminus": [
            [
             0,
             "#0d0887"
            ],
            [
             0.1111111111111111,
             "#46039f"
            ],
            [
             0.2222222222222222,
             "#7201a8"
            ],
            [
             0.3333333333333333,
             "#9c179e"
            ],
            [
             0.4444444444444444,
             "#bd3786"
            ],
            [
             0.5555555555555556,
             "#d8576b"
            ],
            [
             0.6666666666666666,
             "#ed7953"
            ],
            [
             0.7777777777777778,
             "#fb9f3a"
            ],
            [
             0.8888888888888888,
             "#fdca26"
            ],
            [
             1,
             "#f0f921"
            ]
           ]
          },
          "colorway": [
           "#636efa",
           "#EF553B",
           "#00cc96",
           "#ab63fa",
           "#FFA15A",
           "#19d3f3",
           "#FF6692",
           "#B6E880",
           "#FF97FF",
           "#FECB52"
          ],
          "font": {
           "color": "#2a3f5f"
          },
          "geo": {
           "bgcolor": "white",
           "lakecolor": "white",
           "landcolor": "#E5ECF6",
           "showlakes": true,
           "showland": true,
           "subunitcolor": "white"
          },
          "hoverlabel": {
           "align": "left"
          },
          "hovermode": "closest",
          "mapbox": {
           "style": "light"
          },
          "paper_bgcolor": "white",
          "plot_bgcolor": "#E5ECF6",
          "polar": {
           "angularaxis": {
            "gridcolor": "white",
            "linecolor": "white",
            "ticks": ""
           },
           "bgcolor": "#E5ECF6",
           "radialaxis": {
            "gridcolor": "white",
            "linecolor": "white",
            "ticks": ""
           }
          },
          "scene": {
           "xaxis": {
            "backgroundcolor": "#E5ECF6",
            "gridcolor": "white",
            "gridwidth": 2,
            "linecolor": "white",
            "showbackground": true,
            "ticks": "",
            "zerolinecolor": "white"
           },
           "yaxis": {
            "backgroundcolor": "#E5ECF6",
            "gridcolor": "white",
            "gridwidth": 2,
            "linecolor": "white",
            "showbackground": true,
            "ticks": "",
            "zerolinecolor": "white"
           },
           "zaxis": {
            "backgroundcolor": "#E5ECF6",
            "gridcolor": "white",
            "gridwidth": 2,
            "linecolor": "white",
            "showbackground": true,
            "ticks": "",
            "zerolinecolor": "white"
           }
          },
          "shapedefaults": {
           "line": {
            "color": "#2a3f5f"
           }
          },
          "ternary": {
           "aaxis": {
            "gridcolor": "white",
            "linecolor": "white",
            "ticks": ""
           },
           "baxis": {
            "gridcolor": "white",
            "linecolor": "white",
            "ticks": ""
           },
           "bgcolor": "#E5ECF6",
           "caxis": {
            "gridcolor": "white",
            "linecolor": "white",
            "ticks": ""
           }
          },
          "title": {
           "x": 0.05
          },
          "xaxis": {
           "automargin": true,
           "gridcolor": "white",
           "linecolor": "white",
           "ticks": "",
           "title": {
            "standoff": 15
           },
           "zerolinecolor": "white",
           "zerolinewidth": 2
          },
          "yaxis": {
           "automargin": true,
           "gridcolor": "white",
           "linecolor": "white",
           "ticks": "",
           "title": {
            "standoff": 15
           },
           "zerolinecolor": "white",
           "zerolinewidth": 2
          }
         }
        },
        "title": {
         "font": {
          "size": 22
         },
         "text": "Population Pyramid of Tract 102.01"
        },
        "xaxis": {
         "ticktext": [
          "200",
          "150",
          "100",
          "50",
          "0",
          "50",
          "100",
          "150",
          "200"
         ],
         "tickvals": [
          -200,
          -150,
          -100,
          -50,
          0,
          50,
          100,
          150,
          200
         ],
         "title": {
          "font": {
           "size": 14
          },
          "text": "Population in Hundreds"
         }
        }
       }
      }
     },
     "metadata": {},
     "output_type": "display_data"
    }
   ],
   "source": [
    "# Tract 102.01 Analysis\n",
    "\n",
    "male_col = 'Census Tract 102.01, District of Columbia, District of Columbia!!Male!!Estimate'\n",
    "female_col = 'Census Tract 102.01, District of Columbia, District of Columbia!!Female!!Estimate'\n",
    "\n",
    "tract_102_01_df = age_and_sex_df[['Label (Grouping)', 'Census Tract 102.01, District of Columbia, District of Columbia!!Total!!Estimate' ,male_col, female_col]].iloc[2:20 , :]\n",
    "tract_102_01_df.head()\n",
    "\n",
    "tract_102_01_df[male_col]=tract_102_01_df[male_col].replace(regex=[r'\\D+'], value=\"\")\n",
    "tract_102_01_df[female_col] = tract_102_01_df[female_col].replace(regex=[r'\\D+'], value=\"\")\n",
    "tract_102_01_df = tract_102_01_df.dropna(subset=[male_col, female_col])\n",
    "\n",
    "tract_102_01_df[male_col] = tract_102_01_df[male_col].astype(int)\n",
    "tract_102_01_df[female_col] = tract_102_01_df[female_col].astype(int)\n",
    "tract_102_01_df.head(100)\n",
    "\n",
    "\n",
    "import plotly.graph_objects as gp\n",
    "\n",
    "y_age = list(tract_102_01_df['Label (Grouping)'])\n",
    "x_M = tract_102_01_df[male_col]\n",
    "x_F = tract_102_01_df[female_col] * -1\n",
    "\n",
    "# x_F.reverse()\n",
    "\n",
    "fig = gp.Figure()\n",
    "  \n",
    "# Adding Male data to the figure\n",
    "fig.add_trace(gp.Bar(y= y_age, x = x_M, \n",
    "                     name = 'Male', \n",
    "                     orientation = 'h'))\n",
    "  \n",
    "# Adding Female data to the figure\n",
    "fig.add_trace(gp.Bar(y = y_age, x = x_F,\n",
    "                     name = 'Female', orientation = 'h'))\n",
    "  \n",
    "# Updating the layout for our graph\n",
    "fig.update_layout(title = 'Population Pyramid of Tract 102.01', barmode = 'relative',\n",
    "                 title_font_size = 22,\n",
    "                 bargap = 0.0, bargroupgap = 0,\n",
    "                 xaxis = dict(tickvals = [-200, -150, -100, -50,\n",
    "                                          0, 50, 100, 150, 200],\n",
    "                                \n",
    "                              ticktext = ['200', '150', '100','50', '0', \n",
    "                                          '50', '100', '150', '200'],\n",
    "                                \n",
    "                              title = 'Population in Hundreds',\n",
    "                              title_font_size = 14)\n",
    "                 )\n",
    "  \n",
    "fig.show()"
   ]
  },
  {
   "cell_type": "code",
   "execution_count": 212,
   "metadata": {},
   "outputs": [
    {
     "data": {
      "application/vnd.plotly.v1+json": {
       "config": {
        "plotlyServerURL": "https://plot.ly"
       },
       "data": [
        {
         "name": "Male",
         "orientation": "h",
         "type": "bar",
         "x": [
          70,
          0,
          25,
          10,
          41,
          90,
          74,
          179,
          63,
          39,
          30,
          61,
          81,
          68,
          10,
          0,
          0,
          40
         ],
         "y": [
          "        Under 5 years",
          "        5 to 9 years",
          "        10 to 14 years",
          "        15 to 19 years",
          "        20 to 24 years",
          "        25 to 29 years",
          "        30 to 34 years",
          "        35 to 39 years",
          "        40 to 44 years",
          "        45 to 49 years",
          "        50 to 54 years",
          "        55 to 59 years",
          "        60 to 64 years",
          "        65 to 69 years",
          "        70 to 74 years",
          "        75 to 79 years",
          "        80 to 84 years",
          "        85 years and over"
         ]
        },
        {
         "name": "Female",
         "orientation": "h",
         "type": "bar",
         "x": [
          -110,
          -6,
          0,
          -26,
          -53,
          -340,
          -63,
          -75,
          -25,
          -30,
          -24,
          -52,
          -49,
          -53,
          -35,
          -60,
          -78,
          0
         ],
         "y": [
          "        Under 5 years",
          "        5 to 9 years",
          "        10 to 14 years",
          "        15 to 19 years",
          "        20 to 24 years",
          "        25 to 29 years",
          "        30 to 34 years",
          "        35 to 39 years",
          "        40 to 44 years",
          "        45 to 49 years",
          "        50 to 54 years",
          "        55 to 59 years",
          "        60 to 64 years",
          "        65 to 69 years",
          "        70 to 74 years",
          "        75 to 79 years",
          "        80 to 84 years",
          "        85 years and over"
         ]
        }
       ],
       "layout": {
        "bargap": 0,
        "bargroupgap": 0,
        "barmode": "relative",
        "template": {
         "data": {
          "bar": [
           {
            "error_x": {
             "color": "#2a3f5f"
            },
            "error_y": {
             "color": "#2a3f5f"
            },
            "marker": {
             "line": {
              "color": "#E5ECF6",
              "width": 0.5
             },
             "pattern": {
              "fillmode": "overlay",
              "size": 10,
              "solidity": 0.2
             }
            },
            "type": "bar"
           }
          ],
          "barpolar": [
           {
            "marker": {
             "line": {
              "color": "#E5ECF6",
              "width": 0.5
             },
             "pattern": {
              "fillmode": "overlay",
              "size": 10,
              "solidity": 0.2
             }
            },
            "type": "barpolar"
           }
          ],
          "carpet": [
           {
            "aaxis": {
             "endlinecolor": "#2a3f5f",
             "gridcolor": "white",
             "linecolor": "white",
             "minorgridcolor": "white",
             "startlinecolor": "#2a3f5f"
            },
            "baxis": {
             "endlinecolor": "#2a3f5f",
             "gridcolor": "white",
             "linecolor": "white",
             "minorgridcolor": "white",
             "startlinecolor": "#2a3f5f"
            },
            "type": "carpet"
           }
          ],
          "choropleth": [
           {
            "colorbar": {
             "outlinewidth": 0,
             "ticks": ""
            },
            "type": "choropleth"
           }
          ],
          "contour": [
           {
            "colorbar": {
             "outlinewidth": 0,
             "ticks": ""
            },
            "colorscale": [
             [
              0,
              "#0d0887"
             ],
             [
              0.1111111111111111,
              "#46039f"
             ],
             [
              0.2222222222222222,
              "#7201a8"
             ],
             [
              0.3333333333333333,
              "#9c179e"
             ],
             [
              0.4444444444444444,
              "#bd3786"
             ],
             [
              0.5555555555555556,
              "#d8576b"
             ],
             [
              0.6666666666666666,
              "#ed7953"
             ],
             [
              0.7777777777777778,
              "#fb9f3a"
             ],
             [
              0.8888888888888888,
              "#fdca26"
             ],
             [
              1,
              "#f0f921"
             ]
            ],
            "type": "contour"
           }
          ],
          "contourcarpet": [
           {
            "colorbar": {
             "outlinewidth": 0,
             "ticks": ""
            },
            "type": "contourcarpet"
           }
          ],
          "heatmap": [
           {
            "colorbar": {
             "outlinewidth": 0,
             "ticks": ""
            },
            "colorscale": [
             [
              0,
              "#0d0887"
             ],
             [
              0.1111111111111111,
              "#46039f"
             ],
             [
              0.2222222222222222,
              "#7201a8"
             ],
             [
              0.3333333333333333,
              "#9c179e"
             ],
             [
              0.4444444444444444,
              "#bd3786"
             ],
             [
              0.5555555555555556,
              "#d8576b"
             ],
             [
              0.6666666666666666,
              "#ed7953"
             ],
             [
              0.7777777777777778,
              "#fb9f3a"
             ],
             [
              0.8888888888888888,
              "#fdca26"
             ],
             [
              1,
              "#f0f921"
             ]
            ],
            "type": "heatmap"
           }
          ],
          "heatmapgl": [
           {
            "colorbar": {
             "outlinewidth": 0,
             "ticks": ""
            },
            "colorscale": [
             [
              0,
              "#0d0887"
             ],
             [
              0.1111111111111111,
              "#46039f"
             ],
             [
              0.2222222222222222,
              "#7201a8"
             ],
             [
              0.3333333333333333,
              "#9c179e"
             ],
             [
              0.4444444444444444,
              "#bd3786"
             ],
             [
              0.5555555555555556,
              "#d8576b"
             ],
             [
              0.6666666666666666,
              "#ed7953"
             ],
             [
              0.7777777777777778,
              "#fb9f3a"
             ],
             [
              0.8888888888888888,
              "#fdca26"
             ],
             [
              1,
              "#f0f921"
             ]
            ],
            "type": "heatmapgl"
           }
          ],
          "histogram": [
           {
            "marker": {
             "pattern": {
              "fillmode": "overlay",
              "size": 10,
              "solidity": 0.2
             }
            },
            "type": "histogram"
           }
          ],
          "histogram2d": [
           {
            "colorbar": {
             "outlinewidth": 0,
             "ticks": ""
            },
            "colorscale": [
             [
              0,
              "#0d0887"
             ],
             [
              0.1111111111111111,
              "#46039f"
             ],
             [
              0.2222222222222222,
              "#7201a8"
             ],
             [
              0.3333333333333333,
              "#9c179e"
             ],
             [
              0.4444444444444444,
              "#bd3786"
             ],
             [
              0.5555555555555556,
              "#d8576b"
             ],
             [
              0.6666666666666666,
              "#ed7953"
             ],
             [
              0.7777777777777778,
              "#fb9f3a"
             ],
             [
              0.8888888888888888,
              "#fdca26"
             ],
             [
              1,
              "#f0f921"
             ]
            ],
            "type": "histogram2d"
           }
          ],
          "histogram2dcontour": [
           {
            "colorbar": {
             "outlinewidth": 0,
             "ticks": ""
            },
            "colorscale": [
             [
              0,
              "#0d0887"
             ],
             [
              0.1111111111111111,
              "#46039f"
             ],
             [
              0.2222222222222222,
              "#7201a8"
             ],
             [
              0.3333333333333333,
              "#9c179e"
             ],
             [
              0.4444444444444444,
              "#bd3786"
             ],
             [
              0.5555555555555556,
              "#d8576b"
             ],
             [
              0.6666666666666666,
              "#ed7953"
             ],
             [
              0.7777777777777778,
              "#fb9f3a"
             ],
             [
              0.8888888888888888,
              "#fdca26"
             ],
             [
              1,
              "#f0f921"
             ]
            ],
            "type": "histogram2dcontour"
           }
          ],
          "mesh3d": [
           {
            "colorbar": {
             "outlinewidth": 0,
             "ticks": ""
            },
            "type": "mesh3d"
           }
          ],
          "parcoords": [
           {
            "line": {
             "colorbar": {
              "outlinewidth": 0,
              "ticks": ""
             }
            },
            "type": "parcoords"
           }
          ],
          "pie": [
           {
            "automargin": true,
            "type": "pie"
           }
          ],
          "scatter": [
           {
            "fillpattern": {
             "fillmode": "overlay",
             "size": 10,
             "solidity": 0.2
            },
            "type": "scatter"
           }
          ],
          "scatter3d": [
           {
            "line": {
             "colorbar": {
              "outlinewidth": 0,
              "ticks": ""
             }
            },
            "marker": {
             "colorbar": {
              "outlinewidth": 0,
              "ticks": ""
             }
            },
            "type": "scatter3d"
           }
          ],
          "scattercarpet": [
           {
            "marker": {
             "colorbar": {
              "outlinewidth": 0,
              "ticks": ""
             }
            },
            "type": "scattercarpet"
           }
          ],
          "scattergeo": [
           {
            "marker": {
             "colorbar": {
              "outlinewidth": 0,
              "ticks": ""
             }
            },
            "type": "scattergeo"
           }
          ],
          "scattergl": [
           {
            "marker": {
             "colorbar": {
              "outlinewidth": 0,
              "ticks": ""
             }
            },
            "type": "scattergl"
           }
          ],
          "scattermapbox": [
           {
            "marker": {
             "colorbar": {
              "outlinewidth": 0,
              "ticks": ""
             }
            },
            "type": "scattermapbox"
           }
          ],
          "scatterpolar": [
           {
            "marker": {
             "colorbar": {
              "outlinewidth": 0,
              "ticks": ""
             }
            },
            "type": "scatterpolar"
           }
          ],
          "scatterpolargl": [
           {
            "marker": {
             "colorbar": {
              "outlinewidth": 0,
              "ticks": ""
             }
            },
            "type": "scatterpolargl"
           }
          ],
          "scatterternary": [
           {
            "marker": {
             "colorbar": {
              "outlinewidth": 0,
              "ticks": ""
             }
            },
            "type": "scatterternary"
           }
          ],
          "surface": [
           {
            "colorbar": {
             "outlinewidth": 0,
             "ticks": ""
            },
            "colorscale": [
             [
              0,
              "#0d0887"
             ],
             [
              0.1111111111111111,
              "#46039f"
             ],
             [
              0.2222222222222222,
              "#7201a8"
             ],
             [
              0.3333333333333333,
              "#9c179e"
             ],
             [
              0.4444444444444444,
              "#bd3786"
             ],
             [
              0.5555555555555556,
              "#d8576b"
             ],
             [
              0.6666666666666666,
              "#ed7953"
             ],
             [
              0.7777777777777778,
              "#fb9f3a"
             ],
             [
              0.8888888888888888,
              "#fdca26"
             ],
             [
              1,
              "#f0f921"
             ]
            ],
            "type": "surface"
           }
          ],
          "table": [
           {
            "cells": {
             "fill": {
              "color": "#EBF0F8"
             },
             "line": {
              "color": "white"
             }
            },
            "header": {
             "fill": {
              "color": "#C8D4E3"
             },
             "line": {
              "color": "white"
             }
            },
            "type": "table"
           }
          ]
         },
         "layout": {
          "annotationdefaults": {
           "arrowcolor": "#2a3f5f",
           "arrowhead": 0,
           "arrowwidth": 1
          },
          "autotypenumbers": "strict",
          "coloraxis": {
           "colorbar": {
            "outlinewidth": 0,
            "ticks": ""
           }
          },
          "colorscale": {
           "diverging": [
            [
             0,
             "#8e0152"
            ],
            [
             0.1,
             "#c51b7d"
            ],
            [
             0.2,
             "#de77ae"
            ],
            [
             0.3,
             "#f1b6da"
            ],
            [
             0.4,
             "#fde0ef"
            ],
            [
             0.5,
             "#f7f7f7"
            ],
            [
             0.6,
             "#e6f5d0"
            ],
            [
             0.7,
             "#b8e186"
            ],
            [
             0.8,
             "#7fbc41"
            ],
            [
             0.9,
             "#4d9221"
            ],
            [
             1,
             "#276419"
            ]
           ],
           "sequential": [
            [
             0,
             "#0d0887"
            ],
            [
             0.1111111111111111,
             "#46039f"
            ],
            [
             0.2222222222222222,
             "#7201a8"
            ],
            [
             0.3333333333333333,
             "#9c179e"
            ],
            [
             0.4444444444444444,
             "#bd3786"
            ],
            [
             0.5555555555555556,
             "#d8576b"
            ],
            [
             0.6666666666666666,
             "#ed7953"
            ],
            [
             0.7777777777777778,
             "#fb9f3a"
            ],
            [
             0.8888888888888888,
             "#fdca26"
            ],
            [
             1,
             "#f0f921"
            ]
           ],
           "sequentialminus": [
            [
             0,
             "#0d0887"
            ],
            [
             0.1111111111111111,
             "#46039f"
            ],
            [
             0.2222222222222222,
             "#7201a8"
            ],
            [
             0.3333333333333333,
             "#9c179e"
            ],
            [
             0.4444444444444444,
             "#bd3786"
            ],
            [
             0.5555555555555556,
             "#d8576b"
            ],
            [
             0.6666666666666666,
             "#ed7953"
            ],
            [
             0.7777777777777778,
             "#fb9f3a"
            ],
            [
             0.8888888888888888,
             "#fdca26"
            ],
            [
             1,
             "#f0f921"
            ]
           ]
          },
          "colorway": [
           "#636efa",
           "#EF553B",
           "#00cc96",
           "#ab63fa",
           "#FFA15A",
           "#19d3f3",
           "#FF6692",
           "#B6E880",
           "#FF97FF",
           "#FECB52"
          ],
          "font": {
           "color": "#2a3f5f"
          },
          "geo": {
           "bgcolor": "white",
           "lakecolor": "white",
           "landcolor": "#E5ECF6",
           "showlakes": true,
           "showland": true,
           "subunitcolor": "white"
          },
          "hoverlabel": {
           "align": "left"
          },
          "hovermode": "closest",
          "mapbox": {
           "style": "light"
          },
          "paper_bgcolor": "white",
          "plot_bgcolor": "#E5ECF6",
          "polar": {
           "angularaxis": {
            "gridcolor": "white",
            "linecolor": "white",
            "ticks": ""
           },
           "bgcolor": "#E5ECF6",
           "radialaxis": {
            "gridcolor": "white",
            "linecolor": "white",
            "ticks": ""
           }
          },
          "scene": {
           "xaxis": {
            "backgroundcolor": "#E5ECF6",
            "gridcolor": "white",
            "gridwidth": 2,
            "linecolor": "white",
            "showbackground": true,
            "ticks": "",
            "zerolinecolor": "white"
           },
           "yaxis": {
            "backgroundcolor": "#E5ECF6",
            "gridcolor": "white",
            "gridwidth": 2,
            "linecolor": "white",
            "showbackground": true,
            "ticks": "",
            "zerolinecolor": "white"
           },
           "zaxis": {
            "backgroundcolor": "#E5ECF6",
            "gridcolor": "white",
            "gridwidth": 2,
            "linecolor": "white",
            "showbackground": true,
            "ticks": "",
            "zerolinecolor": "white"
           }
          },
          "shapedefaults": {
           "line": {
            "color": "#2a3f5f"
           }
          },
          "ternary": {
           "aaxis": {
            "gridcolor": "white",
            "linecolor": "white",
            "ticks": ""
           },
           "baxis": {
            "gridcolor": "white",
            "linecolor": "white",
            "ticks": ""
           },
           "bgcolor": "#E5ECF6",
           "caxis": {
            "gridcolor": "white",
            "linecolor": "white",
            "ticks": ""
           }
          },
          "title": {
           "x": 0.05
          },
          "xaxis": {
           "automargin": true,
           "gridcolor": "white",
           "linecolor": "white",
           "ticks": "",
           "title": {
            "standoff": 15
           },
           "zerolinecolor": "white",
           "zerolinewidth": 2
          },
          "yaxis": {
           "automargin": true,
           "gridcolor": "white",
           "linecolor": "white",
           "ticks": "",
           "title": {
            "standoff": 15
           },
           "zerolinecolor": "white",
           "zerolinewidth": 2
          }
         }
        },
        "title": {
         "font": {
          "size": 22
         },
         "text": "Population Pyramid of Tract 102.02"
        },
        "xaxis": {
         "ticktext": [
          "200",
          "150",
          "100",
          "50",
          "0",
          "50",
          "100",
          "150",
          "200"
         ],
         "tickvals": [
          -200,
          -150,
          -100,
          -50,
          0,
          50,
          100,
          150,
          200
         ],
         "title": {
          "font": {
           "size": 14
          },
          "text": "Population in Hundreds"
         }
        }
       }
      }
     },
     "metadata": {},
     "output_type": "display_data"
    }
   ],
   "source": [
    "# Tract 102.01 Analysis\n",
    "\n",
    "male_col = 'Census Tract 102.02, District of Columbia, District of Columbia!!Male!!Estimate'\n",
    "female_col = 'Census Tract 102.02, District of Columbia, District of Columbia!!Female!!Estimate'\n",
    "\n",
    "tract_102_02_df = age_and_sex_df[['Label (Grouping)', 'Census Tract 102.02, District of Columbia, District of Columbia!!Total!!Estimate' ,male_col, female_col]].iloc[2:20 , :]\n",
    "tract_102_02_df.head()\n",
    "\n",
    "tract_102_02_df[male_col]=tract_102_02_df[male_col].replace(regex=[r'\\D+'], value=\"\")\n",
    "tract_102_02_df[female_col] = tract_102_02_df[female_col].replace(regex=[r'\\D+'], value=\"\")\n",
    "tract_102_02_df = tract_102_02_df.dropna(subset=[male_col, female_col])\n",
    "\n",
    "tract_102_02_df[male_col] = tract_102_02_df[male_col].astype(int)\n",
    "tract_102_02_df[female_col] = tract_102_02_df[female_col].astype(int)\n",
    "tract_102_02_df.head(100)\n",
    "\n",
    "\n",
    "import plotly.graph_objects as gp\n",
    "\n",
    "y_age = list(tract_102_02_df['Label (Grouping)'])\n",
    "x_M = tract_102_02_df[male_col]\n",
    "x_F = tract_102_02_df[female_col] * -1\n",
    "\n",
    "# x_F.reverse()\n",
    "\n",
    "fig = gp.Figure()\n",
    "  \n",
    "# Adding Male data to the figure\n",
    "fig.add_trace(gp.Bar(y= y_age, x = x_M, \n",
    "                     name = 'Male', \n",
    "                     orientation = 'h'))\n",
    "  \n",
    "# Adding Female data to the figure\n",
    "fig.add_trace(gp.Bar(y = y_age, x = x_F,\n",
    "                     name = 'Female', orientation = 'h'))\n",
    "  \n",
    "# Updating the layout for our graph\n",
    "fig.update_layout(title = 'Population Pyramid of Tract 102.02', barmode = 'relative',\n",
    "                 title_font_size = 22,\n",
    "                 bargap = 0.0, bargroupgap = 0,\n",
    "                 xaxis = dict(tickvals = [-200, -150, -100, -50,\n",
    "                                          0, 50, 100, 150, 200],\n",
    "                                \n",
    "                              ticktext = ['200', '150', '100','50', '0', \n",
    "                                          '50', '100', '150', '200'],\n",
    "                                \n",
    "                              title = 'Population in Hundreds',\n",
    "                              title_font_size = 14)\n",
    "                 )\n",
    "  \n",
    "fig.show()"
   ]
  },
  {
   "cell_type": "code",
   "execution_count": 214,
   "metadata": {},
   "outputs": [
    {
     "data": {
      "application/vnd.plotly.v1+json": {
       "config": {
        "plotlyServerURL": "https://plot.ly"
       },
       "data": [
        {
         "name": "Male",
         "orientation": "h",
         "type": "bar",
         "x": [
          134,
          17,
          0,
          66,
          135,
          357,
          274,
          365,
          71,
          93,
          95,
          135,
          84,
          77,
          32,
          15,
          0,
          0
         ],
         "y": [
          "        Under 5 years",
          "        5 to 9 years",
          "        10 to 14 years",
          "        15 to 19 years",
          "        20 to 24 years",
          "        25 to 29 years",
          "        30 to 34 years",
          "        35 to 39 years",
          "        40 to 44 years",
          "        45 to 49 years",
          "        50 to 54 years",
          "        55 to 59 years",
          "        60 to 64 years",
          "        65 to 69 years",
          "        70 to 74 years",
          "        75 to 79 years",
          "        80 to 84 years",
          "        85 years and over"
         ]
        },
        {
         "name": "Female",
         "orientation": "h",
         "type": "bar",
         "x": [
          -76,
          -22,
          -78,
          -25,
          -97,
          -199,
          -447,
          -464,
          -120,
          -142,
          -76,
          -75,
          -93,
          -65,
          -28,
          -34,
          -16,
          -20
         ],
         "y": [
          "        Under 5 years",
          "        5 to 9 years",
          "        10 to 14 years",
          "        15 to 19 years",
          "        20 to 24 years",
          "        25 to 29 years",
          "        30 to 34 years",
          "        35 to 39 years",
          "        40 to 44 years",
          "        45 to 49 years",
          "        50 to 54 years",
          "        55 to 59 years",
          "        60 to 64 years",
          "        65 to 69 years",
          "        70 to 74 years",
          "        75 to 79 years",
          "        80 to 84 years",
          "        85 years and over"
         ]
        }
       ],
       "layout": {
        "bargap": 0,
        "bargroupgap": 0,
        "barmode": "relative",
        "template": {
         "data": {
          "bar": [
           {
            "error_x": {
             "color": "#2a3f5f"
            },
            "error_y": {
             "color": "#2a3f5f"
            },
            "marker": {
             "line": {
              "color": "#E5ECF6",
              "width": 0.5
             },
             "pattern": {
              "fillmode": "overlay",
              "size": 10,
              "solidity": 0.2
             }
            },
            "type": "bar"
           }
          ],
          "barpolar": [
           {
            "marker": {
             "line": {
              "color": "#E5ECF6",
              "width": 0.5
             },
             "pattern": {
              "fillmode": "overlay",
              "size": 10,
              "solidity": 0.2
             }
            },
            "type": "barpolar"
           }
          ],
          "carpet": [
           {
            "aaxis": {
             "endlinecolor": "#2a3f5f",
             "gridcolor": "white",
             "linecolor": "white",
             "minorgridcolor": "white",
             "startlinecolor": "#2a3f5f"
            },
            "baxis": {
             "endlinecolor": "#2a3f5f",
             "gridcolor": "white",
             "linecolor": "white",
             "minorgridcolor": "white",
             "startlinecolor": "#2a3f5f"
            },
            "type": "carpet"
           }
          ],
          "choropleth": [
           {
            "colorbar": {
             "outlinewidth": 0,
             "ticks": ""
            },
            "type": "choropleth"
           }
          ],
          "contour": [
           {
            "colorbar": {
             "outlinewidth": 0,
             "ticks": ""
            },
            "colorscale": [
             [
              0,
              "#0d0887"
             ],
             [
              0.1111111111111111,
              "#46039f"
             ],
             [
              0.2222222222222222,
              "#7201a8"
             ],
             [
              0.3333333333333333,
              "#9c179e"
             ],
             [
              0.4444444444444444,
              "#bd3786"
             ],
             [
              0.5555555555555556,
              "#d8576b"
             ],
             [
              0.6666666666666666,
              "#ed7953"
             ],
             [
              0.7777777777777778,
              "#fb9f3a"
             ],
             [
              0.8888888888888888,
              "#fdca26"
             ],
             [
              1,
              "#f0f921"
             ]
            ],
            "type": "contour"
           }
          ],
          "contourcarpet": [
           {
            "colorbar": {
             "outlinewidth": 0,
             "ticks": ""
            },
            "type": "contourcarpet"
           }
          ],
          "heatmap": [
           {
            "colorbar": {
             "outlinewidth": 0,
             "ticks": ""
            },
            "colorscale": [
             [
              0,
              "#0d0887"
             ],
             [
              0.1111111111111111,
              "#46039f"
             ],
             [
              0.2222222222222222,
              "#7201a8"
             ],
             [
              0.3333333333333333,
              "#9c179e"
             ],
             [
              0.4444444444444444,
              "#bd3786"
             ],
             [
              0.5555555555555556,
              "#d8576b"
             ],
             [
              0.6666666666666666,
              "#ed7953"
             ],
             [
              0.7777777777777778,
              "#fb9f3a"
             ],
             [
              0.8888888888888888,
              "#fdca26"
             ],
             [
              1,
              "#f0f921"
             ]
            ],
            "type": "heatmap"
           }
          ],
          "heatmapgl": [
           {
            "colorbar": {
             "outlinewidth": 0,
             "ticks": ""
            },
            "colorscale": [
             [
              0,
              "#0d0887"
             ],
             [
              0.1111111111111111,
              "#46039f"
             ],
             [
              0.2222222222222222,
              "#7201a8"
             ],
             [
              0.3333333333333333,
              "#9c179e"
             ],
             [
              0.4444444444444444,
              "#bd3786"
             ],
             [
              0.5555555555555556,
              "#d8576b"
             ],
             [
              0.6666666666666666,
              "#ed7953"
             ],
             [
              0.7777777777777778,
              "#fb9f3a"
             ],
             [
              0.8888888888888888,
              "#fdca26"
             ],
             [
              1,
              "#f0f921"
             ]
            ],
            "type": "heatmapgl"
           }
          ],
          "histogram": [
           {
            "marker": {
             "pattern": {
              "fillmode": "overlay",
              "size": 10,
              "solidity": 0.2
             }
            },
            "type": "histogram"
           }
          ],
          "histogram2d": [
           {
            "colorbar": {
             "outlinewidth": 0,
             "ticks": ""
            },
            "colorscale": [
             [
              0,
              "#0d0887"
             ],
             [
              0.1111111111111111,
              "#46039f"
             ],
             [
              0.2222222222222222,
              "#7201a8"
             ],
             [
              0.3333333333333333,
              "#9c179e"
             ],
             [
              0.4444444444444444,
              "#bd3786"
             ],
             [
              0.5555555555555556,
              "#d8576b"
             ],
             [
              0.6666666666666666,
              "#ed7953"
             ],
             [
              0.7777777777777778,
              "#fb9f3a"
             ],
             [
              0.8888888888888888,
              "#fdca26"
             ],
             [
              1,
              "#f0f921"
             ]
            ],
            "type": "histogram2d"
           }
          ],
          "histogram2dcontour": [
           {
            "colorbar": {
             "outlinewidth": 0,
             "ticks": ""
            },
            "colorscale": [
             [
              0,
              "#0d0887"
             ],
             [
              0.1111111111111111,
              "#46039f"
             ],
             [
              0.2222222222222222,
              "#7201a8"
             ],
             [
              0.3333333333333333,
              "#9c179e"
             ],
             [
              0.4444444444444444,
              "#bd3786"
             ],
             [
              0.5555555555555556,
              "#d8576b"
             ],
             [
              0.6666666666666666,
              "#ed7953"
             ],
             [
              0.7777777777777778,
              "#fb9f3a"
             ],
             [
              0.8888888888888888,
              "#fdca26"
             ],
             [
              1,
              "#f0f921"
             ]
            ],
            "type": "histogram2dcontour"
           }
          ],
          "mesh3d": [
           {
            "colorbar": {
             "outlinewidth": 0,
             "ticks": ""
            },
            "type": "mesh3d"
           }
          ],
          "parcoords": [
           {
            "line": {
             "colorbar": {
              "outlinewidth": 0,
              "ticks": ""
             }
            },
            "type": "parcoords"
           }
          ],
          "pie": [
           {
            "automargin": true,
            "type": "pie"
           }
          ],
          "scatter": [
           {
            "fillpattern": {
             "fillmode": "overlay",
             "size": 10,
             "solidity": 0.2
            },
            "type": "scatter"
           }
          ],
          "scatter3d": [
           {
            "line": {
             "colorbar": {
              "outlinewidth": 0,
              "ticks": ""
             }
            },
            "marker": {
             "colorbar": {
              "outlinewidth": 0,
              "ticks": ""
             }
            },
            "type": "scatter3d"
           }
          ],
          "scattercarpet": [
           {
            "marker": {
             "colorbar": {
              "outlinewidth": 0,
              "ticks": ""
             }
            },
            "type": "scattercarpet"
           }
          ],
          "scattergeo": [
           {
            "marker": {
             "colorbar": {
              "outlinewidth": 0,
              "ticks": ""
             }
            },
            "type": "scattergeo"
           }
          ],
          "scattergl": [
           {
            "marker": {
             "colorbar": {
              "outlinewidth": 0,
              "ticks": ""
             }
            },
            "type": "scattergl"
           }
          ],
          "scattermapbox": [
           {
            "marker": {
             "colorbar": {
              "outlinewidth": 0,
              "ticks": ""
             }
            },
            "type": "scattermapbox"
           }
          ],
          "scatterpolar": [
           {
            "marker": {
             "colorbar": {
              "outlinewidth": 0,
              "ticks": ""
             }
            },
            "type": "scatterpolar"
           }
          ],
          "scatterpolargl": [
           {
            "marker": {
             "colorbar": {
              "outlinewidth": 0,
              "ticks": ""
             }
            },
            "type": "scatterpolargl"
           }
          ],
          "scatterternary": [
           {
            "marker": {
             "colorbar": {
              "outlinewidth": 0,
              "ticks": ""
             }
            },
            "type": "scatterternary"
           }
          ],
          "surface": [
           {
            "colorbar": {
             "outlinewidth": 0,
             "ticks": ""
            },
            "colorscale": [
             [
              0,
              "#0d0887"
             ],
             [
              0.1111111111111111,
              "#46039f"
             ],
             [
              0.2222222222222222,
              "#7201a8"
             ],
             [
              0.3333333333333333,
              "#9c179e"
             ],
             [
              0.4444444444444444,
              "#bd3786"
             ],
             [
              0.5555555555555556,
              "#d8576b"
             ],
             [
              0.6666666666666666,
              "#ed7953"
             ],
             [
              0.7777777777777778,
              "#fb9f3a"
             ],
             [
              0.8888888888888888,
              "#fdca26"
             ],
             [
              1,
              "#f0f921"
             ]
            ],
            "type": "surface"
           }
          ],
          "table": [
           {
            "cells": {
             "fill": {
              "color": "#EBF0F8"
             },
             "line": {
              "color": "white"
             }
            },
            "header": {
             "fill": {
              "color": "#C8D4E3"
             },
             "line": {
              "color": "white"
             }
            },
            "type": "table"
           }
          ]
         },
         "layout": {
          "annotationdefaults": {
           "arrowcolor": "#2a3f5f",
           "arrowhead": 0,
           "arrowwidth": 1
          },
          "autotypenumbers": "strict",
          "coloraxis": {
           "colorbar": {
            "outlinewidth": 0,
            "ticks": ""
           }
          },
          "colorscale": {
           "diverging": [
            [
             0,
             "#8e0152"
            ],
            [
             0.1,
             "#c51b7d"
            ],
            [
             0.2,
             "#de77ae"
            ],
            [
             0.3,
             "#f1b6da"
            ],
            [
             0.4,
             "#fde0ef"
            ],
            [
             0.5,
             "#f7f7f7"
            ],
            [
             0.6,
             "#e6f5d0"
            ],
            [
             0.7,
             "#b8e186"
            ],
            [
             0.8,
             "#7fbc41"
            ],
            [
             0.9,
             "#4d9221"
            ],
            [
             1,
             "#276419"
            ]
           ],
           "sequential": [
            [
             0,
             "#0d0887"
            ],
            [
             0.1111111111111111,
             "#46039f"
            ],
            [
             0.2222222222222222,
             "#7201a8"
            ],
            [
             0.3333333333333333,
             "#9c179e"
            ],
            [
             0.4444444444444444,
             "#bd3786"
            ],
            [
             0.5555555555555556,
             "#d8576b"
            ],
            [
             0.6666666666666666,
             "#ed7953"
            ],
            [
             0.7777777777777778,
             "#fb9f3a"
            ],
            [
             0.8888888888888888,
             "#fdca26"
            ],
            [
             1,
             "#f0f921"
            ]
           ],
           "sequentialminus": [
            [
             0,
             "#0d0887"
            ],
            [
             0.1111111111111111,
             "#46039f"
            ],
            [
             0.2222222222222222,
             "#7201a8"
            ],
            [
             0.3333333333333333,
             "#9c179e"
            ],
            [
             0.4444444444444444,
             "#bd3786"
            ],
            [
             0.5555555555555556,
             "#d8576b"
            ],
            [
             0.6666666666666666,
             "#ed7953"
            ],
            [
             0.7777777777777778,
             "#fb9f3a"
            ],
            [
             0.8888888888888888,
             "#fdca26"
            ],
            [
             1,
             "#f0f921"
            ]
           ]
          },
          "colorway": [
           "#636efa",
           "#EF553B",
           "#00cc96",
           "#ab63fa",
           "#FFA15A",
           "#19d3f3",
           "#FF6692",
           "#B6E880",
           "#FF97FF",
           "#FECB52"
          ],
          "font": {
           "color": "#2a3f5f"
          },
          "geo": {
           "bgcolor": "white",
           "lakecolor": "white",
           "landcolor": "#E5ECF6",
           "showlakes": true,
           "showland": true,
           "subunitcolor": "white"
          },
          "hoverlabel": {
           "align": "left"
          },
          "hovermode": "closest",
          "mapbox": {
           "style": "light"
          },
          "paper_bgcolor": "white",
          "plot_bgcolor": "#E5ECF6",
          "polar": {
           "angularaxis": {
            "gridcolor": "white",
            "linecolor": "white",
            "ticks": ""
           },
           "bgcolor": "#E5ECF6",
           "radialaxis": {
            "gridcolor": "white",
            "linecolor": "white",
            "ticks": ""
           }
          },
          "scene": {
           "xaxis": {
            "backgroundcolor": "#E5ECF6",
            "gridcolor": "white",
            "gridwidth": 2,
            "linecolor": "white",
            "showbackground": true,
            "ticks": "",
            "zerolinecolor": "white"
           },
           "yaxis": {
            "backgroundcolor": "#E5ECF6",
            "gridcolor": "white",
            "gridwidth": 2,
            "linecolor": "white",
            "showbackground": true,
            "ticks": "",
            "zerolinecolor": "white"
           },
           "zaxis": {
            "backgroundcolor": "#E5ECF6",
            "gridcolor": "white",
            "gridwidth": 2,
            "linecolor": "white",
            "showbackground": true,
            "ticks": "",
            "zerolinecolor": "white"
           }
          },
          "shapedefaults": {
           "line": {
            "color": "#2a3f5f"
           }
          },
          "ternary": {
           "aaxis": {
            "gridcolor": "white",
            "linecolor": "white",
            "ticks": ""
           },
           "baxis": {
            "gridcolor": "white",
            "linecolor": "white",
            "ticks": ""
           },
           "bgcolor": "#E5ECF6",
           "caxis": {
            "gridcolor": "white",
            "linecolor": "white",
            "ticks": ""
           }
          },
          "title": {
           "x": 0.05
          },
          "xaxis": {
           "automargin": true,
           "gridcolor": "white",
           "linecolor": "white",
           "ticks": "",
           "title": {
            "standoff": 15
           },
           "zerolinecolor": "white",
           "zerolinewidth": 2
          },
          "yaxis": {
           "automargin": true,
           "gridcolor": "white",
           "linecolor": "white",
           "ticks": "",
           "title": {
            "standoff": 15
           },
           "zerolinecolor": "white",
           "zerolinewidth": 2
          }
         }
        },
        "title": {
         "font": {
          "size": 22
         },
         "text": "Population Pyramid of Tract 105"
        },
        "xaxis": {
         "ticktext": [
          "200",
          "150",
          "100",
          "50",
          "0",
          "50",
          "100",
          "150",
          "200"
         ],
         "tickvals": [
          -200,
          -150,
          -100,
          -50,
          0,
          50,
          100,
          150,
          200
         ],
         "title": {
          "font": {
           "size": 14
          },
          "text": "Population in Hundreds"
         }
        }
       }
      }
     },
     "metadata": {},
     "output_type": "display_data"
    }
   ],
   "source": [
    "\n",
    "# Tract 105 Analysis\n",
    "\n",
    "male_col = 'Census Tract 105, District of Columbia, District of Columbia!!Male!!Estimate'\n",
    "female_col = 'Census Tract 105, District of Columbia, District of Columbia!!Female!!Estimate'\n",
    "\n",
    "tract_df = age_and_sex_df[['Label (Grouping)', 'Census Tract 105, District of Columbia, District of Columbia!!Total!!Estimate' ,male_col, female_col]].iloc[2:20 , :]\n",
    "tract_df.head()\n",
    "\n",
    "tract_df[male_col]=tract_df[male_col].replace(regex=[r'\\D+'], value=\"\")\n",
    "tract_df[female_col] = tract_df[female_col].replace(regex=[r'\\D+'], value=\"\")\n",
    "tract_df = tract_df.dropna(subset=[male_col, female_col])\n",
    "\n",
    "tract_df[male_col] = tract_df[male_col].astype(int)\n",
    "tract_df[female_col] = tract_df[female_col].astype(int)\n",
    "tract_df.head(100)\n",
    "\n",
    "\n",
    "import plotly.graph_objects as gp\n",
    "\n",
    "y_age = list(tract_df['Label (Grouping)'])\n",
    "x_M = tract_df[male_col]\n",
    "x_F = tract_df[female_col] * -1\n",
    "\n",
    "# x_F.reverse()\n",
    "\n",
    "fig = gp.Figure()\n",
    "  \n",
    "# Adding Male data to the figure\n",
    "fig.add_trace(gp.Bar(y= y_age, x = x_M, \n",
    "                     name = 'Male', \n",
    "                     orientation = 'h'))\n",
    "  \n",
    "# Adding Female data to the figure\n",
    "fig.add_trace(gp.Bar(y = y_age, x = x_F,\n",
    "                     name = 'Female', orientation = 'h'))\n",
    "  \n",
    "# Updating the layout for our graph\n",
    "fig.update_layout(title = 'Population Pyramid of Tract 105', barmode = 'relative',\n",
    "                 title_font_size = 22,\n",
    "                 bargap = 0.0, bargroupgap = 0,\n",
    "                 xaxis = dict(tickvals = [-200, -150, -100, -50,\n",
    "                                          0, 50, 100, 150, 200],\n",
    "                                \n",
    "                              ticktext = ['200', '150', '100','50', '0', \n",
    "                                          '50', '100', '150', '200'],\n",
    "                                \n",
    "                              title = 'Population in Hundreds',\n",
    "                              title_font_size = 14)\n",
    "                 )\n",
    "  \n",
    "fig.show()"
   ]
  },
  {
   "cell_type": "code",
   "execution_count": 216,
   "metadata": {},
   "outputs": [
    {
     "data": {
      "application/vnd.plotly.v1+json": {
       "config": {
        "plotlyServerURL": "https://plot.ly"
       },
       "data": [
        {
         "name": "Male",
         "orientation": "h",
         "type": "bar",
         "x": [
          32,
          0,
          0,
          7,
          0,
          333,
          197,
          64,
          23,
          133,
          39,
          77,
          93,
          22,
          66,
          0,
          0,
          22
         ],
         "y": [
          "        Under 5 years",
          "        5 to 9 years",
          "        10 to 14 years",
          "        15 to 19 years",
          "        20 to 24 years",
          "        25 to 29 years",
          "        30 to 34 years",
          "        35 to 39 years",
          "        40 to 44 years",
          "        45 to 49 years",
          "        50 to 54 years",
          "        55 to 59 years",
          "        60 to 64 years",
          "        65 to 69 years",
          "        70 to 74 years",
          "        75 to 79 years",
          "        80 to 84 years",
          "        85 years and over"
         ]
        },
        {
         "name": "Female",
         "orientation": "h",
         "type": "bar",
         "x": [
          -22,
          0,
          0,
          -4,
          -35,
          -238,
          -138,
          -87,
          -100,
          -88,
          -133,
          -184,
          -97,
          -14,
          -9,
          -76,
          -29,
          -23
         ],
         "y": [
          "        Under 5 years",
          "        5 to 9 years",
          "        10 to 14 years",
          "        15 to 19 years",
          "        20 to 24 years",
          "        25 to 29 years",
          "        30 to 34 years",
          "        35 to 39 years",
          "        40 to 44 years",
          "        45 to 49 years",
          "        50 to 54 years",
          "        55 to 59 years",
          "        60 to 64 years",
          "        65 to 69 years",
          "        70 to 74 years",
          "        75 to 79 years",
          "        80 to 84 years",
          "        85 years and over"
         ]
        }
       ],
       "layout": {
        "bargap": 0,
        "bargroupgap": 0,
        "barmode": "relative",
        "template": {
         "data": {
          "bar": [
           {
            "error_x": {
             "color": "#2a3f5f"
            },
            "error_y": {
             "color": "#2a3f5f"
            },
            "marker": {
             "line": {
              "color": "#E5ECF6",
              "width": 0.5
             },
             "pattern": {
              "fillmode": "overlay",
              "size": 10,
              "solidity": 0.2
             }
            },
            "type": "bar"
           }
          ],
          "barpolar": [
           {
            "marker": {
             "line": {
              "color": "#E5ECF6",
              "width": 0.5
             },
             "pattern": {
              "fillmode": "overlay",
              "size": 10,
              "solidity": 0.2
             }
            },
            "type": "barpolar"
           }
          ],
          "carpet": [
           {
            "aaxis": {
             "endlinecolor": "#2a3f5f",
             "gridcolor": "white",
             "linecolor": "white",
             "minorgridcolor": "white",
             "startlinecolor": "#2a3f5f"
            },
            "baxis": {
             "endlinecolor": "#2a3f5f",
             "gridcolor": "white",
             "linecolor": "white",
             "minorgridcolor": "white",
             "startlinecolor": "#2a3f5f"
            },
            "type": "carpet"
           }
          ],
          "choropleth": [
           {
            "colorbar": {
             "outlinewidth": 0,
             "ticks": ""
            },
            "type": "choropleth"
           }
          ],
          "contour": [
           {
            "colorbar": {
             "outlinewidth": 0,
             "ticks": ""
            },
            "colorscale": [
             [
              0,
              "#0d0887"
             ],
             [
              0.1111111111111111,
              "#46039f"
             ],
             [
              0.2222222222222222,
              "#7201a8"
             ],
             [
              0.3333333333333333,
              "#9c179e"
             ],
             [
              0.4444444444444444,
              "#bd3786"
             ],
             [
              0.5555555555555556,
              "#d8576b"
             ],
             [
              0.6666666666666666,
              "#ed7953"
             ],
             [
              0.7777777777777778,
              "#fb9f3a"
             ],
             [
              0.8888888888888888,
              "#fdca26"
             ],
             [
              1,
              "#f0f921"
             ]
            ],
            "type": "contour"
           }
          ],
          "contourcarpet": [
           {
            "colorbar": {
             "outlinewidth": 0,
             "ticks": ""
            },
            "type": "contourcarpet"
           }
          ],
          "heatmap": [
           {
            "colorbar": {
             "outlinewidth": 0,
             "ticks": ""
            },
            "colorscale": [
             [
              0,
              "#0d0887"
             ],
             [
              0.1111111111111111,
              "#46039f"
             ],
             [
              0.2222222222222222,
              "#7201a8"
             ],
             [
              0.3333333333333333,
              "#9c179e"
             ],
             [
              0.4444444444444444,
              "#bd3786"
             ],
             [
              0.5555555555555556,
              "#d8576b"
             ],
             [
              0.6666666666666666,
              "#ed7953"
             ],
             [
              0.7777777777777778,
              "#fb9f3a"
             ],
             [
              0.8888888888888888,
              "#fdca26"
             ],
             [
              1,
              "#f0f921"
             ]
            ],
            "type": "heatmap"
           }
          ],
          "heatmapgl": [
           {
            "colorbar": {
             "outlinewidth": 0,
             "ticks": ""
            },
            "colorscale": [
             [
              0,
              "#0d0887"
             ],
             [
              0.1111111111111111,
              "#46039f"
             ],
             [
              0.2222222222222222,
              "#7201a8"
             ],
             [
              0.3333333333333333,
              "#9c179e"
             ],
             [
              0.4444444444444444,
              "#bd3786"
             ],
             [
              0.5555555555555556,
              "#d8576b"
             ],
             [
              0.6666666666666666,
              "#ed7953"
             ],
             [
              0.7777777777777778,
              "#fb9f3a"
             ],
             [
              0.8888888888888888,
              "#fdca26"
             ],
             [
              1,
              "#f0f921"
             ]
            ],
            "type": "heatmapgl"
           }
          ],
          "histogram": [
           {
            "marker": {
             "pattern": {
              "fillmode": "overlay",
              "size": 10,
              "solidity": 0.2
             }
            },
            "type": "histogram"
           }
          ],
          "histogram2d": [
           {
            "colorbar": {
             "outlinewidth": 0,
             "ticks": ""
            },
            "colorscale": [
             [
              0,
              "#0d0887"
             ],
             [
              0.1111111111111111,
              "#46039f"
             ],
             [
              0.2222222222222222,
              "#7201a8"
             ],
             [
              0.3333333333333333,
              "#9c179e"
             ],
             [
              0.4444444444444444,
              "#bd3786"
             ],
             [
              0.5555555555555556,
              "#d8576b"
             ],
             [
              0.6666666666666666,
              "#ed7953"
             ],
             [
              0.7777777777777778,
              "#fb9f3a"
             ],
             [
              0.8888888888888888,
              "#fdca26"
             ],
             [
              1,
              "#f0f921"
             ]
            ],
            "type": "histogram2d"
           }
          ],
          "histogram2dcontour": [
           {
            "colorbar": {
             "outlinewidth": 0,
             "ticks": ""
            },
            "colorscale": [
             [
              0,
              "#0d0887"
             ],
             [
              0.1111111111111111,
              "#46039f"
             ],
             [
              0.2222222222222222,
              "#7201a8"
             ],
             [
              0.3333333333333333,
              "#9c179e"
             ],
             [
              0.4444444444444444,
              "#bd3786"
             ],
             [
              0.5555555555555556,
              "#d8576b"
             ],
             [
              0.6666666666666666,
              "#ed7953"
             ],
             [
              0.7777777777777778,
              "#fb9f3a"
             ],
             [
              0.8888888888888888,
              "#fdca26"
             ],
             [
              1,
              "#f0f921"
             ]
            ],
            "type": "histogram2dcontour"
           }
          ],
          "mesh3d": [
           {
            "colorbar": {
             "outlinewidth": 0,
             "ticks": ""
            },
            "type": "mesh3d"
           }
          ],
          "parcoords": [
           {
            "line": {
             "colorbar": {
              "outlinewidth": 0,
              "ticks": ""
             }
            },
            "type": "parcoords"
           }
          ],
          "pie": [
           {
            "automargin": true,
            "type": "pie"
           }
          ],
          "scatter": [
           {
            "fillpattern": {
             "fillmode": "overlay",
             "size": 10,
             "solidity": 0.2
            },
            "type": "scatter"
           }
          ],
          "scatter3d": [
           {
            "line": {
             "colorbar": {
              "outlinewidth": 0,
              "ticks": ""
             }
            },
            "marker": {
             "colorbar": {
              "outlinewidth": 0,
              "ticks": ""
             }
            },
            "type": "scatter3d"
           }
          ],
          "scattercarpet": [
           {
            "marker": {
             "colorbar": {
              "outlinewidth": 0,
              "ticks": ""
             }
            },
            "type": "scattercarpet"
           }
          ],
          "scattergeo": [
           {
            "marker": {
             "colorbar": {
              "outlinewidth": 0,
              "ticks": ""
             }
            },
            "type": "scattergeo"
           }
          ],
          "scattergl": [
           {
            "marker": {
             "colorbar": {
              "outlinewidth": 0,
              "ticks": ""
             }
            },
            "type": "scattergl"
           }
          ],
          "scattermapbox": [
           {
            "marker": {
             "colorbar": {
              "outlinewidth": 0,
              "ticks": ""
             }
            },
            "type": "scattermapbox"
           }
          ],
          "scatterpolar": [
           {
            "marker": {
             "colorbar": {
              "outlinewidth": 0,
              "ticks": ""
             }
            },
            "type": "scatterpolar"
           }
          ],
          "scatterpolargl": [
           {
            "marker": {
             "colorbar": {
              "outlinewidth": 0,
              "ticks": ""
             }
            },
            "type": "scatterpolargl"
           }
          ],
          "scatterternary": [
           {
            "marker": {
             "colorbar": {
              "outlinewidth": 0,
              "ticks": ""
             }
            },
            "type": "scatterternary"
           }
          ],
          "surface": [
           {
            "colorbar": {
             "outlinewidth": 0,
             "ticks": ""
            },
            "colorscale": [
             [
              0,
              "#0d0887"
             ],
             [
              0.1111111111111111,
              "#46039f"
             ],
             [
              0.2222222222222222,
              "#7201a8"
             ],
             [
              0.3333333333333333,
              "#9c179e"
             ],
             [
              0.4444444444444444,
              "#bd3786"
             ],
             [
              0.5555555555555556,
              "#d8576b"
             ],
             [
              0.6666666666666666,
              "#ed7953"
             ],
             [
              0.7777777777777778,
              "#fb9f3a"
             ],
             [
              0.8888888888888888,
              "#fdca26"
             ],
             [
              1,
              "#f0f921"
             ]
            ],
            "type": "surface"
           }
          ],
          "table": [
           {
            "cells": {
             "fill": {
              "color": "#EBF0F8"
             },
             "line": {
              "color": "white"
             }
            },
            "header": {
             "fill": {
              "color": "#C8D4E3"
             },
             "line": {
              "color": "white"
             }
            },
            "type": "table"
           }
          ]
         },
         "layout": {
          "annotationdefaults": {
           "arrowcolor": "#2a3f5f",
           "arrowhead": 0,
           "arrowwidth": 1
          },
          "autotypenumbers": "strict",
          "coloraxis": {
           "colorbar": {
            "outlinewidth": 0,
            "ticks": ""
           }
          },
          "colorscale": {
           "diverging": [
            [
             0,
             "#8e0152"
            ],
            [
             0.1,
             "#c51b7d"
            ],
            [
             0.2,
             "#de77ae"
            ],
            [
             0.3,
             "#f1b6da"
            ],
            [
             0.4,
             "#fde0ef"
            ],
            [
             0.5,
             "#f7f7f7"
            ],
            [
             0.6,
             "#e6f5d0"
            ],
            [
             0.7,
             "#b8e186"
            ],
            [
             0.8,
             "#7fbc41"
            ],
            [
             0.9,
             "#4d9221"
            ],
            [
             1,
             "#276419"
            ]
           ],
           "sequential": [
            [
             0,
             "#0d0887"
            ],
            [
             0.1111111111111111,
             "#46039f"
            ],
            [
             0.2222222222222222,
             "#7201a8"
            ],
            [
             0.3333333333333333,
             "#9c179e"
            ],
            [
             0.4444444444444444,
             "#bd3786"
            ],
            [
             0.5555555555555556,
             "#d8576b"
            ],
            [
             0.6666666666666666,
             "#ed7953"
            ],
            [
             0.7777777777777778,
             "#fb9f3a"
            ],
            [
             0.8888888888888888,
             "#fdca26"
            ],
            [
             1,
             "#f0f921"
            ]
           ],
           "sequentialminus": [
            [
             0,
             "#0d0887"
            ],
            [
             0.1111111111111111,
             "#46039f"
            ],
            [
             0.2222222222222222,
             "#7201a8"
            ],
            [
             0.3333333333333333,
             "#9c179e"
            ],
            [
             0.4444444444444444,
             "#bd3786"
            ],
            [
             0.5555555555555556,
             "#d8576b"
            ],
            [
             0.6666666666666666,
             "#ed7953"
            ],
            [
             0.7777777777777778,
             "#fb9f3a"
            ],
            [
             0.8888888888888888,
             "#fdca26"
            ],
            [
             1,
             "#f0f921"
            ]
           ]
          },
          "colorway": [
           "#636efa",
           "#EF553B",
           "#00cc96",
           "#ab63fa",
           "#FFA15A",
           "#19d3f3",
           "#FF6692",
           "#B6E880",
           "#FF97FF",
           "#FECB52"
          ],
          "font": {
           "color": "#2a3f5f"
          },
          "geo": {
           "bgcolor": "white",
           "lakecolor": "white",
           "landcolor": "#E5ECF6",
           "showlakes": true,
           "showland": true,
           "subunitcolor": "white"
          },
          "hoverlabel": {
           "align": "left"
          },
          "hovermode": "closest",
          "mapbox": {
           "style": "light"
          },
          "paper_bgcolor": "white",
          "plot_bgcolor": "#E5ECF6",
          "polar": {
           "angularaxis": {
            "gridcolor": "white",
            "linecolor": "white",
            "ticks": ""
           },
           "bgcolor": "#E5ECF6",
           "radialaxis": {
            "gridcolor": "white",
            "linecolor": "white",
            "ticks": ""
           }
          },
          "scene": {
           "xaxis": {
            "backgroundcolor": "#E5ECF6",
            "gridcolor": "white",
            "gridwidth": 2,
            "linecolor": "white",
            "showbackground": true,
            "ticks": "",
            "zerolinecolor": "white"
           },
           "yaxis": {
            "backgroundcolor": "#E5ECF6",
            "gridcolor": "white",
            "gridwidth": 2,
            "linecolor": "white",
            "showbackground": true,
            "ticks": "",
            "zerolinecolor": "white"
           },
           "zaxis": {
            "backgroundcolor": "#E5ECF6",
            "gridcolor": "white",
            "gridwidth": 2,
            "linecolor": "white",
            "showbackground": true,
            "ticks": "",
            "zerolinecolor": "white"
           }
          },
          "shapedefaults": {
           "line": {
            "color": "#2a3f5f"
           }
          },
          "ternary": {
           "aaxis": {
            "gridcolor": "white",
            "linecolor": "white",
            "ticks": ""
           },
           "baxis": {
            "gridcolor": "white",
            "linecolor": "white",
            "ticks": ""
           },
           "bgcolor": "#E5ECF6",
           "caxis": {
            "gridcolor": "white",
            "linecolor": "white",
            "ticks": ""
           }
          },
          "title": {
           "x": 0.05
          },
          "xaxis": {
           "automargin": true,
           "gridcolor": "white",
           "linecolor": "white",
           "ticks": "",
           "title": {
            "standoff": 15
           },
           "zerolinecolor": "white",
           "zerolinewidth": 2
          },
          "yaxis": {
           "automargin": true,
           "gridcolor": "white",
           "linecolor": "white",
           "ticks": "",
           "title": {
            "standoff": 15
           },
           "zerolinecolor": "white",
           "zerolinewidth": 2
          }
         }
        },
        "title": {
         "font": {
          "size": 22
         },
         "text": "Population Pyramid of Tract 110.01"
        },
        "xaxis": {
         "ticktext": [
          "200",
          "150",
          "100",
          "50",
          "0",
          "50",
          "100",
          "150",
          "200"
         ],
         "tickvals": [
          -200,
          -150,
          -100,
          -50,
          0,
          50,
          100,
          150,
          200
         ],
         "title": {
          "font": {
           "size": 14
          },
          "text": "Population in Hundreds"
         }
        }
       }
      }
     },
     "metadata": {},
     "output_type": "display_data"
    }
   ],
   "source": [
    "\n",
    "# Tract 110.01 Analysis\n",
    "\n",
    "male_col = 'Census Tract 110.01, District of Columbia, District of Columbia!!Male!!Estimate'\n",
    "female_col = 'Census Tract 110.01, District of Columbia, District of Columbia!!Female!!Estimate'\n",
    "\n",
    "tract_df = age_and_sex_df[['Label (Grouping)', 'Census Tract 110.01, District of Columbia, District of Columbia!!Total!!Estimate' ,male_col, female_col]].iloc[2:20 , :]\n",
    "tract_df.head()\n",
    "\n",
    "tract_df[male_col]=tract_df[male_col].replace(regex=[r'\\D+'], value=\"\")\n",
    "tract_df[female_col] = tract_df[female_col].replace(regex=[r'\\D+'], value=\"\")\n",
    "tract_df = tract_df.dropna(subset=[male_col, female_col])\n",
    "\n",
    "tract_df[male_col] = tract_df[male_col].astype(int)\n",
    "tract_df[female_col] = tract_df[female_col].astype(int)\n",
    "tract_df.head(100)\n",
    "\n",
    "\n",
    "import plotly.graph_objects as gp\n",
    "\n",
    "y_age = list(tract_df['Label (Grouping)'])\n",
    "x_M = tract_df[male_col]\n",
    "x_F = tract_df[female_col] * -1\n",
    "\n",
    "# x_F.reverse()\n",
    "\n",
    "fig = gp.Figure()\n",
    "  \n",
    "# Adding Male data to the figure\n",
    "fig.add_trace(gp.Bar(y= y_age, x = x_M, \n",
    "                     name = 'Male', \n",
    "                     orientation = 'h'))\n",
    "  \n",
    "# Adding Female data to the figure\n",
    "fig.add_trace(gp.Bar(y = y_age, x = x_F,\n",
    "                     name = 'Female', orientation = 'h'))\n",
    "  \n",
    "# Updating the layout for our graph\n",
    "fig.update_layout(title = 'Population Pyramid of Tract 110.01', barmode = 'relative',\n",
    "                 title_font_size = 22,\n",
    "                 bargap = 0.0, bargroupgap = 0,\n",
    "                 xaxis = dict(tickvals = [-200, -150, -100, -50,\n",
    "                                          0, 50, 100, 150, 200],\n",
    "                                \n",
    "                              ticktext = ['200', '150', '100','50', '0', \n",
    "                                          '50', '100', '150', '200'],\n",
    "                                \n",
    "                              title = 'Population in Hundreds',\n",
    "                              title_font_size = 14)\n",
    "                 )\n",
    "  \n",
    "fig.show()"
   ]
  },
  {
   "cell_type": "code",
   "execution_count": 217,
   "metadata": {},
   "outputs": [
    {
     "data": {
      "application/vnd.plotly.v1+json": {
       "config": {
        "plotlyServerURL": "https://plot.ly"
       },
       "data": [
        {
         "name": "Male",
         "orientation": "h",
         "type": "bar",
         "x": [
          40,
          0,
          0,
          0,
          33,
          73,
          126,
          65,
          17,
          38,
          59,
          59,
          62,
          57,
          26,
          12,
          30,
          0
         ],
         "y": [
          "        Under 5 years",
          "        5 to 9 years",
          "        10 to 14 years",
          "        15 to 19 years",
          "        20 to 24 years",
          "        25 to 29 years",
          "        30 to 34 years",
          "        35 to 39 years",
          "        40 to 44 years",
          "        45 to 49 years",
          "        50 to 54 years",
          "        55 to 59 years",
          "        60 to 64 years",
          "        65 to 69 years",
          "        70 to 74 years",
          "        75 to 79 years",
          "        80 to 84 years",
          "        85 years and over"
         ]
        },
        {
         "name": "Female",
         "orientation": "h",
         "type": "bar",
         "x": [
          0,
          0,
          0,
          0,
          -19,
          -18,
          -54,
          -56,
          -80,
          -103,
          -89,
          -67,
          -30,
          -36,
          -112,
          -84,
          -13,
          -61
         ],
         "y": [
          "        Under 5 years",
          "        5 to 9 years",
          "        10 to 14 years",
          "        15 to 19 years",
          "        20 to 24 years",
          "        25 to 29 years",
          "        30 to 34 years",
          "        35 to 39 years",
          "        40 to 44 years",
          "        45 to 49 years",
          "        50 to 54 years",
          "        55 to 59 years",
          "        60 to 64 years",
          "        65 to 69 years",
          "        70 to 74 years",
          "        75 to 79 years",
          "        80 to 84 years",
          "        85 years and over"
         ]
        }
       ],
       "layout": {
        "bargap": 0,
        "bargroupgap": 0,
        "barmode": "relative",
        "template": {
         "data": {
          "bar": [
           {
            "error_x": {
             "color": "#2a3f5f"
            },
            "error_y": {
             "color": "#2a3f5f"
            },
            "marker": {
             "line": {
              "color": "#E5ECF6",
              "width": 0.5
             },
             "pattern": {
              "fillmode": "overlay",
              "size": 10,
              "solidity": 0.2
             }
            },
            "type": "bar"
           }
          ],
          "barpolar": [
           {
            "marker": {
             "line": {
              "color": "#E5ECF6",
              "width": 0.5
             },
             "pattern": {
              "fillmode": "overlay",
              "size": 10,
              "solidity": 0.2
             }
            },
            "type": "barpolar"
           }
          ],
          "carpet": [
           {
            "aaxis": {
             "endlinecolor": "#2a3f5f",
             "gridcolor": "white",
             "linecolor": "white",
             "minorgridcolor": "white",
             "startlinecolor": "#2a3f5f"
            },
            "baxis": {
             "endlinecolor": "#2a3f5f",
             "gridcolor": "white",
             "linecolor": "white",
             "minorgridcolor": "white",
             "startlinecolor": "#2a3f5f"
            },
            "type": "carpet"
           }
          ],
          "choropleth": [
           {
            "colorbar": {
             "outlinewidth": 0,
             "ticks": ""
            },
            "type": "choropleth"
           }
          ],
          "contour": [
           {
            "colorbar": {
             "outlinewidth": 0,
             "ticks": ""
            },
            "colorscale": [
             [
              0,
              "#0d0887"
             ],
             [
              0.1111111111111111,
              "#46039f"
             ],
             [
              0.2222222222222222,
              "#7201a8"
             ],
             [
              0.3333333333333333,
              "#9c179e"
             ],
             [
              0.4444444444444444,
              "#bd3786"
             ],
             [
              0.5555555555555556,
              "#d8576b"
             ],
             [
              0.6666666666666666,
              "#ed7953"
             ],
             [
              0.7777777777777778,
              "#fb9f3a"
             ],
             [
              0.8888888888888888,
              "#fdca26"
             ],
             [
              1,
              "#f0f921"
             ]
            ],
            "type": "contour"
           }
          ],
          "contourcarpet": [
           {
            "colorbar": {
             "outlinewidth": 0,
             "ticks": ""
            },
            "type": "contourcarpet"
           }
          ],
          "heatmap": [
           {
            "colorbar": {
             "outlinewidth": 0,
             "ticks": ""
            },
            "colorscale": [
             [
              0,
              "#0d0887"
             ],
             [
              0.1111111111111111,
              "#46039f"
             ],
             [
              0.2222222222222222,
              "#7201a8"
             ],
             [
              0.3333333333333333,
              "#9c179e"
             ],
             [
              0.4444444444444444,
              "#bd3786"
             ],
             [
              0.5555555555555556,
              "#d8576b"
             ],
             [
              0.6666666666666666,
              "#ed7953"
             ],
             [
              0.7777777777777778,
              "#fb9f3a"
             ],
             [
              0.8888888888888888,
              "#fdca26"
             ],
             [
              1,
              "#f0f921"
             ]
            ],
            "type": "heatmap"
           }
          ],
          "heatmapgl": [
           {
            "colorbar": {
             "outlinewidth": 0,
             "ticks": ""
            },
            "colorscale": [
             [
              0,
              "#0d0887"
             ],
             [
              0.1111111111111111,
              "#46039f"
             ],
             [
              0.2222222222222222,
              "#7201a8"
             ],
             [
              0.3333333333333333,
              "#9c179e"
             ],
             [
              0.4444444444444444,
              "#bd3786"
             ],
             [
              0.5555555555555556,
              "#d8576b"
             ],
             [
              0.6666666666666666,
              "#ed7953"
             ],
             [
              0.7777777777777778,
              "#fb9f3a"
             ],
             [
              0.8888888888888888,
              "#fdca26"
             ],
             [
              1,
              "#f0f921"
             ]
            ],
            "type": "heatmapgl"
           }
          ],
          "histogram": [
           {
            "marker": {
             "pattern": {
              "fillmode": "overlay",
              "size": 10,
              "solidity": 0.2
             }
            },
            "type": "histogram"
           }
          ],
          "histogram2d": [
           {
            "colorbar": {
             "outlinewidth": 0,
             "ticks": ""
            },
            "colorscale": [
             [
              0,
              "#0d0887"
             ],
             [
              0.1111111111111111,
              "#46039f"
             ],
             [
              0.2222222222222222,
              "#7201a8"
             ],
             [
              0.3333333333333333,
              "#9c179e"
             ],
             [
              0.4444444444444444,
              "#bd3786"
             ],
             [
              0.5555555555555556,
              "#d8576b"
             ],
             [
              0.6666666666666666,
              "#ed7953"
             ],
             [
              0.7777777777777778,
              "#fb9f3a"
             ],
             [
              0.8888888888888888,
              "#fdca26"
             ],
             [
              1,
              "#f0f921"
             ]
            ],
            "type": "histogram2d"
           }
          ],
          "histogram2dcontour": [
           {
            "colorbar": {
             "outlinewidth": 0,
             "ticks": ""
            },
            "colorscale": [
             [
              0,
              "#0d0887"
             ],
             [
              0.1111111111111111,
              "#46039f"
             ],
             [
              0.2222222222222222,
              "#7201a8"
             ],
             [
              0.3333333333333333,
              "#9c179e"
             ],
             [
              0.4444444444444444,
              "#bd3786"
             ],
             [
              0.5555555555555556,
              "#d8576b"
             ],
             [
              0.6666666666666666,
              "#ed7953"
             ],
             [
              0.7777777777777778,
              "#fb9f3a"
             ],
             [
              0.8888888888888888,
              "#fdca26"
             ],
             [
              1,
              "#f0f921"
             ]
            ],
            "type": "histogram2dcontour"
           }
          ],
          "mesh3d": [
           {
            "colorbar": {
             "outlinewidth": 0,
             "ticks": ""
            },
            "type": "mesh3d"
           }
          ],
          "parcoords": [
           {
            "line": {
             "colorbar": {
              "outlinewidth": 0,
              "ticks": ""
             }
            },
            "type": "parcoords"
           }
          ],
          "pie": [
           {
            "automargin": true,
            "type": "pie"
           }
          ],
          "scatter": [
           {
            "fillpattern": {
             "fillmode": "overlay",
             "size": 10,
             "solidity": 0.2
            },
            "type": "scatter"
           }
          ],
          "scatter3d": [
           {
            "line": {
             "colorbar": {
              "outlinewidth": 0,
              "ticks": ""
             }
            },
            "marker": {
             "colorbar": {
              "outlinewidth": 0,
              "ticks": ""
             }
            },
            "type": "scatter3d"
           }
          ],
          "scattercarpet": [
           {
            "marker": {
             "colorbar": {
              "outlinewidth": 0,
              "ticks": ""
             }
            },
            "type": "scattercarpet"
           }
          ],
          "scattergeo": [
           {
            "marker": {
             "colorbar": {
              "outlinewidth": 0,
              "ticks": ""
             }
            },
            "type": "scattergeo"
           }
          ],
          "scattergl": [
           {
            "marker": {
             "colorbar": {
              "outlinewidth": 0,
              "ticks": ""
             }
            },
            "type": "scattergl"
           }
          ],
          "scattermapbox": [
           {
            "marker": {
             "colorbar": {
              "outlinewidth": 0,
              "ticks": ""
             }
            },
            "type": "scattermapbox"
           }
          ],
          "scatterpolar": [
           {
            "marker": {
             "colorbar": {
              "outlinewidth": 0,
              "ticks": ""
             }
            },
            "type": "scatterpolar"
           }
          ],
          "scatterpolargl": [
           {
            "marker": {
             "colorbar": {
              "outlinewidth": 0,
              "ticks": ""
             }
            },
            "type": "scatterpolargl"
           }
          ],
          "scatterternary": [
           {
            "marker": {
             "colorbar": {
              "outlinewidth": 0,
              "ticks": ""
             }
            },
            "type": "scatterternary"
           }
          ],
          "surface": [
           {
            "colorbar": {
             "outlinewidth": 0,
             "ticks": ""
            },
            "colorscale": [
             [
              0,
              "#0d0887"
             ],
             [
              0.1111111111111111,
              "#46039f"
             ],
             [
              0.2222222222222222,
              "#7201a8"
             ],
             [
              0.3333333333333333,
              "#9c179e"
             ],
             [
              0.4444444444444444,
              "#bd3786"
             ],
             [
              0.5555555555555556,
              "#d8576b"
             ],
             [
              0.6666666666666666,
              "#ed7953"
             ],
             [
              0.7777777777777778,
              "#fb9f3a"
             ],
             [
              0.8888888888888888,
              "#fdca26"
             ],
             [
              1,
              "#f0f921"
             ]
            ],
            "type": "surface"
           }
          ],
          "table": [
           {
            "cells": {
             "fill": {
              "color": "#EBF0F8"
             },
             "line": {
              "color": "white"
             }
            },
            "header": {
             "fill": {
              "color": "#C8D4E3"
             },
             "line": {
              "color": "white"
             }
            },
            "type": "table"
           }
          ]
         },
         "layout": {
          "annotationdefaults": {
           "arrowcolor": "#2a3f5f",
           "arrowhead": 0,
           "arrowwidth": 1
          },
          "autotypenumbers": "strict",
          "coloraxis": {
           "colorbar": {
            "outlinewidth": 0,
            "ticks": ""
           }
          },
          "colorscale": {
           "diverging": [
            [
             0,
             "#8e0152"
            ],
            [
             0.1,
             "#c51b7d"
            ],
            [
             0.2,
             "#de77ae"
            ],
            [
             0.3,
             "#f1b6da"
            ],
            [
             0.4,
             "#fde0ef"
            ],
            [
             0.5,
             "#f7f7f7"
            ],
            [
             0.6,
             "#e6f5d0"
            ],
            [
             0.7,
             "#b8e186"
            ],
            [
             0.8,
             "#7fbc41"
            ],
            [
             0.9,
             "#4d9221"
            ],
            [
             1,
             "#276419"
            ]
           ],
           "sequential": [
            [
             0,
             "#0d0887"
            ],
            [
             0.1111111111111111,
             "#46039f"
            ],
            [
             0.2222222222222222,
             "#7201a8"
            ],
            [
             0.3333333333333333,
             "#9c179e"
            ],
            [
             0.4444444444444444,
             "#bd3786"
            ],
            [
             0.5555555555555556,
             "#d8576b"
            ],
            [
             0.6666666666666666,
             "#ed7953"
            ],
            [
             0.7777777777777778,
             "#fb9f3a"
            ],
            [
             0.8888888888888888,
             "#fdca26"
            ],
            [
             1,
             "#f0f921"
            ]
           ],
           "sequentialminus": [
            [
             0,
             "#0d0887"
            ],
            [
             0.1111111111111111,
             "#46039f"
            ],
            [
             0.2222222222222222,
             "#7201a8"
            ],
            [
             0.3333333333333333,
             "#9c179e"
            ],
            [
             0.4444444444444444,
             "#bd3786"
            ],
            [
             0.5555555555555556,
             "#d8576b"
            ],
            [
             0.6666666666666666,
             "#ed7953"
            ],
            [
             0.7777777777777778,
             "#fb9f3a"
            ],
            [
             0.8888888888888888,
             "#fdca26"
            ],
            [
             1,
             "#f0f921"
            ]
           ]
          },
          "colorway": [
           "#636efa",
           "#EF553B",
           "#00cc96",
           "#ab63fa",
           "#FFA15A",
           "#19d3f3",
           "#FF6692",
           "#B6E880",
           "#FF97FF",
           "#FECB52"
          ],
          "font": {
           "color": "#2a3f5f"
          },
          "geo": {
           "bgcolor": "white",
           "lakecolor": "white",
           "landcolor": "#E5ECF6",
           "showlakes": true,
           "showland": true,
           "subunitcolor": "white"
          },
          "hoverlabel": {
           "align": "left"
          },
          "hovermode": "closest",
          "mapbox": {
           "style": "light"
          },
          "paper_bgcolor": "white",
          "plot_bgcolor": "#E5ECF6",
          "polar": {
           "angularaxis": {
            "gridcolor": "white",
            "linecolor": "white",
            "ticks": ""
           },
           "bgcolor": "#E5ECF6",
           "radialaxis": {
            "gridcolor": "white",
            "linecolor": "white",
            "ticks": ""
           }
          },
          "scene": {
           "xaxis": {
            "backgroundcolor": "#E5ECF6",
            "gridcolor": "white",
            "gridwidth": 2,
            "linecolor": "white",
            "showbackground": true,
            "ticks": "",
            "zerolinecolor": "white"
           },
           "yaxis": {
            "backgroundcolor": "#E5ECF6",
            "gridcolor": "white",
            "gridwidth": 2,
            "linecolor": "white",
            "showbackground": true,
            "ticks": "",
            "zerolinecolor": "white"
           },
           "zaxis": {
            "backgroundcolor": "#E5ECF6",
            "gridcolor": "white",
            "gridwidth": 2,
            "linecolor": "white",
            "showbackground": true,
            "ticks": "",
            "zerolinecolor": "white"
           }
          },
          "shapedefaults": {
           "line": {
            "color": "#2a3f5f"
           }
          },
          "ternary": {
           "aaxis": {
            "gridcolor": "white",
            "linecolor": "white",
            "ticks": ""
           },
           "baxis": {
            "gridcolor": "white",
            "linecolor": "white",
            "ticks": ""
           },
           "bgcolor": "#E5ECF6",
           "caxis": {
            "gridcolor": "white",
            "linecolor": "white",
            "ticks": ""
           }
          },
          "title": {
           "x": 0.05
          },
          "xaxis": {
           "automargin": true,
           "gridcolor": "white",
           "linecolor": "white",
           "ticks": "",
           "title": {
            "standoff": 15
           },
           "zerolinecolor": "white",
           "zerolinewidth": 2
          },
          "yaxis": {
           "automargin": true,
           "gridcolor": "white",
           "linecolor": "white",
           "ticks": "",
           "title": {
            "standoff": 15
           },
           "zerolinecolor": "white",
           "zerolinewidth": 2
          }
         }
        },
        "title": {
         "font": {
          "size": 22
         },
         "text": "Population Pyramid of Tract 110.02"
        },
        "xaxis": {
         "ticktext": [
          "200",
          "150",
          "100",
          "50",
          "0",
          "50",
          "100",
          "150",
          "200"
         ],
         "tickvals": [
          -200,
          -150,
          -100,
          -50,
          0,
          50,
          100,
          150,
          200
         ],
         "title": {
          "font": {
           "size": 14
          },
          "text": "Population in Hundreds"
         }
        }
       }
      }
     },
     "metadata": {},
     "output_type": "display_data"
    }
   ],
   "source": [
    "\n",
    "# Tract 110.01 Analysis\n",
    "\n",
    "male_col = 'Census Tract 110.02, District of Columbia, District of Columbia!!Male!!Estimate'\n",
    "female_col = 'Census Tract 110.02, District of Columbia, District of Columbia!!Female!!Estimate'\n",
    "\n",
    "tract_df = age_and_sex_df[['Label (Grouping)', 'Census Tract 110.02, District of Columbia, District of Columbia!!Percent!!Estimate' ,male_col, female_col]].iloc[2:20 , :]\n",
    "tract_df.head()\n",
    "\n",
    "tract_df[male_col]=tract_df[male_col].replace(regex=[r'\\D+'], value=\"\")\n",
    "tract_df[female_col] = tract_df[female_col].replace(regex=[r'\\D+'], value=\"\")\n",
    "tract_df = tract_df.dropna(subset=[male_col, female_col])\n",
    "\n",
    "tract_df[male_col] = tract_df[male_col].astype(int)\n",
    "tract_df[female_col] = tract_df[female_col].astype(int)\n",
    "tract_df.head(100)\n",
    "\n",
    "\n",
    "import plotly.graph_objects as gp\n",
    "\n",
    "y_age = list(tract_df['Label (Grouping)'])\n",
    "x_M = tract_df[male_col]\n",
    "x_F = tract_df[female_col] * -1\n",
    "\n",
    "# x_F.reverse()\n",
    "\n",
    "fig = gp.Figure()\n",
    "  \n",
    "# Adding Male data to the figure\n",
    "fig.add_trace(gp.Bar(y= y_age, x = x_M, \n",
    "                     name = 'Male', \n",
    "                     orientation = 'h'))\n",
    "  \n",
    "# Adding Female data to the figure\n",
    "fig.add_trace(gp.Bar(y = y_age, x = x_F,\n",
    "                     name = 'Female', orientation = 'h'))\n",
    "  \n",
    "# Updating the layout for our graph\n",
    "fig.update_layout(title = 'Population Pyramid of Tract 110.02', barmode = 'relative',\n",
    "                 title_font_size = 22,\n",
    "                 bargap = 0.0, bargroupgap = 0,\n",
    "                 xaxis = dict(tickvals = [-200, -150, -100, -50,\n",
    "                                          0, 50, 100, 150, 200],\n",
    "                                \n",
    "                              ticktext = ['200', '150', '100','50', '0', \n",
    "                                          '50', '100', '150', '200'],\n",
    "                                \n",
    "                              title = 'Population in Hundreds',\n",
    "                              title_font_size = 14)\n",
    "                 )\n",
    "  \n",
    "fig.show()"
   ]
  },
  {
   "cell_type": "code",
   "execution_count": 225,
   "metadata": {},
   "outputs": [
    {
     "data": {
      "text/html": [
       "<div>\n",
       "<style scoped>\n",
       "    .dataframe tbody tr th:only-of-type {\n",
       "        vertical-align: middle;\n",
       "    }\n",
       "\n",
       "    .dataframe tbody tr th {\n",
       "        vertical-align: top;\n",
       "    }\n",
       "\n",
       "    .dataframe thead th {\n",
       "        text-align: right;\n",
       "    }\n",
       "</style>\n",
       "<table border=\"1\" class=\"dataframe\">\n",
       "  <thead>\n",
       "    <tr style=\"text-align: right;\">\n",
       "      <th></th>\n",
       "      <th>Label (Grouping)</th>\n",
       "      <th>Census Tract 64, District of Columbia, District of Columbia!!Total!!Estimate</th>\n",
       "      <th>Census Tract 64, District of Columbia, District of Columbia!!Below poverty level!!Estimate</th>\n",
       "      <th>Census Tract 64, District of Columbia, District of Columbia!!Percent below poverty level!!Estimate</th>\n",
       "      <th>Census Tract 102.01, District of Columbia, District of Columbia!!Total!!Estimate</th>\n",
       "      <th>Census Tract 102.01, District of Columbia, District of Columbia!!Below poverty level!!Estimate</th>\n",
       "      <th>Census Tract 102.01, District of Columbia, District of Columbia!!Percent below poverty level!!Estimate</th>\n",
       "      <th>Census Tract 102.02, District of Columbia, District of Columbia!!Total!!Estimate</th>\n",
       "      <th>Census Tract 102.02, District of Columbia, District of Columbia!!Below poverty level!!Estimate</th>\n",
       "      <th>Census Tract 102.02, District of Columbia, District of Columbia!!Percent below poverty level!!Estimate</th>\n",
       "      <th>Census Tract 105, District of Columbia, District of Columbia!!Total!!Estimate</th>\n",
       "      <th>Census Tract 105, District of Columbia, District of Columbia!!Below poverty level!!Estimate</th>\n",
       "      <th>Census Tract 105, District of Columbia, District of Columbia!!Percent below poverty level!!Estimate</th>\n",
       "      <th>Census Tract 110.01, District of Columbia, District of Columbia!!Total!!Estimate</th>\n",
       "      <th>Census Tract 110.01, District of Columbia, District of Columbia!!Below poverty level!!Estimate</th>\n",
       "      <th>Census Tract 110.01, District of Columbia, District of Columbia!!Percent below poverty level!!Estimate</th>\n",
       "      <th>Census Tract 110.02, District of Columbia, District of Columbia!!Total!!Estimate</th>\n",
       "      <th>Census Tract 110.02, District of Columbia, District of Columbia!!Below poverty level!!Estimate</th>\n",
       "      <th>Census Tract 110.02, District of Columbia, District of Columbia!!Percent below poverty level!!Estimate</th>\n",
       "    </tr>\n",
       "  </thead>\n",
       "  <tbody>\n",
       "    <tr>\n",
       "      <th>0</th>\n",
       "      <td>Population for whom poverty status is determined</td>\n",
       "      <td>2,418</td>\n",
       "      <td>1,046</td>\n",
       "      <td>43.3%</td>\n",
       "      <td>2,522</td>\n",
       "      <td>153</td>\n",
       "      <td>6.1%</td>\n",
       "      <td>1,930</td>\n",
       "      <td>138</td>\n",
       "      <td>7.2%</td>\n",
       "      <td>4,027</td>\n",
       "      <td>841</td>\n",
       "      <td>20.9%</td>\n",
       "      <td>2,385</td>\n",
       "      <td>64</td>\n",
       "      <td>2.7%</td>\n",
       "      <td>1,469</td>\n",
       "      <td>90</td>\n",
       "      <td>6.1%</td>\n",
       "    </tr>\n",
       "    <tr>\n",
       "      <th>1</th>\n",
       "      <td>AGE</td>\n",
       "      <td>NaN</td>\n",
       "      <td>NaN</td>\n",
       "      <td>NaN</td>\n",
       "      <td>NaN</td>\n",
       "      <td>NaN</td>\n",
       "      <td>NaN</td>\n",
       "      <td>NaN</td>\n",
       "      <td>NaN</td>\n",
       "      <td>NaN</td>\n",
       "      <td>NaN</td>\n",
       "      <td>NaN</td>\n",
       "      <td>NaN</td>\n",
       "      <td>NaN</td>\n",
       "      <td>NaN</td>\n",
       "      <td>NaN</td>\n",
       "      <td>NaN</td>\n",
       "      <td>NaN</td>\n",
       "      <td>NaN</td>\n",
       "    </tr>\n",
       "    <tr>\n",
       "      <th>2</th>\n",
       "      <td>Under 18 years</td>\n",
       "      <td>466</td>\n",
       "      <td>317</td>\n",
       "      <td>68.0%</td>\n",
       "      <td>211</td>\n",
       "      <td>0</td>\n",
       "      <td>0.0%</td>\n",
       "      <td>207</td>\n",
       "      <td>14</td>\n",
       "      <td>6.8%</td>\n",
       "      <td>373</td>\n",
       "      <td>157</td>\n",
       "      <td>42.1%</td>\n",
       "      <td>65</td>\n",
       "      <td>0</td>\n",
       "      <td>0.0%</td>\n",
       "      <td>40</td>\n",
       "      <td>0</td>\n",
       "      <td>0.0%</td>\n",
       "    </tr>\n",
       "    <tr>\n",
       "      <th>3</th>\n",
       "      <td>Under 5 years</td>\n",
       "      <td>164</td>\n",
       "      <td>96</td>\n",
       "      <td>58.5%</td>\n",
       "      <td>0</td>\n",
       "      <td>0</td>\n",
       "      <td>-</td>\n",
       "      <td>163</td>\n",
       "      <td>0</td>\n",
       "      <td>0.0%</td>\n",
       "      <td>210</td>\n",
       "      <td>49</td>\n",
       "      <td>23.3%</td>\n",
       "      <td>54</td>\n",
       "      <td>0</td>\n",
       "      <td>0.0%</td>\n",
       "      <td>40</td>\n",
       "      <td>0</td>\n",
       "      <td>0.0%</td>\n",
       "    </tr>\n",
       "    <tr>\n",
       "      <th>4</th>\n",
       "      <td>5 to 17 years</td>\n",
       "      <td>302</td>\n",
       "      <td>221</td>\n",
       "      <td>73.2%</td>\n",
       "      <td>211</td>\n",
       "      <td>0</td>\n",
       "      <td>0.0%</td>\n",
       "      <td>44</td>\n",
       "      <td>14</td>\n",
       "      <td>31.8%</td>\n",
       "      <td>163</td>\n",
       "      <td>108</td>\n",
       "      <td>66.3%</td>\n",
       "      <td>11</td>\n",
       "      <td>0</td>\n",
       "      <td>0.0%</td>\n",
       "      <td>0</td>\n",
       "      <td>0</td>\n",
       "      <td>-</td>\n",
       "    </tr>\n",
       "    <tr>\n",
       "      <th>5</th>\n",
       "      <td>Related children of householder un...</td>\n",
       "      <td>466</td>\n",
       "      <td>317</td>\n",
       "      <td>68.0%</td>\n",
       "      <td>211</td>\n",
       "      <td>0</td>\n",
       "      <td>0.0%</td>\n",
       "      <td>193</td>\n",
       "      <td>0</td>\n",
       "      <td>0.0%</td>\n",
       "      <td>373</td>\n",
       "      <td>157</td>\n",
       "      <td>42.1%</td>\n",
       "      <td>65</td>\n",
       "      <td>0</td>\n",
       "      <td>0.0%</td>\n",
       "      <td>40</td>\n",
       "      <td>0</td>\n",
       "      <td>0.0%</td>\n",
       "    </tr>\n",
       "    <tr>\n",
       "      <th>6</th>\n",
       "      <td>18 to 64 years</td>\n",
       "      <td>1,595</td>\n",
       "      <td>591</td>\n",
       "      <td>37.1%</td>\n",
       "      <td>2,076</td>\n",
       "      <td>125</td>\n",
       "      <td>6.0%</td>\n",
       "      <td>1,379</td>\n",
       "      <td>112</td>\n",
       "      <td>8.1%</td>\n",
       "      <td>3,367</td>\n",
       "      <td>623</td>\n",
       "      <td>18.5%</td>\n",
       "      <td>2,059</td>\n",
       "      <td>42</td>\n",
       "      <td>2.0%</td>\n",
       "      <td>998</td>\n",
       "      <td>41</td>\n",
       "      <td>4.1%</td>\n",
       "    </tr>\n",
       "    <tr>\n",
       "      <th>7</th>\n",
       "      <td>18 to 34 years</td>\n",
       "      <td>782</td>\n",
       "      <td>253</td>\n",
       "      <td>32.4%</td>\n",
       "      <td>1,200</td>\n",
       "      <td>107</td>\n",
       "      <td>8.9%</td>\n",
       "      <td>671</td>\n",
       "      <td>90</td>\n",
       "      <td>13.4%</td>\n",
       "      <td>1,554</td>\n",
       "      <td>340</td>\n",
       "      <td>21.9%</td>\n",
       "      <td>941</td>\n",
       "      <td>0</td>\n",
       "      <td>0.0%</td>\n",
       "      <td>282</td>\n",
       "      <td>0</td>\n",
       "      <td>0.0%</td>\n",
       "    </tr>\n",
       "    <tr>\n",
       "      <th>8</th>\n",
       "      <td>35 to 64 years</td>\n",
       "      <td>813</td>\n",
       "      <td>338</td>\n",
       "      <td>41.6%</td>\n",
       "      <td>876</td>\n",
       "      <td>18</td>\n",
       "      <td>2.1%</td>\n",
       "      <td>708</td>\n",
       "      <td>22</td>\n",
       "      <td>3.1%</td>\n",
       "      <td>1,813</td>\n",
       "      <td>283</td>\n",
       "      <td>15.6%</td>\n",
       "      <td>1,118</td>\n",
       "      <td>42</td>\n",
       "      <td>3.8%</td>\n",
       "      <td>716</td>\n",
       "      <td>41</td>\n",
       "      <td>5.7%</td>\n",
       "    </tr>\n",
       "    <tr>\n",
       "      <th>9</th>\n",
       "      <td>60 years and over</td>\n",
       "      <td>457</td>\n",
       "      <td>153</td>\n",
       "      <td>33.5%</td>\n",
       "      <td>309</td>\n",
       "      <td>45</td>\n",
       "      <td>14.6%</td>\n",
       "      <td>474</td>\n",
       "      <td>12</td>\n",
       "      <td>2.5%</td>\n",
       "      <td>464</td>\n",
       "      <td>61</td>\n",
       "      <td>13.1%</td>\n",
       "      <td>451</td>\n",
       "      <td>42</td>\n",
       "      <td>9.3%</td>\n",
       "      <td>523</td>\n",
       "      <td>49</td>\n",
       "      <td>9.4%</td>\n",
       "    </tr>\n",
       "    <tr>\n",
       "      <th>10</th>\n",
       "      <td>65 years and over</td>\n",
       "      <td>357</td>\n",
       "      <td>138</td>\n",
       "      <td>38.7%</td>\n",
       "      <td>235</td>\n",
       "      <td>28</td>\n",
       "      <td>11.9%</td>\n",
       "      <td>344</td>\n",
       "      <td>12</td>\n",
       "      <td>3.5%</td>\n",
       "      <td>287</td>\n",
       "      <td>61</td>\n",
       "      <td>21.3%</td>\n",
       "      <td>261</td>\n",
       "      <td>22</td>\n",
       "      <td>8.4%</td>\n",
       "      <td>431</td>\n",
       "      <td>49</td>\n",
       "      <td>11.4%</td>\n",
       "    </tr>\n",
       "    <tr>\n",
       "      <th>11</th>\n",
       "      <td>SEX</td>\n",
       "      <td>NaN</td>\n",
       "      <td>NaN</td>\n",
       "      <td>NaN</td>\n",
       "      <td>NaN</td>\n",
       "      <td>NaN</td>\n",
       "      <td>NaN</td>\n",
       "      <td>NaN</td>\n",
       "      <td>NaN</td>\n",
       "      <td>NaN</td>\n",
       "      <td>NaN</td>\n",
       "      <td>NaN</td>\n",
       "      <td>NaN</td>\n",
       "      <td>NaN</td>\n",
       "      <td>NaN</td>\n",
       "      <td>NaN</td>\n",
       "      <td>NaN</td>\n",
       "      <td>NaN</td>\n",
       "      <td>NaN</td>\n",
       "    </tr>\n",
       "    <tr>\n",
       "      <th>12</th>\n",
       "      <td>Male</td>\n",
       "      <td>1,116</td>\n",
       "      <td>339</td>\n",
       "      <td>30.4%</td>\n",
       "      <td>1,450</td>\n",
       "      <td>60</td>\n",
       "      <td>4.1%</td>\n",
       "      <td>851</td>\n",
       "      <td>52</td>\n",
       "      <td>6.1%</td>\n",
       "      <td>1,950</td>\n",
       "      <td>464</td>\n",
       "      <td>23.8%</td>\n",
       "      <td>1,108</td>\n",
       "      <td>0</td>\n",
       "      <td>0.0%</td>\n",
       "      <td>647</td>\n",
       "      <td>0</td>\n",
       "      <td>0.0%</td>\n",
       "    </tr>\n",
       "    <tr>\n",
       "      <th>13</th>\n",
       "      <td>Female</td>\n",
       "      <td>1,302</td>\n",
       "      <td>707</td>\n",
       "      <td>54.3%</td>\n",
       "      <td>1,072</td>\n",
       "      <td>93</td>\n",
       "      <td>8.7%</td>\n",
       "      <td>1,079</td>\n",
       "      <td>86</td>\n",
       "      <td>8.0%</td>\n",
       "      <td>2,077</td>\n",
       "      <td>377</td>\n",
       "      <td>18.2%</td>\n",
       "      <td>1,277</td>\n",
       "      <td>64</td>\n",
       "      <td>5.0%</td>\n",
       "      <td>822</td>\n",
       "      <td>90</td>\n",
       "      <td>10.9%</td>\n",
       "    </tr>\n",
       "    <tr>\n",
       "      <th>14</th>\n",
       "      <td>RACE AND HISPANIC OR LATINO ORIGIN</td>\n",
       "      <td>NaN</td>\n",
       "      <td>NaN</td>\n",
       "      <td>NaN</td>\n",
       "      <td>NaN</td>\n",
       "      <td>NaN</td>\n",
       "      <td>NaN</td>\n",
       "      <td>NaN</td>\n",
       "      <td>NaN</td>\n",
       "      <td>NaN</td>\n",
       "      <td>NaN</td>\n",
       "      <td>NaN</td>\n",
       "      <td>NaN</td>\n",
       "      <td>NaN</td>\n",
       "      <td>NaN</td>\n",
       "      <td>NaN</td>\n",
       "      <td>NaN</td>\n",
       "      <td>NaN</td>\n",
       "      <td>NaN</td>\n",
       "    </tr>\n",
       "    <tr>\n",
       "      <th>15</th>\n",
       "      <td>White alone</td>\n",
       "      <td>549</td>\n",
       "      <td>41</td>\n",
       "      <td>7.5%</td>\n",
       "      <td>1,313</td>\n",
       "      <td>46</td>\n",
       "      <td>3.5%</td>\n",
       "      <td>951</td>\n",
       "      <td>76</td>\n",
       "      <td>8.0%</td>\n",
       "      <td>2,051</td>\n",
       "      <td>66</td>\n",
       "      <td>3.2%</td>\n",
       "      <td>1,420</td>\n",
       "      <td>0</td>\n",
       "      <td>0.0%</td>\n",
       "      <td>1,051</td>\n",
       "      <td>90</td>\n",
       "      <td>8.6%</td>\n",
       "    </tr>\n",
       "    <tr>\n",
       "      <th>16</th>\n",
       "      <td>Black or African American alone</td>\n",
       "      <td>1,769</td>\n",
       "      <td>983</td>\n",
       "      <td>55.6%</td>\n",
       "      <td>695</td>\n",
       "      <td>74</td>\n",
       "      <td>10.6%</td>\n",
       "      <td>628</td>\n",
       "      <td>25</td>\n",
       "      <td>4.0%</td>\n",
       "      <td>1,460</td>\n",
       "      <td>667</td>\n",
       "      <td>45.7%</td>\n",
       "      <td>791</td>\n",
       "      <td>22</td>\n",
       "      <td>2.8%</td>\n",
       "      <td>237</td>\n",
       "      <td>0</td>\n",
       "      <td>0.0%</td>\n",
       "    </tr>\n",
       "    <tr>\n",
       "      <th>17</th>\n",
       "      <td>American Indian and Alaska Native alone</td>\n",
       "      <td>0</td>\n",
       "      <td>0</td>\n",
       "      <td>-</td>\n",
       "      <td>0</td>\n",
       "      <td>0</td>\n",
       "      <td>-</td>\n",
       "      <td>0</td>\n",
       "      <td>0</td>\n",
       "      <td>-</td>\n",
       "      <td>0</td>\n",
       "      <td>0</td>\n",
       "      <td>-</td>\n",
       "      <td>0</td>\n",
       "      <td>0</td>\n",
       "      <td>-</td>\n",
       "      <td>0</td>\n",
       "      <td>0</td>\n",
       "      <td>-</td>\n",
       "    </tr>\n",
       "    <tr>\n",
       "      <th>18</th>\n",
       "      <td>Asian alone</td>\n",
       "      <td>38</td>\n",
       "      <td>0</td>\n",
       "      <td>0.0%</td>\n",
       "      <td>157</td>\n",
       "      <td>33</td>\n",
       "      <td>21.0%</td>\n",
       "      <td>71</td>\n",
       "      <td>9</td>\n",
       "      <td>12.7%</td>\n",
       "      <td>137</td>\n",
       "      <td>20</td>\n",
       "      <td>14.6%</td>\n",
       "      <td>58</td>\n",
       "      <td>0</td>\n",
       "      <td>0.0%</td>\n",
       "      <td>60</td>\n",
       "      <td>0</td>\n",
       "      <td>0.0%</td>\n",
       "    </tr>\n",
       "    <tr>\n",
       "      <th>19</th>\n",
       "      <td>Native Hawaiian and Other Pacific Isla...</td>\n",
       "      <td>0</td>\n",
       "      <td>0</td>\n",
       "      <td>-</td>\n",
       "      <td>0</td>\n",
       "      <td>0</td>\n",
       "      <td>-</td>\n",
       "      <td>0</td>\n",
       "      <td>0</td>\n",
       "      <td>-</td>\n",
       "      <td>14</td>\n",
       "      <td>0</td>\n",
       "      <td>0.0%</td>\n",
       "      <td>0</td>\n",
       "      <td>0</td>\n",
       "      <td>-</td>\n",
       "      <td>0</td>\n",
       "      <td>0</td>\n",
       "      <td>-</td>\n",
       "    </tr>\n",
       "  </tbody>\n",
       "</table>\n",
       "</div>"
      ],
      "text/plain": [
       "                                     Label (Grouping)  \\\n",
       "0    Population for whom poverty status is determined   \n",
       "1                                                 AGE   \n",
       "2                                      Under 18 years   \n",
       "3                                       Under 5 years   \n",
       "4                                       5 to 17 years   \n",
       "5               Related children of householder un...   \n",
       "6                                      18 to 64 years   \n",
       "7                                      18 to 34 years   \n",
       "8                                      35 to 64 years   \n",
       "9                                   60 years and over   \n",
       "10                                  65 years and over   \n",
       "11                                                SEX   \n",
       "12                                               Male   \n",
       "13                                             Female   \n",
       "14                 RACE AND HISPANIC OR LATINO ORIGIN   \n",
       "15                                        White alone   \n",
       "16                    Black or African American alone   \n",
       "17            American Indian and Alaska Native alone   \n",
       "18                                        Asian alone   \n",
       "19          Native Hawaiian and Other Pacific Isla...   \n",
       "\n",
       "   Census Tract 64, District of Columbia, District of Columbia!!Total!!Estimate  \\\n",
       "0                                               2,418                             \n",
       "1                                                 NaN                             \n",
       "2                                                 466                             \n",
       "3                                                 164                             \n",
       "4                                                 302                             \n",
       "5                                                 466                             \n",
       "6                                               1,595                             \n",
       "7                                                 782                             \n",
       "8                                                 813                             \n",
       "9                                                 457                             \n",
       "10                                                357                             \n",
       "11                                                NaN                             \n",
       "12                                              1,116                             \n",
       "13                                              1,302                             \n",
       "14                                                NaN                             \n",
       "15                                                549                             \n",
       "16                                              1,769                             \n",
       "17                                                  0                             \n",
       "18                                                 38                             \n",
       "19                                                  0                             \n",
       "\n",
       "   Census Tract 64, District of Columbia, District of Columbia!!Below poverty level!!Estimate  \\\n",
       "0                                               1,046                                           \n",
       "1                                                 NaN                                           \n",
       "2                                                 317                                           \n",
       "3                                                  96                                           \n",
       "4                                                 221                                           \n",
       "5                                                 317                                           \n",
       "6                                                 591                                           \n",
       "7                                                 253                                           \n",
       "8                                                 338                                           \n",
       "9                                                 153                                           \n",
       "10                                                138                                           \n",
       "11                                                NaN                                           \n",
       "12                                                339                                           \n",
       "13                                                707                                           \n",
       "14                                                NaN                                           \n",
       "15                                                 41                                           \n",
       "16                                                983                                           \n",
       "17                                                  0                                           \n",
       "18                                                  0                                           \n",
       "19                                                  0                                           \n",
       "\n",
       "   Census Tract 64, District of Columbia, District of Columbia!!Percent below poverty level!!Estimate  \\\n",
       "0                                               43.3%                                                   \n",
       "1                                                 NaN                                                   \n",
       "2                                               68.0%                                                   \n",
       "3                                               58.5%                                                   \n",
       "4                                               73.2%                                                   \n",
       "5                                               68.0%                                                   \n",
       "6                                               37.1%                                                   \n",
       "7                                               32.4%                                                   \n",
       "8                                               41.6%                                                   \n",
       "9                                               33.5%                                                   \n",
       "10                                              38.7%                                                   \n",
       "11                                                NaN                                                   \n",
       "12                                              30.4%                                                   \n",
       "13                                              54.3%                                                   \n",
       "14                                                NaN                                                   \n",
       "15                                               7.5%                                                   \n",
       "16                                              55.6%                                                   \n",
       "17                                                  -                                                   \n",
       "18                                               0.0%                                                   \n",
       "19                                                  -                                                   \n",
       "\n",
       "   Census Tract 102.01, District of Columbia, District of Columbia!!Total!!Estimate  \\\n",
       "0                                               2,522                                 \n",
       "1                                                 NaN                                 \n",
       "2                                                 211                                 \n",
       "3                                                   0                                 \n",
       "4                                                 211                                 \n",
       "5                                                 211                                 \n",
       "6                                               2,076                                 \n",
       "7                                               1,200                                 \n",
       "8                                                 876                                 \n",
       "9                                                 309                                 \n",
       "10                                                235                                 \n",
       "11                                                NaN                                 \n",
       "12                                              1,450                                 \n",
       "13                                              1,072                                 \n",
       "14                                                NaN                                 \n",
       "15                                              1,313                                 \n",
       "16                                                695                                 \n",
       "17                                                  0                                 \n",
       "18                                                157                                 \n",
       "19                                                  0                                 \n",
       "\n",
       "   Census Tract 102.01, District of Columbia, District of Columbia!!Below poverty level!!Estimate  \\\n",
       "0                                                 153                                               \n",
       "1                                                 NaN                                               \n",
       "2                                                   0                                               \n",
       "3                                                   0                                               \n",
       "4                                                   0                                               \n",
       "5                                                   0                                               \n",
       "6                                                 125                                               \n",
       "7                                                 107                                               \n",
       "8                                                  18                                               \n",
       "9                                                  45                                               \n",
       "10                                                 28                                               \n",
       "11                                                NaN                                               \n",
       "12                                                 60                                               \n",
       "13                                                 93                                               \n",
       "14                                                NaN                                               \n",
       "15                                                 46                                               \n",
       "16                                                 74                                               \n",
       "17                                                  0                                               \n",
       "18                                                 33                                               \n",
       "19                                                  0                                               \n",
       "\n",
       "   Census Tract 102.01, District of Columbia, District of Columbia!!Percent below poverty level!!Estimate  \\\n",
       "0                                                6.1%                                                       \n",
       "1                                                 NaN                                                       \n",
       "2                                                0.0%                                                       \n",
       "3                                                   -                                                       \n",
       "4                                                0.0%                                                       \n",
       "5                                                0.0%                                                       \n",
       "6                                                6.0%                                                       \n",
       "7                                                8.9%                                                       \n",
       "8                                                2.1%                                                       \n",
       "9                                               14.6%                                                       \n",
       "10                                              11.9%                                                       \n",
       "11                                                NaN                                                       \n",
       "12                                               4.1%                                                       \n",
       "13                                               8.7%                                                       \n",
       "14                                                NaN                                                       \n",
       "15                                               3.5%                                                       \n",
       "16                                              10.6%                                                       \n",
       "17                                                  -                                                       \n",
       "18                                              21.0%                                                       \n",
       "19                                                  -                                                       \n",
       "\n",
       "   Census Tract 102.02, District of Columbia, District of Columbia!!Total!!Estimate  \\\n",
       "0                                               1,930                                 \n",
       "1                                                 NaN                                 \n",
       "2                                                 207                                 \n",
       "3                                                 163                                 \n",
       "4                                                  44                                 \n",
       "5                                                 193                                 \n",
       "6                                               1,379                                 \n",
       "7                                                 671                                 \n",
       "8                                                 708                                 \n",
       "9                                                 474                                 \n",
       "10                                                344                                 \n",
       "11                                                NaN                                 \n",
       "12                                                851                                 \n",
       "13                                              1,079                                 \n",
       "14                                                NaN                                 \n",
       "15                                                951                                 \n",
       "16                                                628                                 \n",
       "17                                                  0                                 \n",
       "18                                                 71                                 \n",
       "19                                                  0                                 \n",
       "\n",
       "   Census Tract 102.02, District of Columbia, District of Columbia!!Below poverty level!!Estimate  \\\n",
       "0                                                 138                                               \n",
       "1                                                 NaN                                               \n",
       "2                                                  14                                               \n",
       "3                                                   0                                               \n",
       "4                                                  14                                               \n",
       "5                                                   0                                               \n",
       "6                                                 112                                               \n",
       "7                                                  90                                               \n",
       "8                                                  22                                               \n",
       "9                                                  12                                               \n",
       "10                                                 12                                               \n",
       "11                                                NaN                                               \n",
       "12                                                 52                                               \n",
       "13                                                 86                                               \n",
       "14                                                NaN                                               \n",
       "15                                                 76                                               \n",
       "16                                                 25                                               \n",
       "17                                                  0                                               \n",
       "18                                                  9                                               \n",
       "19                                                  0                                               \n",
       "\n",
       "   Census Tract 102.02, District of Columbia, District of Columbia!!Percent below poverty level!!Estimate  \\\n",
       "0                                                7.2%                                                       \n",
       "1                                                 NaN                                                       \n",
       "2                                                6.8%                                                       \n",
       "3                                                0.0%                                                       \n",
       "4                                               31.8%                                                       \n",
       "5                                                0.0%                                                       \n",
       "6                                                8.1%                                                       \n",
       "7                                               13.4%                                                       \n",
       "8                                                3.1%                                                       \n",
       "9                                                2.5%                                                       \n",
       "10                                               3.5%                                                       \n",
       "11                                                NaN                                                       \n",
       "12                                               6.1%                                                       \n",
       "13                                               8.0%                                                       \n",
       "14                                                NaN                                                       \n",
       "15                                               8.0%                                                       \n",
       "16                                               4.0%                                                       \n",
       "17                                                  -                                                       \n",
       "18                                              12.7%                                                       \n",
       "19                                                  -                                                       \n",
       "\n",
       "   Census Tract 105, District of Columbia, District of Columbia!!Total!!Estimate  \\\n",
       "0                                               4,027                              \n",
       "1                                                 NaN                              \n",
       "2                                                 373                              \n",
       "3                                                 210                              \n",
       "4                                                 163                              \n",
       "5                                                 373                              \n",
       "6                                               3,367                              \n",
       "7                                               1,554                              \n",
       "8                                               1,813                              \n",
       "9                                                 464                              \n",
       "10                                                287                              \n",
       "11                                                NaN                              \n",
       "12                                              1,950                              \n",
       "13                                              2,077                              \n",
       "14                                                NaN                              \n",
       "15                                              2,051                              \n",
       "16                                              1,460                              \n",
       "17                                                  0                              \n",
       "18                                                137                              \n",
       "19                                                 14                              \n",
       "\n",
       "   Census Tract 105, District of Columbia, District of Columbia!!Below poverty level!!Estimate  \\\n",
       "0                                                 841                                            \n",
       "1                                                 NaN                                            \n",
       "2                                                 157                                            \n",
       "3                                                  49                                            \n",
       "4                                                 108                                            \n",
       "5                                                 157                                            \n",
       "6                                                 623                                            \n",
       "7                                                 340                                            \n",
       "8                                                 283                                            \n",
       "9                                                  61                                            \n",
       "10                                                 61                                            \n",
       "11                                                NaN                                            \n",
       "12                                                464                                            \n",
       "13                                                377                                            \n",
       "14                                                NaN                                            \n",
       "15                                                 66                                            \n",
       "16                                                667                                            \n",
       "17                                                  0                                            \n",
       "18                                                 20                                            \n",
       "19                                                  0                                            \n",
       "\n",
       "   Census Tract 105, District of Columbia, District of Columbia!!Percent below poverty level!!Estimate  \\\n",
       "0                                               20.9%                                                    \n",
       "1                                                 NaN                                                    \n",
       "2                                               42.1%                                                    \n",
       "3                                               23.3%                                                    \n",
       "4                                               66.3%                                                    \n",
       "5                                               42.1%                                                    \n",
       "6                                               18.5%                                                    \n",
       "7                                               21.9%                                                    \n",
       "8                                               15.6%                                                    \n",
       "9                                               13.1%                                                    \n",
       "10                                              21.3%                                                    \n",
       "11                                                NaN                                                    \n",
       "12                                              23.8%                                                    \n",
       "13                                              18.2%                                                    \n",
       "14                                                NaN                                                    \n",
       "15                                               3.2%                                                    \n",
       "16                                              45.7%                                                    \n",
       "17                                                  -                                                    \n",
       "18                                              14.6%                                                    \n",
       "19                                               0.0%                                                    \n",
       "\n",
       "   Census Tract 110.01, District of Columbia, District of Columbia!!Total!!Estimate  \\\n",
       "0                                               2,385                                 \n",
       "1                                                 NaN                                 \n",
       "2                                                  65                                 \n",
       "3                                                  54                                 \n",
       "4                                                  11                                 \n",
       "5                                                  65                                 \n",
       "6                                               2,059                                 \n",
       "7                                                 941                                 \n",
       "8                                               1,118                                 \n",
       "9                                                 451                                 \n",
       "10                                                261                                 \n",
       "11                                                NaN                                 \n",
       "12                                              1,108                                 \n",
       "13                                              1,277                                 \n",
       "14                                                NaN                                 \n",
       "15                                              1,420                                 \n",
       "16                                                791                                 \n",
       "17                                                  0                                 \n",
       "18                                                 58                                 \n",
       "19                                                  0                                 \n",
       "\n",
       "   Census Tract 110.01, District of Columbia, District of Columbia!!Below poverty level!!Estimate  \\\n",
       "0                                                  64                                               \n",
       "1                                                 NaN                                               \n",
       "2                                                   0                                               \n",
       "3                                                   0                                               \n",
       "4                                                   0                                               \n",
       "5                                                   0                                               \n",
       "6                                                  42                                               \n",
       "7                                                   0                                               \n",
       "8                                                  42                                               \n",
       "9                                                  42                                               \n",
       "10                                                 22                                               \n",
       "11                                                NaN                                               \n",
       "12                                                  0                                               \n",
       "13                                                 64                                               \n",
       "14                                                NaN                                               \n",
       "15                                                  0                                               \n",
       "16                                                 22                                               \n",
       "17                                                  0                                               \n",
       "18                                                  0                                               \n",
       "19                                                  0                                               \n",
       "\n",
       "   Census Tract 110.01, District of Columbia, District of Columbia!!Percent below poverty level!!Estimate  \\\n",
       "0                                                2.7%                                                       \n",
       "1                                                 NaN                                                       \n",
       "2                                                0.0%                                                       \n",
       "3                                                0.0%                                                       \n",
       "4                                                0.0%                                                       \n",
       "5                                                0.0%                                                       \n",
       "6                                                2.0%                                                       \n",
       "7                                                0.0%                                                       \n",
       "8                                                3.8%                                                       \n",
       "9                                                9.3%                                                       \n",
       "10                                               8.4%                                                       \n",
       "11                                                NaN                                                       \n",
       "12                                               0.0%                                                       \n",
       "13                                               5.0%                                                       \n",
       "14                                                NaN                                                       \n",
       "15                                               0.0%                                                       \n",
       "16                                               2.8%                                                       \n",
       "17                                                  -                                                       \n",
       "18                                               0.0%                                                       \n",
       "19                                                  -                                                       \n",
       "\n",
       "   Census Tract 110.02, District of Columbia, District of Columbia!!Total!!Estimate  \\\n",
       "0                                               1,469                                 \n",
       "1                                                 NaN                                 \n",
       "2                                                  40                                 \n",
       "3                                                  40                                 \n",
       "4                                                   0                                 \n",
       "5                                                  40                                 \n",
       "6                                                 998                                 \n",
       "7                                                 282                                 \n",
       "8                                                 716                                 \n",
       "9                                                 523                                 \n",
       "10                                                431                                 \n",
       "11                                                NaN                                 \n",
       "12                                                647                                 \n",
       "13                                                822                                 \n",
       "14                                                NaN                                 \n",
       "15                                              1,051                                 \n",
       "16                                                237                                 \n",
       "17                                                  0                                 \n",
       "18                                                 60                                 \n",
       "19                                                  0                                 \n",
       "\n",
       "   Census Tract 110.02, District of Columbia, District of Columbia!!Below poverty level!!Estimate  \\\n",
       "0                                                  90                                               \n",
       "1                                                 NaN                                               \n",
       "2                                                   0                                               \n",
       "3                                                   0                                               \n",
       "4                                                   0                                               \n",
       "5                                                   0                                               \n",
       "6                                                  41                                               \n",
       "7                                                   0                                               \n",
       "8                                                  41                                               \n",
       "9                                                  49                                               \n",
       "10                                                 49                                               \n",
       "11                                                NaN                                               \n",
       "12                                                  0                                               \n",
       "13                                                 90                                               \n",
       "14                                                NaN                                               \n",
       "15                                                 90                                               \n",
       "16                                                  0                                               \n",
       "17                                                  0                                               \n",
       "18                                                  0                                               \n",
       "19                                                  0                                               \n",
       "\n",
       "   Census Tract 110.02, District of Columbia, District of Columbia!!Percent below poverty level!!Estimate  \n",
       "0                                                6.1%                                                      \n",
       "1                                                 NaN                                                      \n",
       "2                                                0.0%                                                      \n",
       "3                                                0.0%                                                      \n",
       "4                                                   -                                                      \n",
       "5                                                0.0%                                                      \n",
       "6                                                4.1%                                                      \n",
       "7                                                0.0%                                                      \n",
       "8                                                5.7%                                                      \n",
       "9                                                9.4%                                                      \n",
       "10                                              11.4%                                                      \n",
       "11                                                NaN                                                      \n",
       "12                                               0.0%                                                      \n",
       "13                                              10.9%                                                      \n",
       "14                                                NaN                                                      \n",
       "15                                               8.6%                                                      \n",
       "16                                               0.0%                                                      \n",
       "17                                                  -                                                      \n",
       "18                                               0.0%                                                      \n",
       "19                                                  -                                                      "
      ]
     },
     "execution_count": 225,
     "metadata": {},
     "output_type": "execute_result"
    }
   ],
   "source": [
    "# Age vs poverty analysis\n",
    "\n",
    "poverty_status_df.head(20)\n"
   ]
  },
  {
   "cell_type": "code",
   "execution_count": 240,
   "metadata": {},
   "outputs": [
    {
     "data": {
      "image/png": "[encoded data removed]",
      "text/plain": [
       "<Figure size 1000x500 with 1 Axes>"
      ]
     },
     "metadata": {},
     "output_type": "display_data"
    }
   ],
   "source": [
    "# Poverty distribution\n",
    "poverty_status = poverty_status_df.iloc[0]\n",
    "poverty_status_columns = list(poverty_status_df.columns)\n",
    "\n",
    "\n",
    "x_axis = []\n",
    "y_axis = []\n",
    "\n",
    "i = 3\n",
    "while(i<len(poverty_status_columns)):\n",
    "    x_axis.append(poverty_status_columns[i].split(',')[0].replace(\"Census\", \"\"))\n",
    "    y_axis.append(float(poverty_status[i].replace('%', '')))\n",
    "    i = i+3\n",
    "\n",
    "fig = plt.figure(figsize = (10, 5))\n",
    " \n",
    "# creating the bar plot\n",
    "plt.bar(x_axis, y_axis, color ='maroon',\n",
    "        width = 0.6)\n",
    " \n",
    "plt.xlabel(\"Area\")\n",
    "plt.ylabel(\"Percentage below poverty level\")\n",
    "plt.title(\"Poverty status per location\")\n",
    "plt.show()\n",
    "\n",
    "\n"
   ]
  },
  {
   "cell_type": "code",
   "execution_count": 262,
   "metadata": {},
   "outputs": [
    {
     "data": {
      "image/png": "[encoded data removed]",
      "text/plain": [
       "<Figure size 640x480 with 1 Axes>"
      ]
     },
     "metadata": {},
     "output_type": "display_data"
    }
   ],
   "source": [
    "# Poverty distribution\n",
    "poverty_status_male = poverty_status_df.iloc[12]\n",
    "poverty_status_female = poverty_status_df.iloc[13]\n",
    "\n",
    "poverty_status_columns = list(poverty_status_df.columns)\n",
    "\n",
    "\n",
    "x_axis = []\n",
    "y_axis1 = []\n",
    "y_axis2 = []\n",
    "\n",
    "i = 3\n",
    "while(i<len(poverty_status_columns)):\n",
    "    x_axis.append(poverty_status_columns[i].split(',')[0].replace(\"Census\", \"\"))\n",
    "    y_axis1.append(float(poverty_status_male[i].replace('%', '')))\n",
    "    y_axis2.append(float(poverty_status_female[i].replace('%', '')))\n",
    "    i = i+3\n",
    "\n",
    "\n",
    "import matplotlib.pyplot as plt\n",
    "import numpy as np\n",
    "  \n",
    "# create data\n",
    "x = np.arange(6)\n",
    "width = 0.2\n",
    "  \n",
    "# plot data in grouped manner of bar type\n",
    "plt.bar(x-0.2, y_axis1, width, color='blue')\n",
    "plt.bar(x, y_axis2, width, color='red')\n",
    "plt.xticks(x, x_axis, rotation=30, ha='right')\n",
    "plt.xlabel(\"Area\")\n",
    "plt.ylabel(\"Percentage below poverty level\")\n",
    "plt.legend([\"Male\", \"Female\"])\n",
    "plt.show()"
   ]
  },
  {
   "cell_type": "code",
   "execution_count": null,
   "metadata": {},
   "outputs": [],
   "source": []
  }
 ],
 "metadata": {
  "kernelspec": {
   "display_name": "Python 3",
   "language": "python",
   "name": "python3"
  },
  "language_info": {
   "codemirror_mode": {
    "name": "ipython",
    "version": 3
   },
   "file_extension": ".py",
   "mimetype": "text/x-python",
   "name": "python",
   "nbconvert_exporter": "python",
   "pygments_lexer": "ipython3",
   "version": "3.9.6"
  },
  "orig_nbformat": 4,
  "vscode": {
   "interpreter": {
    "hash": "31f2aee4e71d21fbe5cf8b01ff0e069b9275f58929596ceb00d14d90e3e16cd6"
   }
  }
 },
 "nbformat": 4,
 "nbformat_minor": 2
}
