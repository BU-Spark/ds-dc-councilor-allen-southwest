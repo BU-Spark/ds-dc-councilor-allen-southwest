{
 "cells": [
  {
   "cell_type": "code",
   "execution_count": 14,
   "id": "94111e5d",
   "metadata": {},
   "outputs": [],
   "source": [
    "import pandas as pd\n",
    "import matplotlib.pyplot as plt\n",
    "import numpy as np"
   ]
  },
  {
   "cell_type": "code",
   "execution_count": 42,
   "id": "25ddaa3f",
   "metadata": {},
   "outputs": [],
   "source": [
    "PATH = \"../data/census/\"\n",
    "race_df = pd.read_csv(PATH + \"race.csv\")\n",
    "sw_finance_df = pd.read_csv(PATH + \"SW_finance_char.csv\")\n",
    "financial_characteristics_df = pd.read_csv(PATH + \"financial_characteristics.csv\")\n",
    "age_and_sex_df = pd.read_csv(PATH + \"age_and_sex.csv\")\n",
    "food_stamps_df = pd.read_csv(PATH + \"food_stamps_snap.csv\")\n",
    "mean_income_df = pd.read_csv(PATH + \"mean_income.csv\")\n",
    "poverty_status_df = pd.read_csv(PATH + \"poverty_status.csv\")"
   ]
  },
  {
   "cell_type": "code",
   "execution_count": 115,
   "id": "2c1d77b1",
   "metadata": {},
   "outputs": [],
   "source": [
    "def fix_labels(df):\n",
    "    df[\"Label (Grouping)\"] = df[\"Label (Grouping)\"].map(lambda x: x.lstrip('\\xa0'))\n",
    "\n",
    "def get_topics_idcs(df):\n",
    "    return df[df.isna().any(axis=1)].index\n",
    "\n",
    "def get_topics(df):\n",
    "    # Get IDCS of Grouping Rows\n",
    "    idcs = get_topics_idcs(df)\n",
    "    idx_pairs = [(idcs[i], idcs[i+1]) if i < (len(idcs) - 1) else (idcs[i],) for i in range(len(idcs))]\n",
    "    \n",
    "    # Format the labels\n",
    "    fix_labels(df)\n",
    "    \n",
    "    labels = df.iloc[idcs][\"Label (Grouping)\"].values\n",
    "    return list(zip(idx_pairs, labels))\n"
   ]
  },
  {
   "cell_type": "code",
   "execution_count": 151,
   "id": "291995e4",
   "metadata": {},
   "outputs": [],
   "source": [
    "all_poverty_subtopics = get_topics(poverty_status_df)"
   ]
  },
  {
   "cell_type": "code",
   "execution_count": 152,
   "id": "93ce2c99",
   "metadata": {},
   "outputs": [
    {
     "data": {
      "text/plain": [
       "[((1, 11), 'AGE'),\n",
       " ((11, 14), 'SEX'),\n",
       " ((14, 24), 'RACE AND HISPANIC OR LATINO ORIGIN'),\n",
       " ((24, 30), 'EDUCATIONAL ATTAINMENT'),\n",
       " ((30, 38), 'EMPLOYMENT STATUS'),\n",
       " ((38, 43), 'WORK EXPERIENCE'),\n",
       " ((43,), 'ALL INDIVIDUALS WITH INCOME BELOW THE FOLLOWING POVERTY RATIOS')]"
      ]
     },
     "execution_count": 152,
     "metadata": {},
     "output_type": "execute_result"
    }
   ],
   "source": [
    "all_poverty_subtopics"
   ]
  },
  {
   "cell_type": "code",
   "execution_count": 145,
   "id": "9953264d",
   "metadata": {},
   "outputs": [],
   "source": [
    "def get_all_sub_dfs(df):\n",
    "    \n",
    "    poverty_status = {}\n",
    "    subtopics = []\n",
    "    \n",
    "    for subtopic_idcs, subtopic in all_poverty_subtopics:\n",
    "        if len(subtopic_idcs) == 2:\n",
    "            poverty_status[subtopic] = df.iloc[subtopic_idcs[0] + 1:subtopic_idcs[1]]\n",
    "        else:\n",
    "            poverty_status[subtopic] = df.iloc[subtopic_idcs[0] + 1:]\n",
    "            \n",
    "        poverty_status[subtopic] = poverty_status[subtopic].rename(columns={\"Label (Grouping)\": subtopic})\n",
    "        subtopics.append(subtopic)\n",
    "            \n",
    "    subtopics = '\\n'.join([subtopic for subtopic in subtopics])\n",
    "    print(\"The subtopics are:\")\n",
    "    print(subtopics)\n",
    "    \n",
    "    return poverty_status"
   ]
  },
  {
   "cell_type": "code",
   "execution_count": 146,
   "id": "cbc4d4c1",
   "metadata": {},
   "outputs": [
    {
     "name": "stdout",
     "output_type": "stream",
     "text": [
      "The subtopics are:\n",
      "AGE\n",
      "SEX\n",
      "RACE AND HISPANIC OR LATINO ORIGIN\n",
      "EDUCATIONAL ATTAINMENT\n",
      "EMPLOYMENT STATUS\n",
      "WORK EXPERIENCE\n",
      "ALL INDIVIDUALS WITH INCOME BELOW THE FOLLOWING POVERTY RATIOS\n"
     ]
    }
   ],
   "source": [
    "poverty_dfs = get_all_sub_dfs(poverty_status_df)"
   ]
  },
  {
   "cell_type": "code",
   "execution_count": 148,
   "id": "0478a44f",
   "metadata": {},
   "outputs": [
    {
     "data": {
      "text/html": [
       "<div>\n",
       "<style scoped>\n",
       "    .dataframe tbody tr th:only-of-type {\n",
       "        vertical-align: middle;\n",
       "    }\n",
       "\n",
       "    .dataframe tbody tr th {\n",
       "        vertical-align: top;\n",
       "    }\n",
       "\n",
       "    .dataframe thead th {\n",
       "        text-align: right;\n",
       "    }\n",
       "</style>\n",
       "<table border=\"1\" class=\"dataframe\">\n",
       "  <thead>\n",
       "    <tr style=\"text-align: right;\">\n",
       "      <th></th>\n",
       "      <th>EMPLOYMENT STATUS</th>\n",
       "      <th>District of Columbia!!Total!!Estimate</th>\n",
       "      <th>District of Columbia!!Below poverty level!!Estimate</th>\n",
       "      <th>District of Columbia!!Percent below poverty level!!Estimate</th>\n",
       "    </tr>\n",
       "  </thead>\n",
       "  <tbody>\n",
       "    <tr>\n",
       "      <th>31</th>\n",
       "      <td>Civilian labor force 16 years and over</td>\n",
       "      <td>379,074</td>\n",
       "      <td>29,698</td>\n",
       "      <td>7.8%</td>\n",
       "    </tr>\n",
       "    <tr>\n",
       "      <th>32</th>\n",
       "      <td>Employed</td>\n",
       "      <td>348,505</td>\n",
       "      <td>17,164</td>\n",
       "      <td>4.9%</td>\n",
       "    </tr>\n",
       "    <tr>\n",
       "      <th>33</th>\n",
       "      <td>Male</td>\n",
       "      <td>169,026</td>\n",
       "      <td>7,448</td>\n",
       "      <td>4.4%</td>\n",
       "    </tr>\n",
       "    <tr>\n",
       "      <th>34</th>\n",
       "      <td>Female</td>\n",
       "      <td>179,479</td>\n",
       "      <td>9,716</td>\n",
       "      <td>5.4%</td>\n",
       "    </tr>\n",
       "    <tr>\n",
       "      <th>35</th>\n",
       "      <td>Unemployed</td>\n",
       "      <td>30,569</td>\n",
       "      <td>12,534</td>\n",
       "      <td>41.0%</td>\n",
       "    </tr>\n",
       "    <tr>\n",
       "      <th>36</th>\n",
       "      <td>Male</td>\n",
       "      <td>16,414</td>\n",
       "      <td>5,330</td>\n",
       "      <td>32.5%</td>\n",
       "    </tr>\n",
       "    <tr>\n",
       "      <th>37</th>\n",
       "      <td>Female</td>\n",
       "      <td>14,155</td>\n",
       "      <td>7,204</td>\n",
       "      <td>50.9%</td>\n",
       "    </tr>\n",
       "  </tbody>\n",
       "</table>\n",
       "</div>"
      ],
      "text/plain": [
       "                         EMPLOYMENT STATUS  \\\n",
       "31  Civilian labor force 16 years and over   \n",
       "32                                Employed   \n",
       "33                                    Male   \n",
       "34                                  Female   \n",
       "35                              Unemployed   \n",
       "36                                    Male   \n",
       "37                                  Female   \n",
       "\n",
       "   District of Columbia!!Total!!Estimate  \\\n",
       "31                               379,074   \n",
       "32                               348,505   \n",
       "33                               169,026   \n",
       "34                               179,479   \n",
       "35                                30,569   \n",
       "36                                16,414   \n",
       "37                                14,155   \n",
       "\n",
       "   District of Columbia!!Below poverty level!!Estimate  \\\n",
       "31                                             29,698    \n",
       "32                                             17,164    \n",
       "33                                              7,448    \n",
       "34                                              9,716    \n",
       "35                                             12,534    \n",
       "36                                              5,330    \n",
       "37                                              7,204    \n",
       "\n",
       "   District of Columbia!!Percent below poverty level!!Estimate  \n",
       "31                                               7.8%           \n",
       "32                                               4.9%           \n",
       "33                                               4.4%           \n",
       "34                                               5.4%           \n",
       "35                                              41.0%           \n",
       "36                                              32.5%           \n",
       "37                                              50.9%           "
      ]
     },
     "execution_count": 148,
     "metadata": {},
     "output_type": "execute_result"
    }
   ],
   "source": [
    "poverty_dfs[\"EMPLOYMENT STATUS\"]"
   ]
  },
  {
   "cell_type": "code",
   "execution_count": null,
   "id": "d8e9dadf",
   "metadata": {},
   "outputs": [],
   "source": []
  }
 ],
 "metadata": {
  "kernelspec": {
   "display_name": "base",
   "language": "python",
   "name": "python3"
  },
  "language_info": {
   "codemirror_mode": {
    "name": "ipython",
    "version": 3
   },
   "file_extension": ".py",
   "mimetype": "text/x-python",
   "name": "python",
   "nbconvert_exporter": "python",
   "pygments_lexer": "ipython3",
   "version": "3.9.13 (main, Aug 25 2022, 23:51:50) [MSC v.1916 64 bit (AMD64)]"
  },
  "vscode": {
   "interpreter": {
    "hash": "85ce11de4cf3f78281ab07af372564ba0ab85f3ba5c26e9a2f2217fdd7970d70"
   }
  }
 },
 "nbformat": 4,
 "nbformat_minor": 5
}
